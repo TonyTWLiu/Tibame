{
 "cells": [
  {
   "cell_type": "code",
   "execution_count": 1,
   "metadata": {},
   "outputs": [
    {
     "name": "stdout",
     "output_type": "stream",
     "text": [
      "it was true!\n",
      "i will be printed in any case where x is not true\n"
     ]
    }
   ],
   "source": [
    "if True:\n",
    "    print('it was true!')\n",
    "\n",
    "x = False\n",
    "\n",
    "if x:\n",
    "    print('x is true')\n",
    "else:\n",
    "    print('i will be printed in any case where x is not true')"
   ]
  },
  {
   "cell_type": "code",
   "execution_count": 3,
   "metadata": {},
   "outputs": [
    {
     "name": "stdout",
     "output_type": "stream",
     "text": [
      "welcome to the bank!\n"
     ]
    }
   ],
   "source": [
    "loc = 'bank'\n",
    "\n",
    "if loc == 'auto shop':\n",
    "    print('welcome to the auto shop!')\n",
    "elif loc == 'bank':\n",
    "    print('welcome to the bank!')\n",
    "else:\n",
    "    print('where are you')"
   ]
  },
  {
   "cell_type": "code",
   "execution_count": 4,
   "metadata": {},
   "outputs": [
    {
     "name": "stdout",
     "output_type": "stream",
     "text": [
      "1\n",
      "2\n",
      "3\n",
      "4\n",
      "5\n",
      "6\n",
      "7\n",
      "8\n",
      "9\n",
      "10\n"
     ]
    }
   ],
   "source": [
    "l = [1,2,3,4,5,6,7,8,9,10]\n",
    "for num in l:\n",
    "    print(num)"
   ]
  },
  {
   "cell_type": "code",
   "execution_count": 6,
   "metadata": {},
   "outputs": [
    {
     "name": "stdout",
     "output_type": "stream",
     "text": [
      "1\n",
      "2\n",
      "3\n",
      "4\n",
      "5\n",
      "6\n",
      "7\n",
      "8\n",
      "9\n",
      "10\n"
     ]
    }
   ],
   "source": [
    "for num in range(1,11):\n",
    "    print(num)"
   ]
  },
  {
   "cell_type": "code",
   "execution_count": 8,
   "metadata": {},
   "outputs": [
    {
     "name": "stdout",
     "output_type": "stream",
     "text": [
      "55\n"
     ]
    }
   ],
   "source": [
    "list_sum = 0\n",
    "\n",
    "for num in l:\n",
    "    list_sum = list_sum + num\n",
    "print(list_sum)"
   ]
  },
  {
   "cell_type": "code",
   "execution_count": 10,
   "metadata": {},
   "outputs": [
    {
     "name": "stdout",
     "output_type": "stream",
     "text": [
      "55\n"
     ]
    }
   ],
   "source": [
    "list_sum = 0\n",
    "\n",
    "for num in l:\n",
    "    list_sum += num\n",
    "print(list_sum)"
   ]
  },
  {
   "cell_type": "code",
   "execution_count": 12,
   "metadata": {},
   "outputs": [
    {
     "name": "stdout",
     "output_type": "stream",
     "text": [
      "T\n",
      "h\n",
      "i\n",
      "s\n",
      " \n",
      "i\n",
      "s\n",
      " \n",
      "a\n",
      " \n",
      "s\n",
      "t\n",
      "r\n",
      "i\n",
      "n\n",
      "g\n",
      ".\n"
     ]
    }
   ],
   "source": [
    "for letter in 'This is a string.':\n",
    "    print(letter)"
   ]
  },
  {
   "cell_type": "code",
   "execution_count": 13,
   "metadata": {},
   "outputs": [
    {
     "name": "stdout",
     "output_type": "stream",
     "text": [
      "1\n",
      "2\n",
      "3\n",
      "4\n",
      "5\n"
     ]
    }
   ],
   "source": [
    "tup = (1,2,3,4,5)\n",
    "for t in tup:\n",
    "    print(t)"
   ]
  },
  {
   "cell_type": "code",
   "execution_count": 14,
   "metadata": {},
   "outputs": [
    {
     "name": "stdout",
     "output_type": "stream",
     "text": [
      "(2, 4)\n",
      "(6, 8)\n",
      "(10, 12)\n"
     ]
    }
   ],
   "source": [
    "l = [(2,4),(6,8),(10,12)]\n",
    "\n",
    "for tup in l:\n",
    "    print(tup)"
   ]
  },
  {
   "cell_type": "code",
   "execution_count": 15,
   "metadata": {},
   "outputs": [
    {
     "name": "stdout",
     "output_type": "stream",
     "text": [
      "2\n",
      "6\n",
      "10\n"
     ]
    }
   ],
   "source": [
    "\n",
    "for (t1, t2) in l:\n",
    "    print(t1)"
   ]
  },
  {
   "cell_type": "code",
   "execution_count": 16,
   "metadata": {},
   "outputs": [
    {
     "name": "stdout",
     "output_type": "stream",
     "text": [
      "k1\n",
      "k2\n",
      "k3\n"
     ]
    }
   ],
   "source": [
    "d = {'k1':1, 'k2':2, 'k3':3}\n",
    "\n",
    "for item in d:\n",
    "    print(item)"
   ]
  },
  {
   "cell_type": "code",
   "execution_count": 17,
   "metadata": {},
   "outputs": [
    {
     "name": "stdout",
     "output_type": "stream",
     "text": [
      "1\n",
      "2\n",
      "3\n"
     ]
    }
   ],
   "source": [
    "for item in d:\n",
    "    print(d[item])"
   ]
  },
  {
   "cell_type": "code",
   "execution_count": 19,
   "metadata": {},
   "outputs": [
    {
     "name": "stdout",
     "output_type": "stream",
     "text": [
      "k1 1\n",
      "k2 2\n",
      "k3 3\n"
     ]
    }
   ],
   "source": [
    "for k,v in d.items():\n",
    "    print(k,v)"
   ]
  },
  {
   "cell_type": "code",
   "execution_count": 20,
   "metadata": {},
   "outputs": [
    {
     "name": "stdout",
     "output_type": "stream",
     "text": [
      "1\n",
      "2\n"
     ]
    }
   ],
   "source": [
    "s = [1,2,3,4,5]\n",
    "s_iter = iter(s)\n",
    "print(next(s_iter))\n",
    "print(next(s_iter))\n"
   ]
  },
  {
   "cell_type": "code",
   "execution_count": 27,
   "metadata": {},
   "outputs": [
    {
     "name": "stdout",
     "output_type": "stream",
     "text": [
      "x is currently: 0\n",
      "x is still less than 10, adding 1 to x\n",
      "continuing ...\n",
      "x is currently: 1\n",
      "x is still less than 10, adding 1 to x\n",
      "continuing ...\n",
      "x is currently: 2\n",
      "x is still less than 10, adding 1 to x\n",
      "x == 3\n",
      "x is currently: 3\n",
      "x is still less than 10, adding 1 to x\n",
      "continuing ...\n",
      "x is currently: 4\n",
      "x is still less than 10, adding 1 to x\n",
      "continuing ...\n",
      "x is currently: 5\n",
      "x is still less than 10, adding 1 to x\n",
      "continuing ...\n",
      "x is currently: 6\n",
      "x is still less than 10, adding 1 to x\n",
      "continuing ...\n",
      "x is currently: 7\n",
      "x is still less than 10, adding 1 to x\n",
      "continuing ...\n",
      "x is currently: 8\n",
      "x is still less than 10, adding 1 to x\n",
      "continuing ...\n",
      "x is currently: 9\n",
      "x is still less than 10, adding 1 to x\n",
      "continuing ...\n"
     ]
    }
   ],
   "source": [
    "x = 0\n",
    "while x < 10:\n",
    "    print('x is currently:', x)\n",
    "    print('x is still less than 10, adding 1 to x')\n",
    "    x +=1\n",
    "    if x == 3:\n",
    "        print('x == 3')\n",
    "    else:\n",
    "        print(\"continuing ...\")\n",
    "        pass"
   ]
  },
  {
   "cell_type": "code",
   "execution_count": 28,
   "metadata": {},
   "outputs": [
    {
     "name": "stdout",
     "output_type": "stream",
     "text": [
      "x is currently: 0\n",
      "x is still less than 10, adding 1 to x\n",
      "continuing ...\n",
      "x is currently: 1\n",
      "x is still less than 10, adding 1 to x\n",
      "continuing ...\n",
      "x is currently: 2\n",
      "x is still less than 10, adding 1 to x\n",
      "x == 3\n",
      "x is currently: 3\n",
      "x is still less than 10, adding 1 to x\n",
      "continuing ...\n",
      "x is currently: 4\n",
      "x is still less than 10, adding 1 to x\n",
      "continuing ...\n",
      "x is currently: 5\n",
      "x is still less than 10, adding 1 to x\n",
      "continuing ...\n",
      "x is currently: 6\n",
      "x is still less than 10, adding 1 to x\n",
      "continuing ...\n",
      "x is currently: 7\n",
      "x is still less than 10, adding 1 to x\n",
      "continuing ...\n",
      "x is currently: 8\n",
      "x is still less than 10, adding 1 to x\n",
      "continuing ...\n",
      "x is currently: 9\n",
      "x is still less than 10, adding 1 to x\n",
      "continuing ...\n"
     ]
    }
   ],
   "source": [
    "x = 0\n",
    "while x < 10:\n",
    "    print('x is currently:', x)\n",
    "    print('x is still less than 10, adding 1 to x')\n",
    "    x +=1\n",
    "    if x == 3:\n",
    "        print('x == 3')\n",
    "    else:\n",
    "        print(\"continuing ...\")\n",
    "        continue"
   ]
  },
  {
   "cell_type": "code",
   "execution_count": 30,
   "metadata": {},
   "outputs": [
    {
     "name": "stdout",
     "output_type": "stream",
     "text": [
      "x is currently: 0\n",
      "x is still less than 10, adding 1 to x\n",
      "continuing ...\n"
     ]
    }
   ],
   "source": [
    "x = 0\n",
    "while x < 10:\n",
    "    print('x is currently:', x)\n",
    "    print('x is still less than 10, adding 1 to x')\n",
    "    x +=1\n",
    "    if x == 3:\n",
    "        print('x == 3')\n",
    "    else:\n",
    "        print(\"continuing ...\")\n",
    "        break"
   ]
  },
  {
   "cell_type": "code",
   "execution_count": 31,
   "metadata": {},
   "outputs": [
    {
     "name": "stdout",
     "output_type": "stream",
     "text": [
      "x is currently: 0\n",
      "x is still less than 10, adding 1 to x\n",
      "x is currently: 1\n",
      "x is still less than 10, adding 1 to x\n",
      "x is currently: 2\n",
      "x is still less than 10, adding 1 to x\n",
      "x == 3\n"
     ]
    }
   ],
   "source": [
    "x = 0\n",
    "while x < 10:\n",
    "    print('x is currently:', x)\n",
    "    print('x is still less than 10, adding 1 to x')\n",
    "    x +=1\n",
    "    if x == 3:\n",
    "        print('x == 3')\n",
    "        break\n",
    "    else:\n",
    "        continue\n",
    "        print(\"continuing ...\")\n",
    "        "
   ]
  },
  {
   "cell_type": "code",
   "execution_count": 32,
   "metadata": {},
   "outputs": [
    {
     "name": "stdout",
     "output_type": "stream",
     "text": [
      "x is currently: 0\n",
      "x is still less than 10, adding 1 to x\n",
      "continuing ...\n",
      "x is currently: 1\n",
      "x is still less than 10, adding 1 to x\n",
      "continuing ...\n",
      "x is currently: 2\n",
      "x is still less than 10, adding 1 to x\n",
      "x == 3\n"
     ]
    }
   ],
   "source": [
    "x = 0\n",
    "while x < 10:\n",
    "    print('x is currently:', x)\n",
    "    print('x is still less than 10, adding 1 to x')\n",
    "    x +=1\n",
    "    if x == 3:\n",
    "        print('x == 3')\n",
    "        break\n",
    "    else:\n",
    "        pass\n",
    "        print(\"continuing ...\")\n",
    "        "
   ]
  },
  {
   "cell_type": "code",
   "execution_count": null,
   "metadata": {
    "collapsed": true
   },
   "outputs": [],
   "source": []
  }
 ],
 "metadata": {
  "kernelspec": {
   "display_name": "Python 3",
   "language": "python",
   "name": "python3"
  },
  "language_info": {
   "codemirror_mode": {
    "name": "ipython",
    "version": 3
   },
   "file_extension": ".py",
   "mimetype": "text/x-python",
   "name": "python",
   "nbconvert_exporter": "python",
   "pygments_lexer": "ipython3",
   "version": "3.6.3"
  }
 },
 "nbformat": 4,
 "nbformat_minor": 2
}
