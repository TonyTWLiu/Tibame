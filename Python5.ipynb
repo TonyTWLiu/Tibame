{
 "cells": [
  {
   "cell_type": "code",
   "execution_count": 1,
   "metadata": {
    "collapsed": true
   },
   "outputs": [],
   "source": [
    "stopwords = [\"a\", \"about\", \"above\", \"above\", \"across\", \"after\", \"afterwards\", \"again\", \"against\", \"all\", \"almost\", \"alone\", \"along\", \"already\", \"also\",\"although\",\"always\",\"am\",\"among\", \"amongst\", \"amoungst\", \"amount\",  \"an\", \"and\", \"another\", \"any\",\"anyhow\",\"anyone\",\"anything\",\"anyway\", \"anywhere\", \"are\", \"around\", \"as\",  \"at\", \"back\",\"be\",\"became\", \"because\",\"become\",\"becomes\", \"becoming\", \"been\", \"before\", \"beforehand\", \"behind\", \"being\", \"below\", \"beside\", \"besides\", \"between\", \"beyond\", \"bill\", \"both\", \"bottom\",\"but\", \"by\", \"call\", \"can\", \"cannot\", \"cant\", \"co\", \"con\", \"could\", \"couldnt\", \"cry\", \"de\", \"describe\", \"detail\", \"do\", \"done\", \"down\", \"due\", \"during\", \"each\", \"eg\", \"eight\", \"either\", \"eleven\",\"else\", \"elsewhere\", \"empty\", \"enough\", \"etc\", \"even\", \"ever\", \"every\", \"everyone\", \"everything\", \"everywhere\", \"except\", \"few\", \"fifteen\", \"fify\", \"fill\", \"find\", \"fire\", \"first\", \"five\", \"for\", \"former\", \"formerly\", \"forty\", \"found\", \"four\", \"from\", \"front\", \"full\", \"further\", \"get\", \"give\", \"go\", \"had\", \"has\", \"hasnt\", \"have\", \"he\", \"hence\", \"her\", \"here\", \"hereafter\", \"hereby\", \"herein\", \"hereupon\", \"hers\", \"herself\", \"him\", \"himself\", \"his\", \"how\", \"however\", \"hundred\", \"ie\", \"if\", \"in\", \"inc\", \"indeed\", \"interest\", \"into\", \"is\", \"it\", \"its\", \"itself\", \"keep\", \"last\", \"latter\", \"latterly\", \"least\", \"less\", \"ltd\", \"made\", \"many\", \"may\", \"me\", \"meanwhile\", \"might\", \"mill\", \"mine\", \"more\", \"moreover\", \"most\", \"mostly\", \"move\", \"much\", \"must\", \"my\", \"myself\", \"name\", \"namely\", \"neither\", \"never\", \"nevertheless\", \"next\", \"nine\", \"no\", \"nobody\", \"none\", \"noone\", \"nor\", \"not\", \"nothing\", \"now\", \"nowhere\", \"of\", \"off\", \"often\", \"on\", \"once\", \"one\", \"only\", \"onto\", \"or\", \"other\", \"others\", \"otherwise\", \"our\", \"ours\", \"ourselves\", \"out\", \"over\", \"own\",\"part\", \"per\", \"perhaps\", \"please\", \"put\", \"rather\", \"re\", \"same\", \"see\", \"seem\", \"seemed\", \"seeming\", \"seems\", \"serious\", \"several\", \"she\", \"should\", \"show\", \"side\", \"since\", \"sincere\", \"six\", \"sixty\", \"so\", \"some\", \"somehow\", \"someone\", \"something\", \"sometime\", \"sometimes\", \"somewhere\", \"still\", \"such\", \"system\", \"take\", \"ten\", \"than\", \"that\", \"the\", \"their\", \"them\", \"themselves\", \"then\", \"thence\", \"there\", \"thereafter\", \"thereby\", \"therefore\", \"therein\", \"thereupon\", \"these\", \"they\", \"thickv\", \"thin\", \"third\", \"this\", \"those\", \"though\", \"three\", \"through\", \"throughout\", \"thru\", \"thus\", \"to\", \"together\", \"too\", \"top\", \"toward\", \"towards\", \"twelve\", \"twenty\", \"two\", \"un\", \"under\", \"until\", \"up\", \"upon\", \"us\", \"very\", \"via\", \"was\", \"we\", \"well\", \"were\", \"what\", \"whatever\", \"when\", \"whence\", \"whenever\", \"where\", \"whereafter\", \"whereas\", \"whereby\", \"wherein\", \"whereupon\", \"wherever\", \"whether\", \"which\", \"while\", \"whither\", \"who\", \"whoever\", \"whole\", \"whom\", \"whose\", \"why\", \"will\", \"with\", \"within\", \"without\", \"would\", \"yet\", \"you\", \"your\", \"yours\", \"yourself\", \"yourselves\", \"the\"]"
   ]
  },
  {
   "cell_type": "code",
   "execution_count": 2,
   "metadata": {
    "collapsed": true
   },
   "outputs": [],
   "source": [
    "with open('trump.txt', 'r') as f:\n",
    "    speech = f.read()"
   ]
  },
  {
   "cell_type": "code",
   "execution_count": 4,
   "metadata": {
    "collapsed": true
   },
   "outputs": [],
   "source": [
    "dic = {}\n",
    "for word in speech.lower().split():\n",
    "    if word not in stopwords:\n",
    "        if word not in dic:\n",
    "            dic[word] = 1\n",
    "        else:\n",
    "            dic[word] = dic[word] + 1\n",
    "#dic"
   ]
  },
  {
   "cell_type": "code",
   "execution_count": 7,
   "metadata": {},
   "outputs": [
    {
     "name": "stdout",
     "output_type": "stream",
     "text": [
      "('american', 11)\n",
      "('america', 10)\n",
      "('again.', 8)\n",
      "('president', 6)\n",
      "('people', 6)\n",
      "('great', 6)\n",
      "('country', 6)\n",
      "('new', 6)\n",
      "('right', 5)\n",
      "('make', 5)\n",
      "('america,', 4)\n",
      "('world', 4)\n",
      "('today', 4)\n",
      "('nation', 4)\n",
      "('bring', 4)\n",
      "('people.', 3)\n",
      "('together,', 3)\n",
      "('you,', 3)\n",
      "('nation’s', 3)\n",
      "('factories', 3)\n",
      "('protected', 3)\n",
      "('america.', 3)\n",
      "('millions', 3)\n",
      "('foreign', 3)\n",
      "('countries', 3)\n",
      "('let', 3)\n",
      "('heart', 3)\n",
      "('inaugural', 2)\n",
      "('address', 2)\n",
      "('prepared', 2)\n",
      "('delivery', 2)\n",
      "('january', 2)\n",
      "('washington,', 2)\n",
      "('d.c.', 2)\n",
      "('americans,', 2)\n",
      "('thank', 2)\n",
      "('you.', 2)\n",
      "('citizens', 2)\n",
      "('national', 2)\n",
      "('face', 2)\n",
      "('done.', 2)\n",
      "('obama', 2)\n",
      "('transferring', 2)\n",
      "('power', 2)\n",
      "('party', 2)\n",
      "('small', 2)\n",
      "('government', 2)\n",
      "('share', 2)\n",
      "('wealth.', 2)\n",
      "('politicians', 2)\n",
      "('jobs', 2)\n",
      "('country.', 2)\n",
      "('capital,', 2)\n",
      "('land.', 2)\n",
      "('moment', 2)\n",
      "('belongs', 2)\n",
      "('united', 2)\n",
      "('states', 2)\n",
      "('day', 2)\n",
      "('forgotten', 2)\n",
      "('men', 2)\n",
      "('women', 2)\n",
      "('now.', 2)\n",
      "('movement', 2)\n",
      "('before.', 2)\n",
      "('safe', 2)\n",
      "('good', 2)\n",
      "('like', 2)\n",
      "('stops', 2)\n",
      "('glorious', 2)\n",
      "('destiny.', 2)\n",
      "('oath', 2)\n",
      "('allegiance', 2)\n",
      "('we’ve', 2)\n",
      "('borders', 2)\n",
      "('left', 2)\n",
      "('workers', 2)\n",
      "('first.', 2)\n",
      "('jobs.', 2)\n",
      "('fight', 2)\n",
      "('breath', 2)\n",
      "('winning', 2)\n",
      "('seek', 2)\n",
      "('nations', 2)\n",
      "('life', 2)\n",
      "('old', 2)\n",
      "('loyalty', 2)\n",
      "('and,', 2)\n",
      "('talk', 2)\n",
      "('time', 2)\n",
      "('dreams,', 2)\n",
      "('god', 2)\n",
      "('bless', 2)\n",
      "('remarks', 1)\n",
      "('donald', 1)\n",
      "('j.', 1)\n",
      "('trump', 1)\n",
      "('friday,', 1)\n",
      "('20,', 1)\n",
      "('2017', 1)\n",
      "('chief', 1)\n",
      "('justice', 1)\n",
      "('roberts,', 1)\n",
      "('carter,', 1)\n",
      "('clinton,', 1)\n",
      "('bush,', 1)\n",
      "('obama,', 1)\n",
      "('fellow', 1)\n",
      "('world:', 1)\n",
      "('we,', 1)\n",
      "('joined', 1)\n",
      "('effort', 1)\n",
      "('rebuild', 1)\n",
      "('restore', 1)\n",
      "('promise', 1)\n",
      "('determine', 1)\n",
      "('course', 1)\n",
      "('years', 1)\n",
      "('come.', 1)\n",
      "('challenges.', 1)\n",
      "('confront', 1)\n",
      "('hardships.', 1)\n",
      "('job', 1)\n",
      "('years,', 1)\n",
      "('gather', 1)\n",
      "('steps', 1)\n",
      "('carry', 1)\n",
      "('orderly', 1)\n",
      "('peaceful', 1)\n",
      "('transfer', 1)\n",
      "('power,', 1)\n",
      "('grateful', 1)\n",
      "('lady', 1)\n",
      "('michelle', 1)\n",
      "('gracious', 1)\n",
      "('aid', 1)\n",
      "('transition.', 1)\n",
      "('magnificent.', 1)\n",
      "('today’s', 1)\n",
      "('ceremony,', 1)\n",
      "('however,', 1)\n",
      "('special', 1)\n",
      "('meaning.', 1)\n",
      "('merely', 1)\n",
      "('administration', 1)\n",
      "('another,', 1)\n",
      "('giving', 1)\n",
      "('long,', 1)\n",
      "('group', 1)\n",
      "('capital', 1)\n",
      "('reaped', 1)\n",
      "('rewards', 1)\n",
      "('borne', 1)\n",
      "('cost.', 1)\n",
      "('washington', 1)\n",
      "('flourished', 1)\n",
      "('did', 1)\n",
      "('prospered', 1)\n",
      "('left,', 1)\n",
      "('closed.', 1)\n",
      "('establishment', 1)\n",
      "('itself,', 1)\n",
      "('victories', 1)\n",
      "('victories;', 1)\n",
      "('triumphs', 1)\n",
      "('triumphs;', 1)\n",
      "('celebrated', 1)\n",
      "('little', 1)\n",
      "('celebrate', 1)\n",
      "('struggling', 1)\n",
      "('families', 1)\n",
      "('changes', 1)\n",
      "('starting', 1)\n",
      "('here,', 1)\n",
      "('now,', 1)\n",
      "('moment:', 1)\n",
      "('gathered', 1)\n",
      "('watching', 1)\n",
      "('day.', 1)\n",
      "('celebration.', 1)\n",
      "('this,', 1)\n",
      "('truly', 1)\n",
      "('matters', 1)\n",
      "('controls', 1)\n",
      "('government,', 1)\n",
      "('controlled', 1)\n",
      "('20th', 1)\n",
      "('2017,', 1)\n",
      "('remembered', 1)\n",
      "('rulers', 1)\n",
      "('longer.', 1)\n",
      "('listening', 1)\n",
      "('came', 1)\n",
      "('tens', 1)\n",
      "('historic', 1)\n",
      "('likes', 1)\n",
      "('seen', 1)\n",
      "('center', 1)\n",
      "('crucial', 1)\n",
      "('conviction:', 1)\n",
      "('exists', 1)\n",
      "('serve', 1)\n",
      "('citizens.', 1)\n",
      "('americans', 1)\n",
      "('want', 1)\n",
      "('schools', 1)\n",
      "('children,', 1)\n",
      "('neighborhoods', 1)\n",
      "('families,', 1)\n",
      "('themselves.', 1)\n",
      "('just', 1)\n",
      "('reasonable', 1)\n",
      "('demands', 1)\n",
      "('righteous', 1)\n",
      "('public.', 1)\n",
      "('citizens,', 1)\n",
      "('different', 1)\n",
      "('reality', 1)\n",
      "('exists:', 1)\n",
      "('mothers', 1)\n",
      "('children', 1)\n",
      "('trapped', 1)\n",
      "('poverty', 1)\n",
      "('inner', 1)\n",
      "('cities;', 1)\n",
      "('rusted-out', 1)\n",
      "('scattered', 1)\n",
      "('tombstones', 1)\n",
      "('landscape', 1)\n",
      "('nation;', 1)\n",
      "('education', 1)\n",
      "('system,', 1)\n",
      "('flush', 1)\n",
      "('cash,', 1)\n",
      "('leaves', 1)\n",
      "('young', 1)\n",
      "('beautiful', 1)\n",
      "('students', 1)\n",
      "('deprived', 1)\n",
      "('knowledge;', 1)\n",
      "('crime', 1)\n",
      "('gangs', 1)\n",
      "('drugs', 1)\n",
      "('stolen', 1)\n",
      "('lives', 1)\n",
      "('robbed', 1)\n",
      "('unrealized', 1)\n",
      "('potential.', 1)\n",
      "('carnage', 1)\n",
      "('pain', 1)\n",
      "('pain.', 1)\n",
      "('dreams', 1)\n",
      "('dreams;', 1)\n",
      "('success', 1)\n",
      "('success.', 1)\n",
      "('heart,', 1)\n",
      "('home,', 1)\n",
      "('office', 1)\n",
      "('americans.', 1)\n",
      "('decades,', 1)\n",
      "('enriched', 1)\n",
      "('industry', 1)\n",
      "('expense', 1)\n",
      "('industry;', 1)\n",
      "('subsidized', 1)\n",
      "('armies', 1)\n",
      "('allowing', 1)\n",
      "('sad', 1)\n",
      "('depletion', 1)\n",
      "('military;', 1)\n",
      "(\"we've\", 1)\n",
      "('defended', 1)\n",
      "('refusing', 1)\n",
      "('defend', 1)\n",
      "('own;', 1)\n",
      "('spent', 1)\n",
      "('trillions', 1)\n",
      "('dollars', 1)\n",
      "('overseas', 1)\n",
      "(\"america's\", 1)\n",
      "('infrastructure', 1)\n",
      "('fallen', 1)\n",
      "('disrepair', 1)\n",
      "('decay.', 1)\n",
      "('rich', 1)\n",
      "('wealth,', 1)\n",
      "('strength,', 1)\n",
      "('confidence', 1)\n",
      "('disappeared', 1)\n",
      "('horizon.', 1)\n",
      "('one,', 1)\n",
      "('shuttered', 1)\n",
      "('shores,', 1)\n",
      "('thought', 1)\n",
      "('behind.', 1)\n",
      "('wealth', 1)\n",
      "('middle', 1)\n",
      "('class', 1)\n",
      "('ripped', 1)\n",
      "('homes', 1)\n",
      "('redistributed', 1)\n",
      "('entire', 1)\n",
      "('world.', 1)\n",
      "('past.', 1)\n",
      "('looking', 1)\n",
      "('future.', 1)\n",
      "('assembled', 1)\n",
      "('issuing', 1)\n",
      "('decree', 1)\n",
      "('heard', 1)\n",
      "('city,', 1)\n",
      "('hall', 1)\n",
      "('power.', 1)\n",
      "('forward,', 1)\n",
      "('vision', 1)\n",
      "('govern', 1)\n",
      "('on,', 1)\n",
      "('it’s', 1)\n",
      "('going', 1)\n",
      "('decision', 1)\n",
      "('trade,', 1)\n",
      "('taxes,', 1)\n",
      "('immigration,', 1)\n",
      "('affairs,', 1)\n",
      "('benefit', 1)\n",
      "('families.', 1)\n",
      "('protect', 1)\n",
      "('ravages', 1)\n",
      "('making', 1)\n",
      "('products,', 1)\n",
      "('stealing', 1)\n",
      "('companies,', 1)\n",
      "('destroying', 1)\n",
      "('protection', 1)\n",
      "('lead', 1)\n",
      "('prosperity', 1)\n",
      "('strength.', 1)\n",
      "('body', 1)\n",
      "('never,', 1)\n",
      "('down.', 1)\n",
      "('start', 1)\n",
      "('again,', 1)\n",
      "('borders.', 1)\n",
      "('dreams.', 1)\n",
      "('build', 1)\n",
      "('roads,', 1)\n",
      "('highways,', 1)\n",
      "('bridges,', 1)\n",
      "('airports,', 1)\n",
      "('tunnels,', 1)\n",
      "('railways', 1)\n",
      "('wonderful', 1)\n",
      "('nation.', 1)\n",
      "('welfare', 1)\n",
      "('work', 1)\n",
      "('rebuilding', 1)\n",
      "('hands', 1)\n",
      "('labor.', 1)\n",
      "('follow', 1)\n",
      "('simple', 1)\n",
      "('rules:', 1)\n",
      "('buy', 1)\n",
      "('hire', 1)\n",
      "('american.', 1)\n",
      "('friendship', 1)\n",
      "('goodwill', 1)\n",
      "('understanding', 1)\n",
      "('interests', 1)\n",
      "('impose', 1)\n",
      "('way', 1)\n",
      "('anyone,', 1)\n",
      "('shine', 1)\n",
      "('example', 1)\n",
      "('follow.', 1)\n",
      "('reinforce', 1)\n",
      "('alliances', 1)\n",
      "('form', 1)\n",
      "('ones', 1)\n",
      "('unite', 1)\n",
      "('civilized', 1)\n",
      "('radical', 1)\n",
      "('islamic', 1)\n",
      "('terrorism,', 1)\n",
      "('eradicate', 1)\n",
      "('completely', 1)\n",
      "('earth.', 1)\n",
      "('bedrock', 1)\n",
      "('politics', 1)\n",
      "('total', 1)\n",
      "('country,', 1)\n",
      "('rediscover', 1)\n",
      "('other.', 1)\n",
      "('open', 1)\n",
      "('patriotism,', 1)\n",
      "('room', 1)\n",
      "('prejudice.', 1)\n",
      "('bible', 1)\n",
      "('tells', 1)\n",
      "('us,', 1)\n",
      "('“how', 1)\n",
      "('pleasant', 1)\n",
      "('god’s', 1)\n",
      "('live', 1)\n",
      "('unity.”', 1)\n",
      "('speak', 1)\n",
      "('minds', 1)\n",
      "('openly,', 1)\n",
      "('debate', 1)\n",
      "('disagreements', 1)\n",
      "('honestly,', 1)\n",
      "('pursue', 1)\n",
      "('solidarity.', 1)\n",
      "('united,', 1)\n",
      "('totally', 1)\n",
      "('unstoppable.', 1)\n",
      "('fear', 1)\n",
      "('protected,', 1)\n",
      "('protected.', 1)\n",
      "('military', 1)\n",
      "('law', 1)\n",
      "('enforcement', 1)\n",
      "('importantly,', 1)\n",
      "('god.', 1)\n",
      "('finally,', 1)\n",
      "('think', 1)\n",
      "('big', 1)\n",
      "('dream', 1)\n",
      "('bigger.', 1)\n",
      "('understand', 1)\n",
      "('living', 1)\n",
      "('long', 1)\n",
      "('striving.', 1)\n",
      "('longer', 1)\n",
      "('accept', 1)\n",
      "('action', 1)\n",
      "('constantly', 1)\n",
      "('complaining', 1)\n",
      "('doing', 1)\n",
      "('it.', 1)\n",
      "('over.', 1)\n",
      "('arrives', 1)\n",
      "('hour', 1)\n",
      "('action.', 1)\n",
      "('tell', 1)\n",
      "('challenge', 1)\n",
      "('match', 1)\n",
      "('spirit', 1)\n",
      "('fail.', 1)\n",
      "('thrive', 1)\n",
      "('prosper', 1)\n",
      "('stand', 1)\n",
      "('birth', 1)\n",
      "('millennium,', 1)\n",
      "('ready', 1)\n",
      "('unlock', 1)\n",
      "('mysteries', 1)\n",
      "('space,', 1)\n",
      "('free', 1)\n",
      "('earth', 1)\n",
      "('miseries', 1)\n",
      "('disease,', 1)\n",
      "('harness', 1)\n",
      "('energies,', 1)\n",
      "('industries', 1)\n",
      "('technologies', 1)\n",
      "('tomorrow.', 1)\n",
      "('pride', 1)\n",
      "('stir', 1)\n",
      "('souls,', 1)\n",
      "('lift', 1)\n",
      "('sights,', 1)\n",
      "('heal', 1)\n",
      "('divisions.', 1)\n",
      "('remember', 1)\n",
      "('wisdom', 1)\n",
      "('soldiers', 1)\n",
      "('forget:', 1)\n",
      "('black', 1)\n",
      "('brown', 1)\n",
      "('white,', 1)\n",
      "('bleed', 1)\n",
      "('red', 1)\n",
      "('blood', 1)\n",
      "('patriots,', 1)\n",
      "('enjoy', 1)\n",
      "('freedoms,', 1)\n",
      "('salute', 1)\n",
      "('flag.', 1)\n",
      "('child', 1)\n",
      "('born', 1)\n",
      "('urban', 1)\n",
      "('sprawl', 1)\n",
      "('detroit', 1)\n",
      "('windswept', 1)\n",
      "('plains', 1)\n",
      "('nebraska,', 1)\n",
      "('look', 1)\n",
      "('night', 1)\n",
      "('sky,', 1)\n",
      "('infused', 1)\n",
      "('almighty', 1)\n",
      "('creator.', 1)\n",
      "('city', 1)\n",
      "('near', 1)\n",
      "('far,', 1)\n",
      "('large,', 1)\n",
      "('mountain', 1)\n",
      "('mountain,', 1)\n",
      "('ocean', 1)\n",
      "('ocean,', 1)\n",
      "('hear', 1)\n",
      "('words:', 1)\n",
      "('ignored', 1)\n",
      "('voice,', 1)\n",
      "('hopes,', 1)\n",
      "('define', 1)\n",
      "('courage', 1)\n",
      "('goodness', 1)\n",
      "('love', 1)\n",
      "('forever', 1)\n",
      "('guide', 1)\n",
      "('way.', 1)\n",
      "('strong', 1)\n",
      "('wealthy', 1)\n",
      "('proud', 1)\n",
      "('yes,', 1)\n"
     ]
    }
   ],
   "source": [
    "import operator\n",
    "for ele in sorted(dic.items(), key = operator.itemgetter(1), reverse=True):\n",
    "    if len(ele[0]) > 1:\n",
    "        print(ele)"
   ]
  },
  {
   "cell_type": "code",
   "execution_count": 9,
   "metadata": {},
   "outputs": [
    {
     "data": {
      "text/plain": [
       "[('american', 11),\n",
       " ('america', 10),\n",
       " ('again.', 8),\n",
       " ('president', 6),\n",
       " ('people', 6),\n",
       " ('great', 6),\n",
       " ('country', 6),\n",
       " ('new', 6),\n",
       " ('right', 5),\n",
       " ('make', 5)]"
      ]
     },
     "execution_count": 9,
     "metadata": {},
     "output_type": "execute_result"
    }
   ],
   "source": [
    "from collections import Counter\n",
    "c = Counter([ele.lower() for ele in speech.split() if ele.lower() not in stopwords and len(ele) > 1])\n",
    "c.most_common(10)"
   ]
  },
  {
   "cell_type": "code",
   "execution_count": 21,
   "metadata": {
    "collapsed": true
   },
   "outputs": [],
   "source": [
    "stopwords = [\"a\", \"about\", \"above\", \"above\", \"across\", \"after\", \"afterwards\", \"again\", \"against\", \"all\", \"almost\", \"alone\", \"along\", \"already\", \"also\",\"although\",\"always\",\"am\",\"among\", \"amongst\", \"amoungst\", \"amount\",  \"an\", \"and\", \"another\", \"any\",\"anyhow\",\"anyone\",\"anything\",\"anyway\", \"anywhere\", \"are\", \"around\", \"as\",  \"at\", \"back\",\"be\",\"became\", \"because\",\"become\",\"becomes\", \"becoming\", \"been\", \"before\", \"beforehand\", \"behind\", \"being\", \"below\", \"beside\", \"besides\", \"between\", \"beyond\", \"bill\", \"both\", \"bottom\",\"but\", \"by\", \"call\", \"can\", \"cannot\", \"cant\", \"co\", \"con\", \"could\", \"couldnt\", \"cry\", \"de\", \"describe\", \"detail\", \"do\", \"done\", \"down\", \"due\", \"during\", \"each\", \"eg\", \"eight\", \"either\", \"eleven\",\"else\", \"elsewhere\", \"empty\", \"enough\", \"etc\", \"even\", \"ever\", \"every\", \"everyone\", \"everything\", \"everywhere\", \"except\", \"few\", \"fifteen\", \"fify\", \"fill\", \"find\", \"fire\", \"first\", \"five\", \"for\", \"former\", \"formerly\", \"forty\", \"found\", \"four\", \"from\", \"front\", \"full\", \"further\", \"get\", \"give\", \"go\", \"had\", \"has\", \"hasnt\", \"have\", \"he\", \"hence\", \"her\", \"here\", \"hereafter\", \"hereby\", \"herein\", \"hereupon\", \"hers\", \"herself\", \"him\", \"himself\", \"his\", \"how\", \"however\", \"hundred\", \"ie\", \"if\", \"in\", \"inc\", \"indeed\", \"interest\", \"into\", \"is\", \"it\", \"its\", \"itself\", \"keep\", \"last\", \"latter\", \"latterly\", \"least\", \"less\", \"ltd\", \"made\", \"many\", \"may\", \"me\", \"meanwhile\", \"might\", \"mill\", \"mine\", \"more\", \"moreover\", \"most\", \"mostly\", \"move\", \"much\", \"must\", \"my\", \"myself\", \"name\", \"namely\", \"neither\", \"never\", \"nevertheless\", \"next\", \"nine\", \"no\", \"nobody\", \"none\", \"noone\", \"nor\", \"not\", \"nothing\", \"now\", \"nowhere\", \"of\", \"off\", \"often\", \"on\", \"once\", \"one\", \"only\", \"onto\", \"or\", \"other\", \"others\", \"otherwise\", \"our\", \"ours\", \"ourselves\", \"out\", \"over\", \"own\",\"part\", \"per\", \"perhaps\", \"please\", \"put\", \"rather\", \"re\", \"same\", \"see\", \"seem\", \"seemed\", \"seeming\", \"seems\", \"serious\", \"several\", \"she\", \"should\", \"show\", \"side\", \"since\", \"sincere\", \"six\", \"sixty\", \"so\", \"some\", \"somehow\", \"someone\", \"something\", \"sometime\", \"sometimes\", \"somewhere\", \"still\", \"such\", \"system\", \"take\", \"ten\", \"than\", \"that\", \"the\", \"their\", \"them\", \"themselves\", \"then\", \"thence\", \"there\", \"thereafter\", \"thereby\", \"therefore\", \"therein\", \"thereupon\", \"these\", \"they\", \"thickv\", \"thin\", \"third\", \"this\", \"those\", \"though\", \"three\", \"through\", \"throughout\", \"thru\", \"thus\", \"to\", \"together\", \"too\", \"top\", \"toward\", \"towards\", \"twelve\", \"twenty\", \"two\", \"un\", \"under\", \"until\", \"up\", \"upon\", \"us\", \"very\", \"via\", \"was\", \"we\", \"well\", \"were\", \"what\", \"whatever\", \"when\", \"whence\", \"whenever\", \"where\", \"whereafter\", \"whereas\", \"whereby\", \"wherein\", \"whereupon\", \"wherever\", \"whether\", \"which\", \"while\", \"whither\", \"who\", \"whoever\", \"whole\", \"whom\", \"whose\", \"why\", \"will\", \"with\", \"within\", \"without\", \"would\", \"yet\", \"you\", \"your\", \"yours\", \"yourself\", \"yourselves\", \"the\"]"
   ]
  },
  {
   "cell_type": "code",
   "execution_count": 12,
   "metadata": {
    "collapsed": true
   },
   "outputs": [],
   "source": [
    "with open('c://Users//TNY//obama.txt','r') as f:\n",
    "    speech = f.read()"
   ]
  },
  {
   "cell_type": "code",
   "execution_count": 22,
   "metadata": {
    "collapsed": true
   },
   "outputs": [],
   "source": [
    "dic = {}\n",
    "words = speech.lower().split()\n",
    "for w in words:\n",
    "    if w not in stopwords:\n",
    "        if w not in dic:\n",
    "            dic[w] = 1\n",
    "        else:\n",
    "            dic[w] = dic[w] + 1"
   ]
  },
  {
   "cell_type": "code",
   "execution_count": 23,
   "metadata": {
    "collapsed": true
   },
   "outputs": [],
   "source": [
    "import operator\n",
    "swd = sorted(dic.items(), key = operator.itemgetter(1), reverse = True)\n",
    "#swd"
   ]
  },
  {
   "cell_type": "code",
   "execution_count": 24,
   "metadata": {},
   "outputs": [
    {
     "name": "stdout",
     "output_type": "stream",
     "text": [
      "-- 16\n",
      "nation 10\n",
      "us, 9\n",
      "new 9\n",
      "common 6\n",
      "let 6\n",
      "know 5\n",
      "time 5\n",
      "people 5\n",
      "america 4\n"
     ]
    }
   ],
   "source": [
    "for key,val in swd[0:10]:\n",
    "    #key, val = rec\n",
    "    print(key, val)"
   ]
  },
  {
   "cell_type": "code",
   "execution_count": 25,
   "metadata": {
    "collapsed": true
   },
   "outputs": [],
   "source": [
    "stopwords = [\"a\", \"about\", \"above\", \"above\", \"across\", \"after\", \"afterwards\", \"again\", \"against\", \"all\", \"almost\", \"alone\", \"along\", \"already\", \"also\",\"although\",\"always\",\"am\",\"among\", \"amongst\", \"amoungst\", \"amount\",  \"an\", \"and\", \"another\", \"any\",\"anyhow\",\"anyone\",\"anything\",\"anyway\", \"anywhere\", \"are\", \"around\", \"as\",  \"at\", \"back\",\"be\",\"became\", \"because\",\"become\",\"becomes\", \"becoming\", \"been\", \"before\", \"beforehand\", \"behind\", \"being\", \"below\", \"beside\", \"besides\", \"between\", \"beyond\", \"bill\", \"both\", \"bottom\",\"but\", \"by\", \"call\", \"can\", \"cannot\", \"cant\", \"co\", \"con\", \"could\", \"couldnt\", \"cry\", \"de\", \"describe\", \"detail\", \"do\", \"done\", \"down\", \"due\", \"during\", \"each\", \"eg\", \"eight\", \"either\", \"eleven\",\"else\", \"elsewhere\", \"empty\", \"enough\", \"etc\", \"even\", \"ever\", \"every\", \"everyone\", \"everything\", \"everywhere\", \"except\", \"few\", \"fifteen\", \"fify\", \"fill\", \"find\", \"fire\", \"first\", \"five\", \"for\", \"former\", \"formerly\", \"forty\", \"found\", \"four\", \"from\", \"front\", \"full\", \"further\", \"get\", \"give\", \"go\", \"had\", \"has\", \"hasnt\", \"have\", \"he\", \"hence\", \"her\", \"here\", \"hereafter\", \"hereby\", \"herein\", \"hereupon\", \"hers\", \"herself\", \"him\", \"himself\", \"his\", \"how\", \"however\", \"hundred\", \"ie\", \"if\", \"in\", \"inc\", \"indeed\", \"interest\", \"into\", \"is\", \"it\", \"its\", \"itself\", \"keep\", \"last\", \"latter\", \"latterly\", \"least\", \"less\", \"ltd\", \"made\", \"many\", \"may\", \"me\", \"meanwhile\", \"might\", \"mill\", \"mine\", \"more\", \"moreover\", \"most\", \"mostly\", \"move\", \"much\", \"must\", \"my\", \"myself\", \"name\", \"namely\", \"neither\", \"never\", \"nevertheless\", \"next\", \"nine\", \"no\", \"nobody\", \"none\", \"noone\", \"nor\", \"not\", \"nothing\", \"now\", \"nowhere\", \"of\", \"off\", \"often\", \"on\", \"once\", \"one\", \"only\", \"onto\", \"or\", \"other\", \"others\", \"otherwise\", \"our\", \"ours\", \"ourselves\", \"out\", \"over\", \"own\",\"part\", \"per\", \"perhaps\", \"please\", \"put\", \"rather\", \"re\", \"same\", \"see\", \"seem\", \"seemed\", \"seeming\", \"seems\", \"serious\", \"several\", \"she\", \"should\", \"show\", \"side\", \"since\", \"sincere\", \"six\", \"sixty\", \"so\", \"some\", \"somehow\", \"someone\", \"something\", \"sometime\", \"sometimes\", \"somewhere\", \"still\", \"such\", \"system\", \"take\", \"ten\", \"than\", \"that\", \"the\", \"their\", \"them\", \"themselves\", \"then\", \"thence\", \"there\", \"thereafter\", \"thereby\", \"therefore\", \"therein\", \"thereupon\", \"these\", \"they\", \"thickv\", \"thin\", \"third\", \"this\", \"those\", \"though\", \"three\", \"through\", \"throughout\", \"thru\", \"thus\", \"to\", \"together\", \"too\", \"top\", \"toward\", \"towards\", \"twelve\", \"twenty\", \"two\", \"un\", \"under\", \"until\", \"up\", \"upon\", \"us\", \"very\", \"via\", \"was\", \"we\", \"well\", \"were\", \"what\", \"whatever\", \"when\", \"whence\", \"whenever\", \"where\", \"whereafter\", \"whereas\", \"whereby\", \"wherein\", \"whereupon\", \"wherever\", \"whether\", \"which\", \"while\", \"whither\", \"who\", \"whoever\", \"whole\", \"whom\", \"whose\", \"why\", \"will\", \"with\", \"within\", \"without\", \"would\", \"yet\", \"you\", \"your\", \"yours\", \"yourself\", \"yourselves\", \"the\"]"
   ]
  },
  {
   "cell_type": "code",
   "execution_count": 26,
   "metadata": {
    "collapsed": true
   },
   "outputs": [],
   "source": [
    "with open('c://Users//TNY//obama.txt','r') as f:\n",
    "    speech = f.read()"
   ]
  },
  {
   "cell_type": "code",
   "execution_count": 27,
   "metadata": {},
   "outputs": [
    {
     "data": {
      "text/plain": [
       "[('--', 16),\n",
       " ('nation', 10),\n",
       " ('us,', 9),\n",
       " ('new', 9),\n",
       " ('common', 6),\n",
       " ('let', 6),\n",
       " ('know', 5),\n",
       " ('time', 5),\n",
       " ('people', 5),\n",
       " ('america', 4)]"
      ]
     },
     "execution_count": 27,
     "metadata": {},
     "output_type": "execute_result"
    }
   ],
   "source": [
    "from collections import Counter\n",
    "words = []\n",
    "for w in speech.lower().split():\n",
    "    if w not in stopwords:\n",
    "        words.append(w)\n",
    "c = Counter(words)\n",
    "c.most_common(10)"
   ]
  },
  {
   "cell_type": "markdown",
   "metadata": {},
   "source": [
    "### 方法三"
   ]
  },
  {
   "cell_type": "code",
   "execution_count": 29,
   "metadata": {},
   "outputs": [
    {
     "data": {
      "text/plain": [
       "[2, 3, 1]"
      ]
     },
     "execution_count": 29,
     "metadata": {},
     "output_type": "execute_result"
    }
   ],
   "source": [
    "a = [2,3,6,9,1,8,5]\n",
    "ary = []\n",
    "for ele in a:\n",
    "    if ele < 5:\n",
    "        ary.append(ele)\n",
    "ary"
   ]
  },
  {
   "cell_type": "code",
   "execution_count": 30,
   "metadata": {},
   "outputs": [
    {
     "data": {
      "text/plain": [
       "[2, 3, 1]"
      ]
     },
     "execution_count": 30,
     "metadata": {},
     "output_type": "execute_result"
    }
   ],
   "source": [
    "[ele for ele  in a if ele < 5]"
   ]
  },
  {
   "cell_type": "code",
   "execution_count": 31,
   "metadata": {
    "collapsed": true
   },
   "outputs": [],
   "source": [
    "with open('c://Users//TNY//obama.txt','r') as f:\n",
    "    speech = f.read()"
   ]
  },
  {
   "cell_type": "code",
   "execution_count": 32,
   "metadata": {},
   "outputs": [
    {
     "data": {
      "text/plain": [
       "[('--', 16),\n",
       " ('nation', 10),\n",
       " ('us,', 9),\n",
       " ('new', 9),\n",
       " ('common', 6),\n",
       " ('let', 6),\n",
       " ('know', 5),\n",
       " ('time', 5),\n",
       " ('people', 5),\n",
       " ('america', 4)]"
      ]
     },
     "execution_count": 32,
     "metadata": {},
     "output_type": "execute_result"
    }
   ],
   "source": [
    "from collections import Counter\n",
    "words = [w for w in speech.lower().split() if w not in stopwords]\n",
    "c = Counter(words)\n",
    "c.most_common(10)"
   ]
  },
  {
   "cell_type": "code",
   "execution_count": 34,
   "metadata": {},
   "outputs": [
    {
     "name": "stdout",
     "output_type": "stream",
     "text": [
      "Requirement already satisfied: jieba in c:\\users\\tny\\anaconda3\\lib\\site-packages\n"
     ]
    }
   ],
   "source": [
    "! pip install jieba"
   ]
  },
  {
   "cell_type": "code",
   "execution_count": 36,
   "metadata": {},
   "outputs": [
    {
     "name": "stderr",
     "output_type": "stream",
     "text": [
      "Building prefix dict from the default dictionary ...\n",
      "Dumping model to file cache C:\\Users\\TNY\\AppData\\Local\\Temp\\jieba.cache\n",
      "Loading model cost 1.362 seconds.\n",
      "Prefix dict has been built succesfully.\n"
     ]
    },
    {
     "name": "stdout",
     "output_type": "stream",
     "text": [
      "蔡英文\n",
      "就職\n",
      "演說\n",
      "全文\n"
     ]
    }
   ],
   "source": [
    "import jieba\n",
    "jieba.add_word('蔡英文')\n",
    "jieba.add_word('就職')\n",
    "for w in jieba.cut('蔡英文就職演說全文'):\n",
    "    print(w)"
   ]
  },
  {
   "cell_type": "code",
   "execution_count": 37,
   "metadata": {
    "collapsed": true
   },
   "outputs": [],
   "source": [
    "with open('C://Users/TNY//president.txt', 'r') as f:\n",
    "    speech = f.read()"
   ]
  },
  {
   "cell_type": "code",
   "execution_count": 40,
   "metadata": {},
   "outputs": [
    {
     "name": "stdout",
     "output_type": "stream",
     "text": [
      "我們 85\n",
      "台灣 39\n",
      "國家 28\n",
      "新政府 27\n",
      "經濟 26\n",
      "這個 24\n",
      "一個 24\n",
      "民主 22\n",
      "發展 20\n",
      "社會 19\n",
      "人民 18\n",
      "就是 18\n",
      "共同 15\n",
      "未來 15\n",
      "改革 15\n",
      "議題 14\n",
      "司法 13\n",
      "區域 11\n",
      "政府 10\n",
      "合作 10\n",
      "和平 9\n",
      "必須 9\n"
     ]
    }
   ],
   "source": [
    "from collections import Counter\n",
    "c = Counter([w for w in jieba.cut(speech)])\n",
    "for word, cnt in c.most_common(50):\n",
    "    if len(word) >= 2:\n",
    "        print(word, cnt)"
   ]
  },
  {
   "cell_type": "code",
   "execution_count": 41,
   "metadata": {},
   "outputs": [
    {
     "name": "stdout",
     "output_type": "stream",
     "text": [
      "Collecting gTTS\n",
      "  Downloading gTTS-1.2.2.tar.gz\n",
      "Requirement already satisfied: six in c:\\users\\tny\\anaconda3\\lib\\site-packages (from gTTS)\n",
      "Requirement already satisfied: requests in c:\\users\\tny\\anaconda3\\lib\\site-packages (from gTTS)\n",
      "Collecting gtts_token (from gTTS)\n",
      "  Downloading gTTS-token-1.1.1.zip\n",
      "Requirement already satisfied: chardet<3.1.0,>=3.0.2 in c:\\users\\tny\\anaconda3\\lib\\site-packages (from requests->gTTS)\n",
      "Requirement already satisfied: idna<2.7,>=2.5 in c:\\users\\tny\\anaconda3\\lib\\site-packages (from requests->gTTS)\n",
      "Requirement already satisfied: urllib3<1.23,>=1.21.1 in c:\\users\\tny\\anaconda3\\lib\\site-packages (from requests->gTTS)\n",
      "Requirement already satisfied: certifi>=2017.4.17 in c:\\users\\tny\\anaconda3\\lib\\site-packages (from requests->gTTS)\n",
      "Building wheels for collected packages: gTTS, gtts-token\n",
      "  Running setup.py bdist_wheel for gTTS: started\n",
      "  Running setup.py bdist_wheel for gTTS: finished with status 'done'\n",
      "  Stored in directory: C:\\Users\\TNY\\AppData\\Local\\pip\\Cache\\wheels\\ef\\e7\\2e\\066d7be1514f7c7fd6c942f4d09ae5460f9a3125829782d03d\n",
      "  Running setup.py bdist_wheel for gtts-token: started\n",
      "  Running setup.py bdist_wheel for gtts-token: finished with status 'done'\n",
      "  Stored in directory: C:\\Users\\TNY\\AppData\\Local\\pip\\Cache\\wheels\\a9\\19\\5d\\2abe941153d0331bb7c2fbcd48ed8c36a67ca1d40bd572773e\n",
      "Successfully built gTTS gtts-token\n",
      "Installing collected packages: gtts-token, gTTS\n",
      "Successfully installed gTTS-1.2.2 gtts-token-1.1.1\n"
     ]
    }
   ],
   "source": [
    "! pip install gTTS"
   ]
  },
  {
   "cell_type": "code",
   "execution_count": 42,
   "metadata": {},
   "outputs": [
    {
     "name": "stdout",
     "output_type": "stream",
     "text": [
      "Collecting pygame\n",
      "  Downloading pygame-1.9.3-cp36-cp36m-win_amd64.whl (4.2MB)\n",
      "Installing collected packages: pygame\n",
      "Successfully installed pygame-1.9.3\n"
     ]
    }
   ],
   "source": [
    "! pip install pygame"
   ]
  },
  {
   "cell_type": "markdown",
   "metadata": {},
   "source": [
    "## 讓電腦講話"
   ]
  },
  {
   "cell_type": "code",
   "execution_count": 44,
   "metadata": {
    "collapsed": true
   },
   "outputs": [],
   "source": [
    "from gtts import gTTS\n",
    "from pygame import mixer\n",
    "import tempfile\n",
    "\n",
    "mixer.init()\n",
    "\n",
    "def speak(sentence):\n",
    "    with tempfile.NamedTemporaryFile(delete=True) as fp:\n",
    "        tts = gTTS(text=sentence, lang='zh')\n",
    "        tts.save(\"[].mp3\".format(fp.name))\n",
    "        mixer.music.load('[].mp3'.format(fp.name))\n",
    "        mixer.music.play()\n",
    "speak('hello world')"
   ]
  },
  {
   "cell_type": "markdown",
   "metadata": {},
   "source": [
    "## 使用Pandas 讀取結構化與非結構化資料"
   ]
  },
  {
   "cell_type": "code",
   "execution_count": 81,
   "metadata": {
    "collapsed": true
   },
   "outputs": [],
   "source": [
    "import pandas"
   ]
  },
  {
   "cell_type": "code",
   "execution_count": 3,
   "metadata": {},
   "outputs": [
    {
     "data": {
      "text/html": [
       "<div>\n",
       "<style>\n",
       "    .dataframe thead tr:only-child th {\n",
       "        text-align: right;\n",
       "    }\n",
       "\n",
       "    .dataframe thead th {\n",
       "        text-align: left;\n",
       "    }\n",
       "\n",
       "    .dataframe tbody tr th {\n",
       "        vertical-align: top;\n",
       "    }\n",
       "</style>\n",
       "<table border=\"1\" class=\"dataframe\">\n",
       "  <thead>\n",
       "    <tr style=\"text-align: right;\">\n",
       "      <th></th>\n",
       "      <th>id</th>\n",
       "      <th>年度</th>\n",
       "      <th>股本</th>\n",
       "      <th>財報評分</th>\n",
       "      <th>營業收入</th>\n",
       "      <th>營業毛利</th>\n",
       "      <th>營業利益</th>\n",
       "      <th>稅後淨利</th>\n",
       "      <th>ROE</th>\n",
       "      <th>ROA</th>\n",
       "      <th>稅後EPS</th>\n",
       "      <th>stockid</th>\n",
       "    </tr>\n",
       "  </thead>\n",
       "  <tbody>\n",
       "    <tr>\n",
       "      <th>count</th>\n",
       "      <td>6753.000000</td>\n",
       "      <td>6753.000000</td>\n",
       "      <td>6753.000000</td>\n",
       "      <td>6753.000000</td>\n",
       "      <td>6753.000000</td>\n",
       "      <td>6753.000000</td>\n",
       "      <td>6753.000000</td>\n",
       "      <td>6753.000000</td>\n",
       "      <td>6753.000000</td>\n",
       "      <td>6753.000000</td>\n",
       "      <td>6753.000000</td>\n",
       "      <td>6753.000000</td>\n",
       "    </tr>\n",
       "    <tr>\n",
       "      <th>mean</th>\n",
       "      <td>706.298682</td>\n",
       "      <td>2008.213239</td>\n",
       "      <td>96.254445</td>\n",
       "      <td>45.958389</td>\n",
       "      <td>320.276841</td>\n",
       "      <td>53.351540</td>\n",
       "      <td>22.002630</td>\n",
       "      <td>18.111401</td>\n",
       "      <td>5.751599</td>\n",
       "      <td>3.753055</td>\n",
       "      <td>1.943761</td>\n",
       "      <td>2127.809862</td>\n",
       "    </tr>\n",
       "    <tr>\n",
       "      <th>std</th>\n",
       "      <td>479.368400</td>\n",
       "      <td>4.581007</td>\n",
       "      <td>224.022412</td>\n",
       "      <td>13.544027</td>\n",
       "      <td>1436.320384</td>\n",
       "      <td>202.286943</td>\n",
       "      <td>139.373511</td>\n",
       "      <td>95.252585</td>\n",
       "      <td>21.327577</td>\n",
       "      <td>8.073633</td>\n",
       "      <td>14.142786</td>\n",
       "      <td>551.763198</td>\n",
       "    </tr>\n",
       "    <tr>\n",
       "      <th>min</th>\n",
       "      <td>1.000000</td>\n",
       "      <td>1999.000000</td>\n",
       "      <td>0.000000</td>\n",
       "      <td>10.000000</td>\n",
       "      <td>-48.800000</td>\n",
       "      <td>-363.000000</td>\n",
       "      <td>-577.000000</td>\n",
       "      <td>-613.000000</td>\n",
       "      <td>-940.000000</td>\n",
       "      <td>-107.000000</td>\n",
       "      <td>-18.790000</td>\n",
       "      <td>1101.000000</td>\n",
       "    </tr>\n",
       "    <tr>\n",
       "      <th>25%</th>\n",
       "      <td>289.000000</td>\n",
       "      <td>2005.000000</td>\n",
       "      <td>13.900000</td>\n",
       "      <td>37.000000</td>\n",
       "      <td>24.200000</td>\n",
       "      <td>3.870000</td>\n",
       "      <td>0.310000</td>\n",
       "      <td>0.360000</td>\n",
       "      <td>1.270000</td>\n",
       "      <td>0.520000</td>\n",
       "      <td>0.170000</td>\n",
       "      <td>1568.000000</td>\n",
       "    </tr>\n",
       "    <tr>\n",
       "      <th>50%</th>\n",
       "      <td>647.000000</td>\n",
       "      <td>2009.000000</td>\n",
       "      <td>28.200000</td>\n",
       "      <td>45.000000</td>\n",
       "      <td>61.000000</td>\n",
       "      <td>10.600000</td>\n",
       "      <td>2.870000</td>\n",
       "      <td>2.530000</td>\n",
       "      <td>6.770000</td>\n",
       "      <td>3.450000</td>\n",
       "      <td>1.080000</td>\n",
       "      <td>2329.000000</td>\n",
       "    </tr>\n",
       "    <tr>\n",
       "      <th>75%</th>\n",
       "      <td>1074.000000</td>\n",
       "      <td>2012.000000</td>\n",
       "      <td>64.100000</td>\n",
       "      <td>53.000000</td>\n",
       "      <td>178.000000</td>\n",
       "      <td>30.200000</td>\n",
       "      <td>10.500000</td>\n",
       "      <td>9.520000</td>\n",
       "      <td>13.300000</td>\n",
       "      <td>7.150000</td>\n",
       "      <td>2.470000</td>\n",
       "      <td>2489.000000</td>\n",
       "    </tr>\n",
       "    <tr>\n",
       "      <th>max</th>\n",
       "      <td>1923.000000</td>\n",
       "      <td>2015.000000</td>\n",
       "      <td>2643.000000</td>\n",
       "      <td>100.000000</td>\n",
       "      <td>44821.000000</td>\n",
       "      <td>6830.000000</td>\n",
       "      <td>6317.000000</td>\n",
       "      <td>3066.000000</td>\n",
       "      <td>132.000000</td>\n",
       "      <td>107.000000</td>\n",
       "      <td>954.000000</td>\n",
       "      <td>3038.000000</td>\n",
       "    </tr>\n",
       "  </tbody>\n",
       "</table>\n",
       "</div>"
      ],
      "text/plain": [
       "                id           年度           股本         財報評分          營業收入  \\\n",
       "count  6753.000000  6753.000000  6753.000000  6753.000000   6753.000000   \n",
       "mean    706.298682  2008.213239    96.254445    45.958389    320.276841   \n",
       "std     479.368400     4.581007   224.022412    13.544027   1436.320384   \n",
       "min       1.000000  1999.000000     0.000000    10.000000    -48.800000   \n",
       "25%     289.000000  2005.000000    13.900000    37.000000     24.200000   \n",
       "50%     647.000000  2009.000000    28.200000    45.000000     61.000000   \n",
       "75%    1074.000000  2012.000000    64.100000    53.000000    178.000000   \n",
       "max    1923.000000  2015.000000  2643.000000   100.000000  44821.000000   \n",
       "\n",
       "              營業毛利         營業利益         稅後淨利          ROE          ROA  \\\n",
       "count  6753.000000  6753.000000  6753.000000  6753.000000  6753.000000   \n",
       "mean     53.351540    22.002630    18.111401     5.751599     3.753055   \n",
       "std     202.286943   139.373511    95.252585    21.327577     8.073633   \n",
       "min    -363.000000  -577.000000  -613.000000  -940.000000  -107.000000   \n",
       "25%       3.870000     0.310000     0.360000     1.270000     0.520000   \n",
       "50%      10.600000     2.870000     2.530000     6.770000     3.450000   \n",
       "75%      30.200000    10.500000     9.520000    13.300000     7.150000   \n",
       "max    6830.000000  6317.000000  3066.000000   132.000000   107.000000   \n",
       "\n",
       "             稅後EPS      stockid  \n",
       "count  6753.000000  6753.000000  \n",
       "mean      1.943761  2127.809862  \n",
       "std      14.142786   551.763198  \n",
       "min     -18.790000  1101.000000  \n",
       "25%       0.170000  1568.000000  \n",
       "50%       1.080000  2329.000000  \n",
       "75%       2.470000  2489.000000  \n",
       "max     954.000000  3038.000000  "
      ]
     },
     "execution_count": 3,
     "metadata": {},
     "output_type": "execute_result"
    }
   ],
   "source": [
    "## 讀取 Excel\n",
    "stock = pandas.read_excel('C://Users//TNY//stock.xlsx')\n",
    "stock.describe()"
   ]
  },
  {
   "cell_type": "code",
   "execution_count": 20,
   "metadata": {},
   "outputs": [
    {
     "data": {
      "text/plain": [
       "['BPS',\n",
       " 'EPS成長',\n",
       " 'ROA',\n",
       " 'ROE',\n",
       " 'T',\n",
       " '_AXIS_ALIASES',\n",
       " '_AXIS_IALIASES',\n",
       " '_AXIS_LEN',\n",
       " '_AXIS_NAMES',\n",
       " '_AXIS_NUMBERS',\n",
       " '_AXIS_ORDERS',\n",
       " '_AXIS_REVERSED',\n",
       " '_AXIS_SLICEMAP',\n",
       " '__abs__',\n",
       " '__add__',\n",
       " '__and__',\n",
       " '__array__',\n",
       " '__array_wrap__',\n",
       " '__bool__',\n",
       " '__bytes__',\n",
       " '__class__',\n",
       " '__contains__',\n",
       " '__copy__',\n",
       " '__deepcopy__',\n",
       " '__delattr__',\n",
       " '__delitem__',\n",
       " '__dict__',\n",
       " '__dir__',\n",
       " '__div__',\n",
       " '__doc__',\n",
       " '__eq__',\n",
       " '__finalize__',\n",
       " '__floordiv__',\n",
       " '__format__',\n",
       " '__ge__',\n",
       " '__getattr__',\n",
       " '__getattribute__',\n",
       " '__getitem__',\n",
       " '__getstate__',\n",
       " '__gt__',\n",
       " '__hash__',\n",
       " '__iadd__',\n",
       " '__imul__',\n",
       " '__init__',\n",
       " '__init_subclass__',\n",
       " '__invert__',\n",
       " '__ipow__',\n",
       " '__isub__',\n",
       " '__iter__',\n",
       " '__itruediv__',\n",
       " '__le__',\n",
       " '__len__',\n",
       " '__lt__',\n",
       " '__mod__',\n",
       " '__module__',\n",
       " '__mul__',\n",
       " '__ne__',\n",
       " '__neg__',\n",
       " '__new__',\n",
       " '__nonzero__',\n",
       " '__or__',\n",
       " '__pow__',\n",
       " '__radd__',\n",
       " '__rand__',\n",
       " '__rdiv__',\n",
       " '__reduce__',\n",
       " '__reduce_ex__',\n",
       " '__repr__',\n",
       " '__rfloordiv__',\n",
       " '__rmod__',\n",
       " '__rmul__',\n",
       " '__ror__',\n",
       " '__round__',\n",
       " '__rpow__',\n",
       " '__rsub__',\n",
       " '__rtruediv__',\n",
       " '__rxor__',\n",
       " '__setattr__',\n",
       " '__setitem__',\n",
       " '__setstate__',\n",
       " '__sizeof__',\n",
       " '__str__',\n",
       " '__sub__',\n",
       " '__subclasshook__',\n",
       " '__truediv__',\n",
       " '__unicode__',\n",
       " '__weakref__',\n",
       " '__xor__',\n",
       " '_accessors',\n",
       " '_add_numeric_operations',\n",
       " '_add_series_only_operations',\n",
       " '_add_series_or_dataframe_operations',\n",
       " '_agg_by_level',\n",
       " '_agg_doc',\n",
       " '_aggregate',\n",
       " '_aggregate_multiple_funcs',\n",
       " '_align_frame',\n",
       " '_align_series',\n",
       " '_apply_broadcast',\n",
       " '_apply_empty_result',\n",
       " '_apply_raw',\n",
       " '_apply_standard',\n",
       " '_at',\n",
       " '_box_col_values',\n",
       " '_box_item_values',\n",
       " '_builtin_table',\n",
       " '_check_inplace_setting',\n",
       " '_check_is_chained_assignment_possible',\n",
       " '_check_percentile',\n",
       " '_check_setitem_copy',\n",
       " '_clear_item_cache',\n",
       " '_clip_with_scalar',\n",
       " '_combine_const',\n",
       " '_combine_frame',\n",
       " '_combine_match_columns',\n",
       " '_combine_match_index',\n",
       " '_combine_series',\n",
       " '_combine_series_infer',\n",
       " '_compare_frame',\n",
       " '_compare_frame_evaluate',\n",
       " '_consolidate',\n",
       " '_consolidate_inplace',\n",
       " '_construct_axes_dict',\n",
       " '_construct_axes_dict_for_slice',\n",
       " '_construct_axes_dict_from',\n",
       " '_construct_axes_from_arguments',\n",
       " '_constructor',\n",
       " '_constructor_expanddim',\n",
       " '_constructor_sliced',\n",
       " '_convert',\n",
       " '_count_level',\n",
       " '_create_indexer',\n",
       " '_cython_table',\n",
       " '_dir_additions',\n",
       " '_dir_deletions',\n",
       " '_ensure_valid_index',\n",
       " '_expand_axes',\n",
       " '_flex_compare_frame',\n",
       " '_from_arrays',\n",
       " '_from_axes',\n",
       " '_get_agg_axis',\n",
       " '_get_axis',\n",
       " '_get_axis_name',\n",
       " '_get_axis_number',\n",
       " '_get_axis_resolvers',\n",
       " '_get_block_manager_axis',\n",
       " '_get_bool_data',\n",
       " '_get_cacher',\n",
       " '_get_index_resolvers',\n",
       " '_get_item_cache',\n",
       " '_get_numeric_data',\n",
       " '_get_values',\n",
       " '_getitem_array',\n",
       " '_getitem_column',\n",
       " '_getitem_frame',\n",
       " '_getitem_multilevel',\n",
       " '_getitem_slice',\n",
       " '_gotitem',\n",
       " '_iat',\n",
       " '_iget_item_cache',\n",
       " '_iloc',\n",
       " '_indexed_same',\n",
       " '_info_axis',\n",
       " '_info_axis_name',\n",
       " '_info_axis_number',\n",
       " '_info_repr',\n",
       " '_init_dict',\n",
       " '_init_mgr',\n",
       " '_init_ndarray',\n",
       " '_internal_names',\n",
       " '_internal_names_set',\n",
       " '_is_builtin_func',\n",
       " '_is_cached',\n",
       " '_is_cython_func',\n",
       " '_is_datelike_mixed_type',\n",
       " '_is_mixed_type',\n",
       " '_is_numeric_mixed_type',\n",
       " '_is_view',\n",
       " '_ix',\n",
       " '_ixs',\n",
       " '_join_compat',\n",
       " '_loc',\n",
       " '_maybe_cache_changed',\n",
       " '_maybe_update_cacher',\n",
       " '_metadata',\n",
       " '_needs_reindex_multi',\n",
       " '_obj_with_exclusions',\n",
       " '_protect_consolidate',\n",
       " '_reduce',\n",
       " '_reindex_axes',\n",
       " '_reindex_axis',\n",
       " '_reindex_columns',\n",
       " '_reindex_index',\n",
       " '_reindex_multi',\n",
       " '_reindex_with_indexers',\n",
       " '_repr_data_resource_',\n",
       " '_repr_fits_horizontal_',\n",
       " '_repr_fits_vertical_',\n",
       " '_repr_html_',\n",
       " '_repr_latex_',\n",
       " '_reset_cache',\n",
       " '_reset_cacher',\n",
       " '_sanitize_column',\n",
       " '_selected_obj',\n",
       " '_selection',\n",
       " '_selection_list',\n",
       " '_selection_name',\n",
       " '_series',\n",
       " '_set_as_cached',\n",
       " '_set_axis',\n",
       " '_set_axis_name',\n",
       " '_set_is_copy',\n",
       " '_set_item',\n",
       " '_setitem_array',\n",
       " '_setitem_frame',\n",
       " '_setitem_slice',\n",
       " '_setup_axes',\n",
       " '_shallow_copy',\n",
       " '_slice',\n",
       " '_stat_axis',\n",
       " '_stat_axis_name',\n",
       " '_stat_axis_number',\n",
       " '_try_aggregate_string_function',\n",
       " '_typ',\n",
       " '_unpickle_frame_compat',\n",
       " '_unpickle_matrix_compat',\n",
       " '_update_inplace',\n",
       " '_validate_dtype',\n",
       " '_values',\n",
       " '_where',\n",
       " '_xs',\n",
       " 'abs',\n",
       " 'add',\n",
       " 'add_prefix',\n",
       " 'add_suffix',\n",
       " 'agg',\n",
       " 'aggregate',\n",
       " 'align',\n",
       " 'all',\n",
       " 'any',\n",
       " 'append',\n",
       " 'apply',\n",
       " 'applymap',\n",
       " 'as_blocks',\n",
       " 'as_matrix',\n",
       " 'asfreq',\n",
       " 'asof',\n",
       " 'assign',\n",
       " 'astype',\n",
       " 'at',\n",
       " 'at_time',\n",
       " 'axes',\n",
       " 'between_time',\n",
       " 'bfill',\n",
       " 'blocks',\n",
       " 'bool',\n",
       " 'boxplot',\n",
       " 'clip',\n",
       " 'clip_lower',\n",
       " 'clip_upper',\n",
       " 'columns',\n",
       " 'combine',\n",
       " 'combine_first',\n",
       " 'compound',\n",
       " 'consolidate',\n",
       " 'convert_objects',\n",
       " 'copy',\n",
       " 'corr',\n",
       " 'corrwith',\n",
       " 'count',\n",
       " 'cov',\n",
       " 'cummax',\n",
       " 'cummin',\n",
       " 'cumprod',\n",
       " 'cumsum',\n",
       " 'describe',\n",
       " 'diff',\n",
       " 'div',\n",
       " 'divide',\n",
       " 'dot',\n",
       " 'drop',\n",
       " 'drop_duplicates',\n",
       " 'dropna',\n",
       " 'dtypes',\n",
       " 'duplicated',\n",
       " 'empty',\n",
       " 'eq',\n",
       " 'equals',\n",
       " 'eval',\n",
       " 'ewm',\n",
       " 'expanding',\n",
       " 'ffill',\n",
       " 'fillna',\n",
       " 'filter',\n",
       " 'first',\n",
       " 'first_valid_index',\n",
       " 'floordiv',\n",
       " 'from_csv',\n",
       " 'from_dict',\n",
       " 'from_items',\n",
       " 'from_records',\n",
       " 'ftypes',\n",
       " 'ge',\n",
       " 'get',\n",
       " 'get_dtype_counts',\n",
       " 'get_ftype_counts',\n",
       " 'get_value',\n",
       " 'get_values',\n",
       " 'groupby',\n",
       " 'gt',\n",
       " 'head',\n",
       " 'hist',\n",
       " 'iat',\n",
       " 'id',\n",
       " 'idxmax',\n",
       " 'idxmin',\n",
       " 'iloc',\n",
       " 'index',\n",
       " 'info',\n",
       " 'insert',\n",
       " 'interpolate',\n",
       " 'is_copy',\n",
       " 'isin',\n",
       " 'isnull',\n",
       " 'items',\n",
       " 'iteritems',\n",
       " 'iterrows',\n",
       " 'itertuples',\n",
       " 'ix',\n",
       " 'join',\n",
       " 'keys',\n",
       " 'kurt',\n",
       " 'kurtosis',\n",
       " 'last',\n",
       " 'last_valid_index',\n",
       " 'le',\n",
       " 'loc',\n",
       " 'lookup',\n",
       " 'lt',\n",
       " 'mad',\n",
       " 'mask',\n",
       " 'max',\n",
       " 'mean',\n",
       " 'median',\n",
       " 'melt',\n",
       " 'memory_usage',\n",
       " 'merge',\n",
       " 'min',\n",
       " 'mod',\n",
       " 'mode',\n",
       " 'mul',\n",
       " 'multiply',\n",
       " 'ndim',\n",
       " 'ne',\n",
       " 'nlargest',\n",
       " 'notnull',\n",
       " 'nsmallest',\n",
       " 'nunique',\n",
       " 'pct_change',\n",
       " 'pipe',\n",
       " 'pivot',\n",
       " 'pivot_table',\n",
       " 'plot',\n",
       " 'pop',\n",
       " 'pow',\n",
       " 'prod',\n",
       " 'product',\n",
       " 'quantile',\n",
       " 'query',\n",
       " 'radd',\n",
       " 'rank',\n",
       " 'rdiv',\n",
       " 'reindex',\n",
       " 'reindex_axis',\n",
       " 'reindex_like',\n",
       " 'rename',\n",
       " 'rename_axis',\n",
       " 'reorder_levels',\n",
       " 'replace',\n",
       " 'resample',\n",
       " 'reset_index',\n",
       " 'rfloordiv',\n",
       " 'rmod',\n",
       " 'rmul',\n",
       " 'rolling',\n",
       " 'round',\n",
       " 'rpow',\n",
       " 'rsub',\n",
       " 'rtruediv',\n",
       " 'sample',\n",
       " 'select',\n",
       " 'select_dtypes',\n",
       " 'sem',\n",
       " 'set_axis',\n",
       " 'set_index',\n",
       " 'set_value',\n",
       " 'shape',\n",
       " 'shift',\n",
       " 'size',\n",
       " 'skew',\n",
       " 'slice_shift',\n",
       " 'sort_index',\n",
       " 'sort_values',\n",
       " 'sortlevel',\n",
       " 'squeeze',\n",
       " 'stack',\n",
       " 'std',\n",
       " 'stockid',\n",
       " 'style',\n",
       " 'sub',\n",
       " 'subtract',\n",
       " 'sum',\n",
       " 'swapaxes',\n",
       " 'swaplevel',\n",
       " 'tail',\n",
       " 'take',\n",
       " 'to_clipboard',\n",
       " 'to_csv',\n",
       " 'to_dense',\n",
       " 'to_dict',\n",
       " 'to_excel',\n",
       " 'to_feather',\n",
       " 'to_gbq',\n",
       " 'to_hdf',\n",
       " 'to_html',\n",
       " 'to_json',\n",
       " 'to_latex',\n",
       " 'to_msgpack',\n",
       " 'to_panel',\n",
       " 'to_period',\n",
       " 'to_pickle',\n",
       " 'to_records',\n",
       " 'to_sparse',\n",
       " 'to_sql',\n",
       " 'to_stata',\n",
       " 'to_string',\n",
       " 'to_timestamp',\n",
       " 'to_xarray',\n",
       " 'transform',\n",
       " 'transpose',\n",
       " 'truediv',\n",
       " 'truncate',\n",
       " 'tshift',\n",
       " 'tz_convert',\n",
       " 'tz_localize',\n",
       " 'unstack',\n",
       " 'update',\n",
       " 'values',\n",
       " 'var',\n",
       " 'where',\n",
       " 'xs',\n",
       " '平均',\n",
       " '年度',\n",
       " '收盤',\n",
       " '業外損益',\n",
       " '漲跌',\n",
       " '營業利益',\n",
       " '營業收入',\n",
       " '營業毛利',\n",
       " '稅後EPS',\n",
       " '稅後淨利',\n",
       " '股本',\n",
       " '財報評分']"
      ]
     },
     "execution_count": 20,
     "metadata": {},
     "output_type": "execute_result"
    }
   ],
   "source": [
    "dir(stock)"
   ]
  },
  {
   "cell_type": "code",
   "execution_count": 4,
   "metadata": {},
   "outputs": [
    {
     "data": {
      "text/html": [
       "<div>\n",
       "<style>\n",
       "    .dataframe thead tr:only-child th {\n",
       "        text-align: right;\n",
       "    }\n",
       "\n",
       "    .dataframe thead th {\n",
       "        text-align: left;\n",
       "    }\n",
       "\n",
       "    .dataframe tbody tr th {\n",
       "        vertical-align: top;\n",
       "    }\n",
       "</style>\n",
       "<table border=\"1\" class=\"dataframe\">\n",
       "  <thead>\n",
       "    <tr style=\"text-align: right;\">\n",
       "      <th></th>\n",
       "      <th>Unnamed: 0</th>\n",
       "      <th>year</th>\n",
       "      <th>salary</th>\n",
       "    </tr>\n",
       "  </thead>\n",
       "  <tbody>\n",
       "    <tr>\n",
       "      <th>0</th>\n",
       "      <td>1</td>\n",
       "      <td>2.4</td>\n",
       "      <td>6600</td>\n",
       "    </tr>\n",
       "    <tr>\n",
       "      <th>1</th>\n",
       "      <td>2</td>\n",
       "      <td>5.5</td>\n",
       "      <td>10100</td>\n",
       "    </tr>\n",
       "    <tr>\n",
       "      <th>2</th>\n",
       "      <td>3</td>\n",
       "      <td>3.3</td>\n",
       "      <td>7300</td>\n",
       "    </tr>\n",
       "    <tr>\n",
       "      <th>3</th>\n",
       "      <td>4</td>\n",
       "      <td>0.2</td>\n",
       "      <td>5000</td>\n",
       "    </tr>\n",
       "    <tr>\n",
       "      <th>4</th>\n",
       "      <td>5</td>\n",
       "      <td>1.5</td>\n",
       "      <td>6100</td>\n",
       "    </tr>\n",
       "  </tbody>\n",
       "</table>\n",
       "</div>"
      ],
      "text/plain": [
       "   Unnamed: 0  year  salary\n",
       "0           1   2.4    6600\n",
       "1           2   5.5   10100\n",
       "2           3   3.3    7300\n",
       "3           4   0.2    5000\n",
       "4           5   1.5    6100"
      ]
     },
     "execution_count": 4,
     "metadata": {},
     "output_type": "execute_result"
    }
   ],
   "source": [
    "## 讀取 csv\n",
    "salary = pandas.read_csv('https://raw.githubusercontent.com/ywchiu/tibamepy/master/data/salary.csv')\n",
    "salary.head()"
   ]
  },
  {
   "cell_type": "code",
   "execution_count": 21,
   "metadata": {
    "collapsed": true
   },
   "outputs": [],
   "source": [
    "import pandas\n",
    "stock2330 = pandas.read_json('https://raw.githubusercontent.com/ywchiu/tibamepy/master/data/2330.json')"
   ]
  },
  {
   "cell_type": "code",
   "execution_count": 22,
   "metadata": {},
   "outputs": [
    {
     "data": {
      "text/html": [
       "<div>\n",
       "<style>\n",
       "    .dataframe thead tr:only-child th {\n",
       "        text-align: right;\n",
       "    }\n",
       "\n",
       "    .dataframe thead th {\n",
       "        text-align: left;\n",
       "    }\n",
       "\n",
       "    .dataframe tbody tr th {\n",
       "        vertical-align: top;\n",
       "    }\n",
       "</style>\n",
       "<table border=\"1\" class=\"dataframe\">\n",
       "  <thead>\n",
       "    <tr style=\"text-align: right;\">\n",
       "      <th></th>\n",
       "      <th>Adj Close</th>\n",
       "      <th>Close</th>\n",
       "      <th>Date</th>\n",
       "      <th>High</th>\n",
       "      <th>Low</th>\n",
       "      <th>Open</th>\n",
       "      <th>Volume</th>\n",
       "    </tr>\n",
       "  </thead>\n",
       "  <tbody>\n",
       "    <tr>\n",
       "      <th>0</th>\n",
       "      <td>172.0</td>\n",
       "      <td>172.0</td>\n",
       "      <td>2016-07-21</td>\n",
       "      <td>172.0</td>\n",
       "      <td>170.0</td>\n",
       "      <td>171.0</td>\n",
       "      <td>33130000</td>\n",
       "    </tr>\n",
       "    <tr>\n",
       "      <th>1</th>\n",
       "      <td>170.0</td>\n",
       "      <td>170.0</td>\n",
       "      <td>2016-07-20</td>\n",
       "      <td>170.5</td>\n",
       "      <td>169.0</td>\n",
       "      <td>170.0</td>\n",
       "      <td>38053000</td>\n",
       "    </tr>\n",
       "    <tr>\n",
       "      <th>2</th>\n",
       "      <td>170.5</td>\n",
       "      <td>170.5</td>\n",
       "      <td>2016-07-19</td>\n",
       "      <td>170.5</td>\n",
       "      <td>169.0</td>\n",
       "      <td>170.5</td>\n",
       "      <td>42456000</td>\n",
       "    </tr>\n",
       "    <tr>\n",
       "      <th>3</th>\n",
       "      <td>169.5</td>\n",
       "      <td>169.5</td>\n",
       "      <td>2016-07-18</td>\n",
       "      <td>170.0</td>\n",
       "      <td>168.0</td>\n",
       "      <td>168.0</td>\n",
       "      <td>24749000</td>\n",
       "    </tr>\n",
       "    <tr>\n",
       "      <th>4</th>\n",
       "      <td>169.5</td>\n",
       "      <td>169.5</td>\n",
       "      <td>2016-07-15</td>\n",
       "      <td>169.5</td>\n",
       "      <td>169.5</td>\n",
       "      <td>169.5</td>\n",
       "      <td>41000</td>\n",
       "    </tr>\n",
       "  </tbody>\n",
       "</table>\n",
       "</div>"
      ],
      "text/plain": [
       "   Adj Close  Close       Date   High    Low   Open    Volume\n",
       "0      172.0  172.0 2016-07-21  172.0  170.0  171.0  33130000\n",
       "1      170.0  170.0 2016-07-20  170.5  169.0  170.0  38053000\n",
       "2      170.5  170.5 2016-07-19  170.5  169.0  170.5  42456000\n",
       "3      169.5  169.5 2016-07-18  170.0  168.0  168.0  24749000\n",
       "4      169.5  169.5 2016-07-15  169.5  169.5  169.5     41000"
      ]
     },
     "execution_count": 22,
     "metadata": {},
     "output_type": "execute_result"
    }
   ],
   "source": [
    "stock2330"
   ]
  },
  {
   "cell_type": "code",
   "execution_count": 24,
   "metadata": {
    "collapsed": true
   },
   "outputs": [],
   "source": [
    "stock2330.to_excel('2330_tw.xlsx')"
   ]
  },
  {
   "cell_type": "code",
   "execution_count": 25,
   "metadata": {
    "collapsed": true
   },
   "outputs": [],
   "source": [
    "stock2330.to_clipboard()"
   ]
  },
  {
   "cell_type": "markdown",
   "metadata": {},
   "source": [
    "## 網路爬蟲"
   ]
  },
  {
   "cell_type": "markdown",
   "metadata": {},
   "source": [
    "### 使用Python Requests 取得頁面內容"
   ]
  },
  {
   "cell_type": "code",
   "execution_count": 27,
   "metadata": {
    "collapsed": true
   },
   "outputs": [],
   "source": [
    "import requests\n",
    "res = requests.get('https://tw.appledaily.com/new/realtime')"
   ]
  },
  {
   "cell_type": "code",
   "execution_count": 30,
   "metadata": {},
   "outputs": [
    {
     "data": {
      "text/plain": [
       "requests.models.Response"
      ]
     },
     "execution_count": 30,
     "metadata": {},
     "output_type": "execute_result"
    }
   ],
   "source": [
    "type(res)\n",
    "#res.text"
   ]
  },
  {
   "cell_type": "code",
   "execution_count": 32,
   "metadata": {
    "collapsed": true
   },
   "outputs": [],
   "source": [
    "import requests\n",
    "\n",
    "url = 'https://www.thsrc.com.tw/tw/TimeTable/SearchResult'\n",
    "payload = {\n",
    "'StartStation':'977abb69-413a-4ccf-a109-0272c24fd490',\n",
    "'EndStation':'60831846-f0e4-47f6-9b5b-46323ebdcef7',\n",
    "'SearchDate':'2018/02/03',\n",
    "'SearchTime':'18:00',\n",
    "'SearchWay':'DepartureInMandarin'\n",
    "}\n",
    "res = requests.post(url, data = payload)"
   ]
  },
  {
   "cell_type": "code",
   "execution_count": 33,
   "metadata": {},
   "outputs": [
    {
     "data": {
      "text/plain": [
       "'\\r\\n<!DOCTYPE html>\\r\\n<html lang=\"zh-tw\">\\r\\n\\r\\n\\r\\n<link rel=\"canonical\" href=\"https://www.thsrc.com.tw\"/>\\r\\n\\r\\n<meta charset=\"utf-8\" />\\r\\n<link rel=\"shortcut icon\" href=\"/Content/favicon/favicon.ico\" />\\r\\n<link rel=\"apple-touch-icon\" href=\"/Content/favicon/57_57.png\" sizes=\"57x57\" />\\r\\n<link rel=\"apple-touch-icon\" href=\"/Content/favicon/72_72.png\" sizes=\"72x72\" />\\r\\n<link rel=\"apple-touch-icon\" href=\"/Content/favicon/76_76.png\" sizes=\"76x76\" />\\r\\n<link rel=\"apple-touch-icon\" href=\"/Content/favicon/114_114.png\" sizes=\"114x114\" />\\r\\n<link rel=\"apple-touch-icon\" href=\"/Content/favicon/120_120.png\" sizes=\"120x120\" />\\r\\n<link rel=\"apple-touch-icon\" href=\"/Content/favicon/144_144.png\" sizes=\"144x144\" />\\r\\n<link rel=\"apple-touch-icon\" href=\"/Content/favicon/152_152.png\" sizes=\"152x152\" />\\r\\n<link rel=\"apple-touch-icon-precomposed\" href=\"/Content/favicon/57_57.png\" sizes=\"57x57\" />\\r\\n<link rel=\"apple-touch-icon-precomposed\" href=\"/Content/favicon/72_72.png\" sizes=\"72x72\" />\\r\\n<link rel=\"apple-touch-icon-precomposed\" href=\"/Content/favicon/76_76.png\" sizes=\"76x76\" />\\r\\n<link rel=\"apple-touch-icon-precomposed\" href=\"/Content/favicon/114_114.png\" sizes=\"114x114\" />\\r\\n<link rel=\"apple-touch-icon-precomposed\" href=\"/Content/favicon/120_120.png\" sizes=\"120x120\" />\\r\\n<link rel=\"apple-touch-icon-precomposed\" href=\"/Content/favicon/144_144.png\" sizes=\"144x144\" />\\r\\n<link rel=\"apple-touch-icon-precomposed\" href=\"/Content/favicon/152_152.png\" sizes=\"152x152\" />\\r\\n<!--<meta name=\"viewport\" content=\"width=device-width, initial-scale=1.0, user-scalable=no, minimum-scale=1.0, maximum-scale=1.0\" />-->\\r\\n<meta name=\"keywords\" content=\"高鐵,快速,旅遊假期,遊玩\">\\r\\n<meta name=\"description\" content=\"台灣高鐵連結台灣南北主要城市，我們不只是交通運輸業，更是推動台灣\\xad前進的服務業；我們代表的不僅只是速度，而是速度所帶來的現代生活新態度；我們以更文明的旅行體驗，成為你實現夢想的助力，台灣高鐵，實踐台灣新生活。\">\\r\\n<meta name=\"author\" content=\"mi70 uni-net\" />\\r\\n\\r\\n\\r\\n    <meta http-equiv=\"cache-control\" content=\"private\">\\r\\n\\r\\n\\r\\n<!--Facebook SEO start-->\\r\\n\\r\\n<meta property=\"og:title\" content=\"台灣高鐵\" />\\r\\n<meta property=\"og:url\" content=\"http://www.thsrc.com.tw/\" />\\r\\n<meta property=\"og:image\" content=\"http://www.thsrc.com.tw/Content/logo.jpg\" />\\r\\n<!--Facebook SEO end-->\\r\\n    \\r\\n<!--Google +1 start-->\\r\\n<meta itemprop=\"name\" content=\"台灣高鐵\" />\\r\\n<meta itemprop=\"description\" content=\"台灣高鐵連結台灣南北主要城市，我們不只是交通運輸業，更是推動台灣\\xad前進的服務業；我們代表的不僅只是速度，而是速度所帶來的現代生活新態度；我們以更文明的旅行體驗，成為你實現夢想的助力，台灣高鐵，實踐台灣新生活。\" />\\r\\n<meta itemprop=\"image\" content=\"http://www.thsrc.com.tw/Content/logo.jpg\" />\\r\\n<!--Google +1 end-->\\r\\n\\r\\n<!--[if lt IE 9]>\\r\\n<script src=\"//html5shim.googlecode.com/svn/trunk/html5.js\"></script>\\r\\n<script src=\"/Content/dist/html5shiv.js\" type=\"text/javaScript\"></script>\\r\\n<script src=\"/Content/dist/html5shiv-printshiv.js\" type=\"text/javaScript\"></script>\\r\\n<![endif]-->\\r\\n<!--[if IE 7]>\\r\\n<script src=\"//ie7-js.googlecode.com/svn/version/2.1(beta4)/IE9.js\"></script>\\r\\n<![endif]-->\\r\\n<!--[if IE 8]>\\r\\n<script src=\"//ie7-js.googlecode.com/svn/version/2.1(beta4)/IE9.js\"></script>\\r\\n<![endif]-->\\r\\n<!--[if IE 6]>\\r\\n<link href=\"/Content/css/pngFix.css\"  rel=\"stylesheet\" type=\"text/css\" />\\r\\n<script src=\"/Content/iepngfix/iepngfix_tilebg.js\" type=\"text/javaScript\"></script> \\r\\n<![endif]-->\\r\\n\\r\\n\\r\\n<!-- Original CSS for the template -->\\r\\n<link href=\"/Content/css/css_reset.css\" rel=\"stylesheet\" type=\"text/css\" />\\r\\n<!-------------------->\\r\\n<!-- CSS for jQuery -->\\r\\n<!-------------------->\\r\\n<link href=\"/Content/css/jquery-ui-1.8.5.custom.css\" rel=\"stylesheet\" type=\"text/css\" />\\r\\n<link href=\"/Content/css/jquery.ui.datepicker.css\"  rel=\"stylesheet\" type=\"text/css\" />\\r\\n<link href=\"/Content/Script/fancybox/jquery.fancybox-1.3.1.css\" rel=\"stylesheet\" type=\"text/css\"  media=\"screen\" />\\r\\n<link href=\"/Content/css/main.css\" rel=\"stylesheet\" type=\"text/css\" />\\r\\n<link href=\"/Content/css/innerCommon.css\" rel=\"stylesheet\" type=\"text/css\">\\r\\n<link href=\"/Content/css/inner_all_common.css\" rel=\"stylesheet\" type=\"text/css\">\\r\\n\\r\\n<script src=\"/Content/Script/jquery-1.8.3.min.js\" type=\"text/javascript\"></script>\\r\\n<script src=\"/Content/Script/jquery-ui-1.8.5.custom.min.js\" type=\"text/javaScript\"></script>\\r\\n\\r\\n<script src=\"/Content/Script/ui.datepicker-zh-TW.js\" type=\"text/javaScript\"></script>\\r\\n\\r\\n<script src=\"/Content/Script/jquery.ui.datepicker.js\" type=\"text/javaScript\"></script>\\r\\n<script src=\"/Content/Script/fancybox/jquery.mousewheel-3.0.2.pack.js\" type=\"text/javaScript\"></script>\\r\\n<script src=\"/Content/Script/fancybox/jquery.fancybox-1.3.1.js\" type=\"text/javaScript\"></script>\\r\\n<script src=\"/Content/Script/dateTool.js\" type=\"text/javaScript\"></script>\\r\\n<script src=\"/Content/Script/THSRC.Common.js\" type=\"text/javaScript\"></script>\\r\\n<script language=\"JavaScript\" type=\"text/javascript\">\\r\\n    if (top.location != self.location) {\\r\\n        location.href = \"http://\" + self.location.host + \"/APPool/notice.html\";\\r\\n    }\\r\\n</script>\\r\\n\\r\\n<!-------------------->\\r\\n<!------ jQuery ------>\\r\\n<!-------------------->\\r\\n<script src=\"/Content/Script/jquery.validate.min.js\" type=\"text/javaScript\"></script>\\r\\n<script src=\"/Content/Script/jquery.validate.extension.js\" type=\"text/javaScript\"></script>\\r\\n<script src=\"/Content/Script/date.js\" type=\"text/javaScript\"></script>\\r\\n\\r\\n\\r\\n<script src=\"/Content/Script/json2.js\" type=\"text/javaScript\"></script> \\r\\n<script src=\"/Content/Script/JSON4ms.js\" type=\"text/javaScript\"></script>\\r\\n<script src=\"/Content/Script/jquery.tmpl.min.js\" type=\"text/javaScript\"></script>\\r\\n<script src=\"/Content/Script/jquery.tmplPlus.min.js\" type=\"text/javaScript\"></script>\\r\\n\\r\\n\\r\\n<script src=\"/Content/Script/jquery.cookie.js\" type=\"text/javaScript\"></script>\\r\\n<script src=\"/Content/Script/jquery.keyfilter.js\" type=\"text/javaScript\"></script>\\r\\n\\r\\n<script src=\"/Content/Script/jquery.easing.1.3.js\" type=\"text/javaScript\"></script>\\r\\n<script src=\"/Content/Script/jquery.ui.core.js\" type=\"text/javaScript\"></script>\\r\\n\\r\\n<script src=\"/Content/Script/jquery.ui.mouse.js\" type=\"text/javaScript\"></script>\\r\\n\\r\\n\\r\\n<script src=\"/Content/Script/jquery.scrollTo-min.js\" type=\"text/javaScript\"></script>\\r\\n<script src=\"/Content/Script/jquery.jqprint-0.3.js\" type=\"text/javaScript\"></script>\\r\\n<!------------------------------>\\r\\n<!-- Uninet Customize Library -->\\r\\n<!------------------------------>\\r\\n<script src=\"/Content/Script/check.js\" type=\"text/javaScript\"></script>\\r\\n\\r\\n<script src=\"/Content/Script/behaviour.js\" type=\"text/javaScript\"></script>\\r\\n\\r\\n\\r\\n\\r\\n\\r\\n\\r\\n<script src=\"/Content/Script/THSRC.Extends.js\" type=\"text/javaScript\"></script>\\r\\n<script src=\"/Content/Script/THSRC.Property.js\" type=\"text/javaScript\"></script>\\r\\n<script src=\"/Content/Script/THSRC.AjaxCheckBox.js\" type=\"text/javaScript\"></script>\\r\\n<script src=\"/Content/Script/THSRC.AjaxDropDownList.js\" type=\"text/javaScript\"></script>\\r\\n<script src=\"/Content/Script/FancyBox.js\" type=\"text/javascript\"></script>\\r\\n<script src=\"/Content/Script/nextPrevBtn.js\" type=\"text/javascript\"></script>\\r\\n<script src=\"/Content/Script/photoCenter.js\" type=\"text/javascript\"></script>\\r\\n<script src=\"/Content/Script/SocialMedia.ShareButton.js\" type=\"text/javascript\"></script>\\r\\n<head id=\"ctl00_Head1\"><title>\\r\\n\\t\\r\\n\\t\\t台灣高鐵 Taiwan High Speed Rail - 時刻表與票價查詢\\r\\n\\t\\r\\n</title>\\r\\n\\t<link rel=\"stylesheet\" type=\"text/css\" href=\"/Content/css/revision_before.css\" />\\r\\n\\t\\r\\n\\t<script src=\"/Content/Script/jquery.bxslider.min.js\" type=\"text/javaScript\"></script>\\r\\n\\t<link rel=\"stylesheet\" type=\"text/css\" href=\"/Content/css/jquery.bxslider.css\" />\\r\\n\\t\\r\\n\\t<link href=\"/Content/css/revision_after.css\" rel=\"stylesheet\" type=\"text/css\" />\\r\\n</head>\\r\\n\\r\\n<link href=\"/Content/css/innerCommon.css\"      rel=\"stylesheet\" type=\"text/css\">\\r\\n\\r\\n<link href=\"/Content/css/inner_all_common.css\" rel=\"stylesheet\" type=\"text/css\">\\r\\n<link href=\"/Content/css/time_search.css\"      rel=\"stylesheet\" type=\"text/css\">\\r\\n\\r\\n<link href=\"/Content/css/m_newStationLine.css\"rel=\"stylesheet\" type=\"text/css\">\\r\\n\\r\\n\\r\\n<body class=\"revision_cn\">\\r\\n\\t\\r\\n\\t\\r\\n<header>\\r\\n\\r\\n\\r\\n<div class=\"revision01\">\\r\\n\\t<div class=\"revision_content\">\\r\\n\\t\\t<div class=\"revision01_logo\"><a href=\"/\" title=\"台灣高鐵 官方網站\"></a></div>\\r\\n\\t\\t<div class=\"revision01_menu\">\\r\\n\\t\\t\\t\\r\\n<div class=\"revision01_menu_search\">\\r\\n<form action=\"/tw/Home/Search\" id=\"formWholeSiteSearch\" method=\"post\" name=\"formWholeSiteSearch\"><input class=\"revision01_menu_search_input\" id=\"searchBar\" name=\"searchBar\" placeholder=\"站內搜尋\" title=\"站內搜尋\" type=\"text\" value=\"\" />\\r\\n\\t<input type=\"submit\" id=\"searchBarSend\" class=\"revision01_menu_search_btn\" onkeypress=\"SubmitSearch();return false;\" onclick=\"SubmitSearch();return false;\" value=\"\" />\\r\\n</form>\\r\\n</div>\\r\\n<script type=\"text/javascript\">\\r\\n\\tfunction SubmitSearch() {\\r\\n\\t\\tvar keyword = $(\"#searchBar\").val();\\r\\n\\t\\tif (keyword != \"\") {\\r\\n\\t\\t\\t$(\"#formWholeSiteSearch\").submit();\\r\\n\\t\\t} else {\\r\\n\\t\\t\\talert(\"請輸入搜尋內容\");\\r\\n\\t\\t}\\r\\n\\t}\\r\\n</script>\\r\\n<noscript>\\r\\n請輸入搜尋內容\\r\\n</noscript>\\r\\n\\r\\n<div class=\"revision01_menu_language\">\\r\\n\\t<ul>\\r\\n\\t\\t\\r\\n\\t\\t<li><a href=\"/tw/Home/Index\" title=\"繁體中文\">繁體中文</a>\\r\\n\\t\\t\\t<ul>\\r\\n\\t\\t\\t\\t<li>\\r\\n\\t\\t\\t\\t\\t<ul>\\r\\n\\t\\t\\t\\t\\t\\t<li><a href=\"/jp/\" title=\"日本語\">日本語</a></li>\\r\\n\\t\\t\\t\\t\\t\\t<li><a href=\"/en/\" title=\"English\">English</a></li>\\r\\n\\t\\t\\t\\t\\t</ul>\\r\\n\\t\\t\\t\\t</li>\\r\\n\\t\\t\\t</ul>\\r\\n\\t\\t</li>\\r\\n\\t\\t\\r\\n\\t</ul>\\r\\n</div>\\r\\n<div class=\"revision01_menu_menu\">\\r\\n\\t\\r\\n\\t<ul>\\r\\n\\t\\t<li><a  title = \"公司治理\" >公司治理</a>\\r\\n\\t\\t\\t\\t\\t\\t\\t\\t<ul>\\r\\n\\t\\t\\t\\t\\t\\t\\t\\t\\t<li>\\r\\n\\t\\t\\t\\t\\t\\t\\t\\t\\t\\t<ul>\\r\\n\\t\\t\\t\\t\\t\\t\\t\\t\\t\\t\\t<li><a href=\"/tw/Article/ArticleContent/07a19853-350d-42e4-b0c6-5bdd76c3ce7d\" title=\"公司治理架構及公司組織圖\" >公司治理架構及公司組織圖</a></li>\\r\\n<li><a href=\"/tw/Article/ArticleContent/05aa3770-1a8b-4b51-9ddd-d50531237031\" title=\"公司治理運作情形\" >公司治理運作情形</a></li>\\r\\n<li><a href=\"http://www.thsrc.com.tw/tw/Article/ArticleContent/a09d0a09-7500-4f8d-9404-acfc07bee133\" title=\"股東會\" >股東會</a></li>\\r\\n<li><a href=\"/tw/Article/ArticleContent/8e3d6eef-af6c-49cd-aed5-0ff9b58a3d7d\" title=\"董事會\" >董事會</a></li>\\r\\n<li><a href=\"/tw/Article/ArticleContent/2a0543a2-44ab-486c-9578-2d8acd5e6c12\" title=\"功能性委員會\" >功能性委員會</a></li>\\r\\n<li><a href=\"/tw/Article/ArticleContent/3c87bb07-117f-406a-a232-bba3f0375554\" title=\"獨立董事與內部稽核主管及會計師之溝通情形\" >獨立董事與內部稽核主管及會計師之溝通情形</a></li>\\r\\n<li><a href=\"/tw/Article/ArticleContent/1558b287-9735-476c-9602-d262eff653ac\" title=\"內部稽核組織及運作\" >內部稽核組織及運作</a></li>\\r\\n<li><a href=\"/tw/Article/ArticleContent/02881df1-9d82-44da-9691-8a7afabed42d\" title=\"公司治理相關規章\" >公司治理相關規章</a></li>\\r\\n\\r\\n\\t\\t\\t\\t\\t\\t\\t\\t\\t\\t</ul>\\r\\n\\t\\t\\t\\t\\t\\t\\t\\t\\t</li>\\r\\n\\t\\t\\t\\t\\t\\t\\t\\t</ul>\\r\\n\\t\\t\\t\\t\\t\\t\\t</li>\\r\\n<li><a href=\"/tw/Article/ArticleContent/9d8aad8b-afab-4135-b35e-5a4569d186f7\" title = \"投資人關係\" >投資人關係</a>\\r\\n\\t\\t\\t\\t\\t\\t\\t\\t<ul>\\r\\n\\t\\t\\t\\t\\t\\t\\t\\t\\t<li>\\r\\n\\t\\t\\t\\t\\t\\t\\t\\t\\t\\t<ul>\\r\\n\\t\\t\\t\\t\\t\\t\\t\\t\\t\\t\\t<li><a href=\"/tw/Article/ArticleContent/ea13d12e-cb59-4988-a22a-dd33d30f6c19\" title=\"公司概況\" >公司概況</a></li>\\r\\n<li><a href=\"/tw/Article/ArticleContent/117f6de2-ed8b-403a-ab4a-820d123e37bf\" title=\"營運資訊\" >營運資訊</a></li>\\r\\n<li><a href=\"/tw/Article/ArticleContent/bb2ef481-a240-49ca-8b51-5780a7c9e7dc\" title=\"財務資訊\" >財務資訊</a></li>\\r\\n<li><a href=\"/tw/Article/ArticleContent/a09d0a09-7500-4f8d-9404-acfc07bee133\" title=\"投資人服務\" >投資人服務</a></li>\\r\\n<li><a href=\"http://www.thsrc.com.tw/tw/StockInfo/GreatNewsIndex\" title=\"重大訊息\" >重大訊息</a></li>\\r\\n<li><a href=\"/tw/Article/ArticleContent/a631c7bf-7969-4f21-b7a1-5c5266c60e66\" title=\"公司治理\" >公司治理</a></li>\\r\\n<li><a href=\"/tw/Article/ArticleContent/b0403a52-2ec4-474c-a64f-ca923379a07b\" title=\"投資人問答集\" >投資人問答集</a></li>\\r\\n\\r\\n\\t\\t\\t\\t\\t\\t\\t\\t\\t\\t</ul>\\r\\n\\t\\t\\t\\t\\t\\t\\t\\t\\t</li>\\r\\n\\t\\t\\t\\t\\t\\t\\t\\t</ul>\\r\\n\\t\\t\\t\\t\\t\\t\\t</li>\\r\\n<li><a href=\"/tw/Article/ArticleContent/8d291a1a-90ba-4b0f-b4d5-db2a35d881f5\" title = \"企業社會責任\" >企業社會責任</a>\\r\\n\\t\\t\\t\\t\\t\\t\\t\\t<ul>\\r\\n\\t\\t\\t\\t\\t\\t\\t\\t\\t<li>\\r\\n\\t\\t\\t\\t\\t\\t\\t\\t\\t\\t<ul>\\r\\n\\t\\t\\t\\t\\t\\t\\t\\t\\t\\t\\t<li><a href=\"http://www.thsrc.com.tw/tw/Article/ArticleContent/27409ebb-4c59-4414-81a6-80acc22cbad2\" title=\"利害關係人專區\" >利害關係人專區</a></li>\\r\\n<li><a href=\"http://www.thsrc.com.tw/tw/Article/ArticleContent/71723d78-2b8e-46d1-8246-94d3b87c4a5d\" title=\"永續發展\" >永續發展</a></li>\\r\\n<li><a href=\"http://www.thsrc.com.tw/tw/Article/ArticleContent/909126e2-9847-4ac6-8004-702802d251b5\" title=\"優質服務\" >優質服務</a></li>\\r\\n<li><a href=\"http://www.thsrc.com.tw/tw/Article/ArticleContent/73081135-fc7c-4024-aa75-b7eefaeff932\" title=\"環境永續\" >環境永續</a></li>\\r\\n<li><a href=\"http://www.thsrc.com.tw/tw/Article/ArticleContent/fce837cf-746b-43ca-9dd5-80c88ee70452\" title=\"智慧運輸\" >智慧運輸</a></li>\\r\\n<li><a href=\"http://www.thsrc.com.tw/tw/Article/ArticleContent/67e40796-06ba-4421-bdbd-1b72bad4c127\" title=\"供應鏈管理\" >供應鏈管理</a></li>\\r\\n<li><a href=\"http://www.thsrc.com.tw/tw/Article/ArticleContent/6cf2f76f-1199-43c4-b1c8-89a17cc72041\" title=\"社會價值\" >社會價值</a></li>\\r\\n<li><a href=\"http://www.thsrc.com.tw/tw/Article/ArticleContent/8d291a1a-90ba-4b0f-b4d5-db2a35d881f5#downloadpdf\" title=\"報告書下載\" >報告書下載</a></li>\\r\\n<li><a href=\"http://www.thsrc.com.tw/tw/Article/ArticleContent/63d60a32-0600-4cd7-ac37-6ad8316b7f1e\" title=\"獲獎事蹟\" >獲獎事蹟</a></li>\\r\\n<li><a href=\"http://www.thsrc.com.tw/tw/Article/ArticleContent/d263299b-e2e0-4b13-be77-a7c82b2d2357\" title=\"影音專題報導\" >影音專題報導</a></li>\\r\\n\\r\\n\\t\\t\\t\\t\\t\\t\\t\\t\\t\\t</ul>\\r\\n\\t\\t\\t\\t\\t\\t\\t\\t\\t</li>\\r\\n\\t\\t\\t\\t\\t\\t\\t\\t</ul>\\r\\n\\t\\t\\t\\t\\t\\t\\t</li>\\r\\n\\r\\n\\t\\t<li><a href=\"/tw/SiteMap\" title=\"網站導覽\">網站導覽</a></li>\\r\\n\\t</ul>\\r\\n</div>\\r\\n\\r\\n\\t\\t</div>\\r\\n\\t</div>\\r\\n</div>\\r\\n<div class=\"revision02\">\\r\\n\\t<div class=\"revision_content\">\\r\\n\\t\\t<div class=\"revision02_open\">\\r\\n\\t\\t\\t<a href=\"/tw/Operation\" alt=\"高鐵目前狀態圖\" title = \"高鐵目前狀況圖\"><img src=\"/Content/images_tw/common/revision02_open.jpg\" /></a>\\r\\n\\t\\t</div>\\r\\n\\t\\t<div class=\"revision02_menu\">\\r\\n\\t\\t\\t\\r\\n<script type=\"text/javascript\" src=\"/Content/Script/forListMenu.js\"></script>\\r\\n<script type=\"text/javascript\" src=\"/Content/Script/jquery.bgiframe.js\"></script>\\r\\n<link href=\"/Content/css/common_list_menu.css\" rel=\"stylesheet\" type=\"text/css\">\\r\\n<link href=\"/Content/css/common_list_menu_en_jp.css\" rel=\"stylesheet\" type=\"text/css\">\\r\\n\\r\\n\\r\\n\\r\\n<ul>\\r\\n\\t<li><a href=\"/tw/SiteMap/#N\" title = \"優惠活動\">優惠活動</a>\\r\\n\\t\\t\\t\\t\\t\\t\\t\\t<div class=\"menu_block\">\\r\\n\\t\\t\\t\\t\\t\\t\\t\\t\\t<div class=\"menu_column\">\\r\\n\\t\\t\\t\\t\\t\\t\\t\\t\\t<div class=\"menu_title\" title=\"購票優惠\">購票優惠</div>\\r\\n\\t\\t\\t\\t\\t\\t\\t\\t\\t<div class=\"menu_item\"><a title = \"早鳥優惠\"  href=\"/tw/Article/ArticleContent/7039d17d-1463-4c14-ad93-4d491dedcad5\" alt = \"早鳥優惠\"  >早鳥優惠</a></div>\\r\\n<div class=\"menu_item\"><a title = \"信用卡優惠專區\"  href=\"/tw/Article/ArticleContent/566d6bff-4427-461d-8b88-b6c4868f75c9\" alt = \"信用卡優惠專區\"  >信用卡優惠專區</a></div>\\r\\n<div class=\"menu_item\"><a title = \"大學生優惠\"  href=\"/tw/Article/ArticleContent/530e869c-479d-441a-a4b4-61a8166827e9\" alt = \"大學生優惠\"  >大學生優惠</a></div>\\r\\n<div class=\"menu_item\"><a title = \"平日離峰96折\"  href=\"/tw/Article/ArticleContent/e75eb64d-0cbf-42de-a7fb-dc43116be985\" alt = \"平日離峰96折\"  >平日離峰96折</a></div>\\r\\n<div class=\"menu_item\"><a title = \"25人以上團體優惠\"  href=\"/tw/Article/ArticleContent/89a14510-7982-4b5e-88af-074305bfefed\" alt = \"25人以上團體優惠\"  >25人以上團體優惠</a></div>\\r\\n<div class=\"menu_item\"><a title = \"校外教學優惠\"  href=\"/tw/Article/ArticleContent/ca09cf02-8f65-4f87-b25e-31cb9c0e187b\" alt = \"校外教學優惠\"  >校外教學優惠</a></div>\\r\\n<div class=\"menu_item\"><a title = \"團體訂票\"  href=\"/tw/Article/ArticleContent/41421730-b8ab-4fe3-b251-89e32cba8453\" alt = \"團體訂票\"  >團體訂票</a></div>\\r\\n<div class=\"menu_item\"><a title = \"回數票優惠\"  href=\"/tw/Article/ArticleContent/8f06ca76-ab2d-4b77-bc20-73218ce3b892\" alt = \"回數票優惠\"  >回數票優惠</a></div>\\r\\n<div class=\"menu_item\"><a title = \"定期票優惠\"  href=\"/tw/Article/ArticleContent/b7b46e29-424c-4fc4-8ec7-0ab3031f2c9c\" alt = \"定期票優惠\"  >定期票優惠</a></div>\\r\\n</div>\\r\\n\\t\\t\\t\\t\\t\\t\\t\\t\\t<div class=\"menu_column\">\\r\\n<div class=\"menu_item\"><a title = \"活動套票\"  href=\"/tw/Article/ArticleContent/d794b386-96a7-445c-8a50-160862a037e9\" alt = \"活動套票\"  >活動套票</a></div>\\r\\n<div class=\"menu_item\"><a title = \"高鐵假期[將另開新視窗 ]\"  href=\"https://tholiday.thsrc.com.tw/\" alt = \"高鐵假期[將另開新視窗 ]\" target=\"_blank\" >高鐵假期<span style=\\'display:none;\\'>[將另開新視窗 ]</span></a></div>\\r\\n<div class=\"menu_item\"><a title = \"飯店聯票\"  href=\"/tw/Article/ArticleContent/c2bae549-bc17-4373-a43a-3496780aa4ea\" alt = \"飯店聯票\"  >飯店聯票</a></div>\\r\\n<div class=\"menu_item\"><a title = \"交通聯票\"  href=\"/tw/Article/ArticleContent/5af4ceb8-4c6f-44ec-b02d-0c398c0ad917\" alt = \"交通聯票\"  >交通聯票</a></div>\\r\\n\\r\\n<div class=\"menu_title\" title=\"最新公告\">最新公告</div>\\r\\n\\t\\t\\t\\t\\t\\t\\t\\t\\t<div class=\"menu_item\"><a title = \"最新消息\"  href=\"/tw/News/Index\" alt = \"最新消息\"  >最新消息</a></div>\\r\\n<div class=\"menu_item\"><a title = \"列車運行狀況\"  href=\"/tw/Operation/Index\" alt = \"列車運行狀況\"  >列車運行狀況</a></div>\\r\\n\\r\\n<div class=\"menu_title\" title=\"熱門活動\">熱門活動</div>\\r\\n\\t\\t\\t\\t\\t\\t\\t\\t\\t<div class=\"menu_item\"><a title = \"高鐵營隊\"  href=\"/tw/TCamp/Detail/145e2029-9e0b-4a6d-b47b-b1eedc5784b2\" alt = \"高鐵營隊\"  >高鐵營隊</a></div>\\r\\n<div class=\"menu_item\"><a title = \"活動合作\"  href=\"/tw/Article/ArticleContent/99ba7783-c46e-4b68-849b-e9084e5a0e15\" alt = \"活動合作\"  >活動合作</a></div>\\r\\n</div>\\r\\n\\t\\t\\t\\t\\t\\t\\t\\t\\t<div class=\"menu_column\">\\r\\n<div class=\"menu_item\"><a title = \"「藝」起來高鐵\"  href=\"/tw/Article/ArticleContent/d9eee6e4-3bc9-4c1b-8e5c-f471fd0b7539\" alt = \"「藝」起來高鐵\"  >「藝」起來高鐵</a></div>\\r\\n<div class=\"menu_item\"><a title = \"2018台灣燈會在嘉義\"  href=\"/tw/Article/ArticleContent/1e8d4dbc-5dfe-4b65-a918-6e0b3b118afe\" alt = \"2018台灣燈會在嘉義\"  >2018台灣燈會在嘉義</a></div>\\r\\n\\r\\n\\r\\n\\t\\t\\t\\t\\t\\t\\t</div>\\r\\n\\t\\t\\t\\t\\t\\t\\t\\t</div>\\r\\n\\t\\t\\t\\t\\t\\t\\t</li>\\r\\n<li><a href=\"/tw/SiteMap/#T\" title = \"購票資訊\">購票資訊</a>\\r\\n\\t\\t\\t\\t\\t\\t\\t\\t<div class=\"menu_block\">\\r\\n\\t\\t\\t\\t\\t\\t\\t\\t\\t<div class=\"menu_column\">\\r\\n\\t\\t\\t\\t\\t\\t\\t\\t\\t<div class=\"menu_title\" title=\"票種說明\">票種說明</div>\\r\\n\\t\\t\\t\\t\\t\\t\\t\\t\\t<div class=\"menu_item\"><a title = \"票價產品一覽表\"  href=\"/tw/Article/ArticleContent/caa6fac8-b875-4ad6-b1e6-96c2902d12a6\" alt = \"票價產品一覽表\"  >票價產品一覽表</a></div>\\r\\n\\r\\n<div class=\"menu_title\" title=\"如何購票\">如何購票</div>\\r\\n\\t\\t\\t\\t\\t\\t\\t\\t\\t<div class=\"menu_item\"><a title = \"網路訂票\"  href=\"/tw/Article/ArticleContent/dea241a9-fe69-4e9d-b9a5-6caed6e486d6\" alt = \"網路訂票\"  >網路訂票</a></div>\\r\\n<div class=\"menu_item\"><a title = \"「T-EX行動購票」App\"  href=\"/tw/Article/ArticleContent/4d262503-84bc-4963-a58e-4ca1a6453ad3\" alt = \"「T-EX行動購票」App\"  >「T-EX行動購票」App</a></div>\\r\\n<div class=\"menu_item\"><a title = \"便利商店購票\"  href=\"/tw/Article/ArticleContent/baba745a-d802-440c-b762-3eef37b96b60\" alt = \"便利商店購票\"  >便利商店購票</a></div>\\r\\n<div class=\"menu_item\"><a title = \"自動語音訂位服務\"  href=\"/tw/Article/ArticleContent/7a96ad53-6efa-4c58-bb17-70c9f649b4e3\" alt = \"自動語音訂位服務\"  >自動語音訂位服務</a></div>\\r\\n<div class=\"menu_item\"><a title = \"自動售票機購票\"  href=\"/tw/Article/ArticleContent/6be4173c-91dc-4d06-ae3e-a19de420a237\" alt = \"自動售票機購票\"  >自動售票機購票</a></div>\\r\\n<div class=\"menu_item\"><a title = \"團體訂票\"  href=\"/tw/Article/ArticleContent/41421730-b8ab-4fe3-b251-89e32cba8453\" alt = \"團體訂票\"  >團體訂票</a></div>\\r\\n<div class=\"menu_item\"><a title = \"車站窗口購票\"  href=\"/tw/Article/ArticleContent/43d5e5e2-3777-46b9-bc8f-8b5b579b50ed\" alt = \"車站窗口購票\"  >車站窗口購票</a></div>\\r\\n</div>\\r\\n\\t\\t\\t\\t\\t\\t\\t\\t\\t<div class=\"menu_column\">\\r\\n<div class=\"menu_item\"><a title = \"悠遊聯名卡\"  href=\"/tw/Article/ArticleContent/27bf64ed-5a99-4c0f-9021-dbe609998cdb\" alt = \"悠遊聯名卡\"  >悠遊聯名卡</a></div>\\r\\n<div class=\"menu_item\"><a title = \"一卡通聯名卡\"  href=\"/tw/Article/ArticleContent/ef3cff71-345c-4768-8d79-fdb75c956bbe\" alt = \"一卡通聯名卡\"  >一卡通聯名卡</a></div>\\r\\n<div class=\"menu_item\"><a title = \"無障礙服務\"  href=\"/tw/Article/ArticleContent/dba4ecd0-5ef0-45d2-aa64-bcecdf7d5fde\" alt = \"無障礙服務\"  >無障礙服務</a></div>\\r\\n\\r\\n<div class=\"menu_title\" title=\"快速查詢\">快速查詢</div>\\r\\n\\t\\t\\t\\t\\t\\t\\t\\t\\t<div class=\"menu_item\"><a title = \"2018年疏運日程表\"  href=\"http://www.thsrc.com.tw/tw/News/Detail/16673321-5e82-49f3-9390-c8d7586192fb/1\" alt = \"2018年疏運日程表\"  >2018年疏運日程表</a></div>\\r\\n<div class=\"menu_item\"><a title = \"時刻表與票價查詢\"  href=\"/tw/TimeTable/SearchResult\" alt = \"時刻表與票價查詢\"  >時刻表與票價查詢</a></div>\\r\\n<div class=\"menu_item\"><a title = \"疏運期間對號座銷售資訊\"  href=\"/tw/FullyOccupied/Index\" alt = \"疏運期間對號座銷售資訊\"  >疏運期間對號座銷售資訊</a></div>\\r\\n\\r\\n<div class=\"menu_title\" title=\"電子票證搭乘紀錄查詢\">電子票證搭乘紀錄查詢</div>\\r\\n\\t\\t\\t\\t\\t\\t\\t\\t\\t<div class=\"menu_item\"><a title = \"T Express 搭乘紀錄[將另開新視窗 ]\"  href=\"http://ptis.thsrc.com.tw/ptis/web_proof/texp_index.jsp\" alt = \"T Express 搭乘紀錄[將另開新視窗 ]\" target=\"_blank\" >T Express 搭乘紀錄<span style=\\'display:none;\\'>[將另開新視窗 ]</span></a></div>\\r\\n<div class=\"menu_item\"><a title = \"回數 / 定期票搭乘紀錄[將另開新視窗 ]\"  href=\"http://ptis.thsrc.com.tw/ptis/web_proof/csc_travel.jsp\" alt = \"回數 / 定期票搭乘紀錄[將另開新視窗 ]\" target=\"_blank\" >回數 / 定期票搭乘紀錄<span style=\\'display:none;\\'>[將另開新視窗 ]</span></a></div>\\r\\n</div>\\r\\n\\t\\t\\t\\t\\t\\t\\t\\t\\t<div class=\"menu_column\">\\r\\n<div class=\"menu_item\"><a title = \"悠遊聯名卡搭乘紀錄[將另開新視窗 ]\"  href=\"https://queryweb.tscc.com.tw/thsrc_web/\" alt = \"悠遊聯名卡搭乘紀錄[將另開新視窗 ]\" target=\"_blank\" >悠遊聯名卡搭乘紀錄<span style=\\'display:none;\\'>[將另開新視窗 ]</span></a></div>\\r\\n<div class=\"menu_item\"><a title = \"一卡通聯名卡搭乘紀錄[將另開新視窗 ]\"  href=\"https://www.i-pass.com.tw/ips/THSRC/\" alt = \"一卡通聯名卡搭乘紀錄[將另開新視窗 ]\" target=\"_blank\" >一卡通聯名卡搭乘紀錄<span style=\\'display:none;\\'>[將另開新視窗 ]</span></a></div>\\r\\n\\r\\n<div class=\"menu_title\" title=\"企業會員\">企業會員</div>\\r\\n\\t\\t\\t\\t\\t\\t\\t\\t\\t<div class=\"menu_item\"><a title = \"加入企業會員\"  href=\"/tw/Article/ArticleContent/376238fd-2f6d-48f8-b070-9f2ea61b14b5\" alt = \"加入企業會員\"  >加入企業會員</a></div>\\r\\n<div class=\"menu_item\"><a title = \"台灣高鐵App\"  href=\"/tw/Article/ArticleContent/c16dcbbe-00f8-42cb-a3c8-c58f7eb83cac\" alt = \"台灣高鐵App\"  >台灣高鐵App</a></div>\\r\\n\\r\\n<div class=\"menu_title\" title=\"相關法規\">相關法規</div>\\r\\n\\t\\t\\t\\t\\t\\t\\t\\t\\t<div class=\"menu_item\"><a title = \"相關法規\"  href=\"/tw/Article/ArticleContent/7de57796-db08-4d94-b183-bd62618859db\" alt = \"相關法規\"  >相關法規</a></div>\\r\\n\\r\\n\\r\\n\\t\\t\\t\\t\\t\\t\\t</div>\\r\\n\\t\\t\\t\\t\\t\\t\\t\\t</div>\\r\\n\\t\\t\\t\\t\\t\\t\\t</li>\\r\\n<li><a href=\"/tw/SiteMap/#C\" title = \"乘車指南\">乘車指南</a>\\r\\n\\t\\t\\t\\t\\t\\t\\t\\t<div class=\"menu_block\">\\r\\n\\t\\t\\t\\t\\t\\t\\t\\t\\t<div class=\"menu_column\">\\r\\n\\t\\t\\t\\t\\t\\t\\t\\t\\t<div class=\"menu_title\" title=\"車站資訊\">車站資訊</div>\\r\\n\\t\\t\\t\\t\\t\\t\\t\\t\\t<div class=\"menu_item\"><a title = \"南港站\"  href=\"/tw/StationInfo/Prospect/2F940836-CEDC-41EF-8E28-C2336AC8FE68\" alt = \"南港站\"  >南港站</a></div>\\r\\n<div class=\"menu_item\"><a title = \"台北站\"  href=\"http://www.thsrc.com.tw/tw/StationInfo/prospect/977abb69-413a-4ccf-a109-0272c24fd490\" alt = \"台北站\"  >台北站</a></div>\\r\\n<div class=\"menu_item\"><a title = \"板橋站\"  href=\"/tw/StationInfo/Prospect/e6e26e66-7dc1-458f-b2f3-71ce65fdc95f\" alt = \"板橋站\"  >板橋站</a></div>\\r\\n<div class=\"menu_item\"><a title = \"桃園站\"  href=\"/tw/StationInfo/Prospect/fbd828d8-b1da-4b06-a3bd-680cdca4d2cd\" alt = \"桃園站\"  >桃園站</a></div>\\r\\n<div class=\"menu_item\"><a title = \"新竹站\"  href=\"/tw/StationInfo/Prospect/a7a04c89-900b-4798-95a3-c01c455622f4\" alt = \"新竹站\"  >新竹站</a></div>\\r\\n<div class=\"menu_item\"><a title = \"苗栗站\"  href=\"/tw/StationInfo/Prospect/E8FC2123-2AAF-46FF-AD79-51D4002A1EF3\" alt = \"苗栗站\"  >苗栗站</a></div>\\r\\n<div class=\"menu_item\"><a title = \"台中站\"  href=\"/tw/StationInfo/Prospect/3301e395-46b8-47aa-aa37-139e15708779\" alt = \"台中站\"  >台中站</a></div>\\r\\n<div class=\"menu_item\"><a title = \"彰化站\"  href=\"/tw/StationInfo/Prospect/38B8C40B-AEF0-4D66-B257-DA96EC51620E\" alt = \"彰化站\"  >彰化站</a></div>\\r\\n<div class=\"menu_item\"><a title = \"雲林站\"  href=\"/tw/StationInfo/Prospect/5F4C7BB0-C676-4E39-8D3C-F12FC188EE5F\" alt = \"雲林站\"  >雲林站</a></div>\\r\\n</div>\\r\\n\\t\\t\\t\\t\\t\\t\\t\\t\\t<div class=\"menu_column\">\\r\\n<div class=\"menu_item\"><a title = \"嘉義站\"  href=\"/tw/StationInfo/Prospect/60831846-f0e4-47f6-9b5b-46323ebdcef7\" alt = \"嘉義站\"  >嘉義站</a></div>\\r\\n<div class=\"menu_item\"><a title = \"台南站\"  href=\"/tw/StationInfo/Prospect/9c5ac6ca-ec89-48f8-aab0-41b738cb1814\" alt = \"台南站\"  >台南站</a></div>\\r\\n<div class=\"menu_item\"><a title = \"左營站\"  href=\"/tw/StationInfo/Prospect/f2519629-5973-4d08-913b-479cce78a356\" alt = \"左營站\"  >左營站</a></div>\\r\\n\\r\\n<div class=\"menu_title\" title=\"轉乘服務\">轉乘服務</div>\\r\\n\\t\\t\\t\\t\\t\\t\\t\\t\\t<div class=\"menu_item\"><a title = \"轉乘服務總覽\"  href=\"/tw/Article/ArticleContent/c2a8fd9d-ced6-43b1-9297-9eab4127b5ff\" alt = \"轉乘服務總覽\"  >轉乘服務總覽</a></div>\\r\\n\\r\\n<div class=\"menu_title\" title=\"服務與設施\">服務與設施</div>\\r\\n\\t\\t\\t\\t\\t\\t\\t\\t\\t<div class=\"menu_item\"><a title = \"服務與設施總覽\"  href=\"/tw/Article/ArticleContent/9915abee-dc70-4ba3-9f6d-c425873c3475\" alt = \"服務與設施總覽\"  >服務與設施總覽</a></div>\\r\\n<div class=\"menu_item\"><a title = \"無障礙服務\"  href=\"http://www.thsrc.com.tw/tw/Article/ArticleContent/dba4ecd0-5ef0-45d2-aa64-bcecdf7d5fde\" alt = \"無障礙服務\"  >無障礙服務</a></div>\\r\\n<div class=\"menu_item\"><a title = \"車廂介紹\"  href=\"/tw/StationInfo/Accommondation\" alt = \"車廂介紹\"  >車廂介紹</a></div>\\r\\n<div class=\"menu_item\"><a title = \"車廂服務介紹\"  href=\"/tw/Article/ArticleContent/feb91116-8a73-46b7-a6b7-f115a3137ccf\" alt = \"車廂服務介紹\"  >車廂服務介紹</a></div>\\r\\n</div>\\r\\n\\t\\t\\t\\t\\t\\t\\t\\t\\t<div class=\"menu_column\">\\r\\n<div class=\"menu_item\"><a title = \"T Life 車上刊物\"  href=\"/tw/Article/ArticleContent/2cc958af-c283-4efa-b6e6-22bb84ac5bab\" alt = \"T Life 車上刊物\"  >T Life 車上刊物</a></div>\\r\\n<div class=\"menu_item\"><a title = \"台灣高鐵App\"  href=\"/tw/Article/ArticleContent/c16dcbbe-00f8-42cb-a3c8-c58f7eb83cac\" alt = \"台灣高鐵App\"  >台灣高鐵App</a></div>\\r\\n<div class=\"menu_item\"><a title = \"多功能會議室\"  href=\"/tw/Article/ArticleContent/347fa4fb-479d-4a90-b5aa-e0ba9b22ed41\" alt = \"多功能會議室\"  >多功能會議室</a></div>\\r\\n\\r\\n<div class=\"menu_title\" title=\"乘車安全\">乘車安全</div>\\r\\n\\t\\t\\t\\t\\t\\t\\t\\t\\t<div class=\"menu_item\"><a title = \"列車安全\"  href=\"/tw/Article/ArticleContent/33741541-0f76-4397-a3f7-44367240a344\" alt = \"列車安全\"  >列車安全</a></div>\\r\\n<div class=\"menu_item\"><a title = \"車站安全\"  href=\"/tw/Article/ArticleContent/b47a688b-2115-4719-88bf-3b8b740d73e1\" alt = \"車站安全\"  >車站安全</a></div>\\r\\n<div class=\"menu_item\"><a title = \"鐵路安全\"  href=\"/tw/Article/ArticleContent/9780e036-5fdb-4c48-8732-1242beafafbd\" alt = \"鐵路安全\"  >鐵路安全</a></div>\\r\\n\\r\\n<div class=\"menu_title\" title=\"享樂購物趣\">享樂購物趣</div>\\r\\n\\t\\t\\t\\t\\t\\t\\t\\t\\t<div class=\"menu_item\"><a title = \"列車販售\"  href=\"/tw/TShop/TrainShopping\" alt = \"列車販售\"  >列車販售</a></div>\\r\\n<div class=\"menu_item\"><a title = \"紀念商品\"  href=\"/tw/Souvenir\" alt = \"紀念商品\"  >紀念商品</a></div>\\r\\n</div>\\r\\n\\t\\t\\t\\t\\t\\t\\t\\t\\t<div class=\"menu_column\">\\r\\n<div class=\"menu_item\"><a title = \"高鐵700T列車模型\"  href=\"/tw/Article/ArticleContent/f3c5a6d8-5af8-4d69-9095-37dff9554287\" alt = \"高鐵700T列車模型\"  >高鐵700T列車模型</a></div>\\r\\n<div class=\"menu_item\"><a title = \"車站販售\"  href=\"http://www.thsrc.com.tw/tw/TShop/FoodCourt/977abb69-413a-4ccf-a109-0272c24fd490\" alt = \"車站販售\"  >車站販售</a></div>\\r\\n\\r\\n<div class=\"menu_title\" title=\"注意事項\">注意事項</div>\\r\\n\\t\\t\\t\\t\\t\\t\\t\\t\\t<div class=\"menu_item\"><a title = \"乘車須知\"  href=\"/tw/Article/ArticleContent/2f73bfbb-d9bb-400e-b806-f6c5ba539368\" alt = \"乘車須知\"  >乘車須知</a></div>\\r\\n<div class=\"menu_item\"><a title = \"驗票閘門及通關\"  href=\"/tw/Article/ArticleContent/4f77e9e6-f337-4af4-8f60-fbd6054e608f\" alt = \"驗票閘門及通關\"  >驗票閘門及通關</a></div>\\r\\n\\r\\n<div class=\"menu_title\" title=\"高鐵百科\">高鐵百科</div>\\r\\n\\t\\t\\t\\t\\t\\t\\t\\t\\t<div class=\"menu_item\"><a title = \"地震防護與應變[將另開新視窗 ]\"  href=\"http://www.thsrc.com.tw/event/Encyclopedia/Earthquake/index.html\" alt = \"地震防護與應變[將另開新視窗 ]\" target=\"_blank\" >地震防護與應變<span style=\\'display:none;\\'>[將另開新視窗 ]</span></a></div>\\r\\n\\r\\n\\r\\n\\t\\t\\t\\t\\t\\t\\t</div>\\r\\n\\t\\t\\t\\t\\t\\t\\t\\t</div>\\r\\n\\t\\t\\t\\t\\t\\t\\t</li>\\r\\n<li><a href=\"/tw//\" title = \"關於高鐵\">關於高鐵</a>\\r\\n\\t\\t\\t\\t\\t\\t\\t\\t<div class=\"menu_block\">\\r\\n\\t\\t\\t\\t\\t\\t\\t\\t\\t<div class=\"menu_column\">\\r\\n\\t\\t\\t\\t\\t\\t\\t\\t\\t<div class=\"menu_title\" title=\"企業資訊\">企業資訊</div>\\r\\n\\t\\t\\t\\t\\t\\t\\t\\t\\t<div class=\"menu_item\"><a title = \"企業社會責任\"  href=\"/tw/Article/ArticleContent/8d291a1a-90ba-4b0f-b4d5-db2a35d881f5\" alt = \"企業社會責任\"  >企業社會責任</a></div>\\r\\n<div class=\"menu_item\"><a title = \"企業識別\"  href=\"/tw/Article/ArticleContent/605d1cb2-2d98-4d73-9586-7e8363ee44e3\" alt = \"企業識別\"  >企業識別</a></div>\\r\\n<div class=\"menu_item\"><a title = \"環保工安與研發支出資訊\"  href=\"/tw/Article/ArticleContent/34d8a763-9a98-4478-919c-6b88d07fecaa\" alt = \"環保工安與研發支出資訊\"  >環保工安與研發支出資訊</a></div>\\r\\n<div class=\"menu_item\"><a title = \"高速鐵路運輸服務碳足跡\"  href=\"/tw/Article/ArticleContent/5a1f4c72-b564-4706-bcdd-efbda93c3d93\" alt = \"高速鐵路運輸服務碳足跡\"  >高速鐵路運輸服務碳足跡</a></div>\\r\\n<div class=\"menu_item\"><a title = \"安全衛生政策\"  href=\"/tw/Article/ArticleContent/766ccfd7-089d-4619-9374-90e3ff84ebbe\" alt = \"安全衛生政策\"  >安全衛生政策</a></div>\\r\\n<div class=\"menu_item\"><a title = \"資訊安全政策\"  href=\"/tw/Article/ArticleContent/6e4411e2-0ebe-4cec-9bda-982a5fd8da75\" alt = \"資訊安全政策\"  >資訊安全政策</a></div>\\r\\n<div class=\"menu_item\"><a title = \"公司品質政策\"  href=\"/tw/Article/ArticleContent/dc9df5f7-19fc-4402-84ec-d26352969c72\" alt = \"公司品質政策\"  >公司品質政策</a></div>\\r\\n\\r\\n<div class=\"menu_title\" title=\"政策法規\">政策法規</div>\\r\\n\\t\\t\\t\\t\\t\\t\\t\\t\\t<div class=\"menu_item\"><a title = \"線上購票交易注意事項\"  href=\"/tw/Article/ArticleContent/291d80fe-080f-4442-90d0-9a9b82f119e5\" alt = \"線上購票交易注意事項\"  >線上購票交易注意事項</a></div>\\r\\n</div>\\r\\n\\t\\t\\t\\t\\t\\t\\t\\t\\t<div class=\"menu_column\">\\r\\n<div class=\"menu_item\"><a title = \"個人資料保護專區\"  href=\"/tw/Article/ArticleContent/d1fa3bcb-a016-47e2-88c6-7b7cbed00ed5\" alt = \"個人資料保護專區\"  >個人資料保護專區</a></div>\\r\\n<div class=\"menu_item\"><a title = \"相關法規\"  href=\"/tw/Article/ArticleContent/7de57796-db08-4d94-b183-bd62618859db\" alt = \"相關法規\"  >相關法規</a></div>\\r\\n\\r\\n<div class=\"menu_title\" title=\"合作夥伴\">合作夥伴</div>\\r\\n\\t\\t\\t\\t\\t\\t\\t\\t\\t<div class=\"menu_item\"><a title = \"業務申辦 \"  href=\"/tw/Article/ArticleContent/4efcd63f-6d07-4363-8a52-26a4a4f462cb\" alt = \"業務申辦 \"  >業務申辦 </a></div>\\r\\n\\r\\n<div class=\"menu_title\" title=\"招標資訊\"><a href=\"/tw/Tendering\" title=\"招標資訊\">招標資訊</a></div>\\r\\n\\t\\t\\t\\t\\t\\t\\t\\t\\t\\r\\n<div class=\"menu_title\" title=\"加入高鐵\">加入高鐵</div>\\r\\n\\t\\t\\t\\t\\t\\t\\t\\t\\t<div class=\"menu_item\"><a title = \"幸福高鐵\"  href=\"/tw/Article/ArticleContent/91918831-5417-459a-9774-312f31a66ca2\" alt = \"幸福高鐵\"  >幸福高鐵</a></div>\\r\\n<div class=\"menu_item\"><a title = \"甄選流程\"  href=\"/tw/Article/ArticleContent/923049a0-10dd-4c2f-927b-66e470c9c16e\" alt = \"甄選流程\"  >甄選流程</a></div>\\r\\n<div class=\"menu_item\"><a title = \"我要應徵[將另開新視窗 ]\"  href=\"http://ehrweb.104.com.tw/job.do?uno=16446274\" alt = \"我要應徵[將另開新視窗 ]\" target=\"_blank\" >我要應徵<span style=\\'display:none;\\'>[將另開新視窗 ]</span></a></div>\\r\\n\\r\\n<div class=\"menu_title\" title=\"高鐵探索館\"><a href=\"/tw/Article/ArticleContent/845f79cc-7a2b-496a-95ac-16810c19f8e0\" title=\"高鐵探索館\">高鐵探索館</a></div>\\r\\n\\t\\t\\t\\t\\t\\t\\t\\t\\t\\r\\n<div class=\"menu_title\" title=\"台灣軌道工業本土化\"><a href=\"/tw/Article/ArticleContent/cbfdd430-0f1f-4243-995e-2a2c328dd58b\" title=\"台灣軌道工業本土化\">台灣軌道工業本土化</a></div>\\r\\n\\t\\t\\t\\t\\t\\t\\t\\t\\t</div>\\r\\n\\t\\t\\t\\t\\t\\t\\t\\t\\t<div class=\"menu_column\">\\r\\n<div class=\"menu_item\"><a title = \"商機說明會\"  href=\"/tw/Article/ArticleContent/d72fa7cc-f45c-4196-8a1f-0f7857ed1a36\" alt = \"商機說明會\"  >商機說明會</a></div>\\r\\n<div class=\"menu_item\"><a title = \"品項清單與提問\"  href=\"/tw/Article/ArticleContent/cbfdd430-0f1f-4243-995e-2a2c328dd58b\" alt = \"品項清單與提問\"  >品項清單與提問</a></div>\\r\\n\\r\\n\\r\\n\\t\\t\\t\\t\\t\\t\\t</div>\\r\\n\\t\\t\\t\\t\\t\\t\\t\\t</div>\\r\\n\\t\\t\\t\\t\\t\\t\\t</li>\\r\\n<li><a href=\"/tw/Article/ArticleContent/383d9d45-698b-4e17-a84f-c7cb90b5adc5\" title = \"搭高鐵 • 遊台灣\">搭高鐵 • 遊台灣</a>\\r\\n\\t\\t\\t\\t\\t\\t\\t\\t<div class=\"menu_block\">\\r\\n\\t\\t\\t\\t\\t\\t\\t\\t\\t<div class=\"menu_column\">\\r\\n\\t\\t\\t\\t\\t\\t\\t\\t\\t<div class=\"menu_title\" title=\"高鐵假期\"><a href=\"https://tholiday.thsrc.com.tw/\" title=\"高鐵假期\">高鐵假期</a></div>\\r\\n\\t\\t\\t\\t\\t\\t\\t\\t\\t<div class=\"menu_item\"><a title = \"冬春季號[將另開新視窗 ]\"  href=\"https://tholiday.thsrc.com.tw/agts_thw/list?themeUuid=0E23A736-3205-462E-A7C2-8A9A11406C49\" alt = \"冬春季號[將另開新視窗 ]\" target=\"_blank\" >冬春季號<span style=\\'display:none;\\'>[將另開新視窗 ]</span></a></div>\\r\\n<div class=\"menu_item\"><a title = \"超值一日豐富行[將另開新視窗 ]\"  href=\"https://tholiday.thsrc.com.tw/agts_thw/list?themeUuid=6BA7B081-AF33-4570-9871-FB5983AA2E19\" alt = \"超值一日豐富行[將另開新視窗 ]\" target=\"_blank\" >超值一日豐富行<span style=\\'display:none;\\'>[將另開新視窗 ]</span></a></div>\\r\\n<div class=\"menu_item\"><a title = \"北高小資潮旅行[將另開新視窗 ]\"  href=\"https://tholiday.thsrc.com.tw/agts_thw/list?themeUuid=BB50B0EE-20BF-4463-BE50-AF7C018804FC\" alt = \"北高小資潮旅行[將另開新視窗 ]\" target=\"_blank\" >北高小資潮旅行<span style=\\'display:none;\\'>[將另開新視窗 ]</span></a></div>\\r\\n<div class=\"menu_item\"><a title = \"搭雙鐵•遊集集[將另開新視窗 ]\"  href=\"https://tholiday.thsrc.com.tw/agts_thw/list?themeUuid=6EFDB055-0A5C-4D8A-B4E9-4F49E04792F2\" alt = \"搭雙鐵•遊集集[將另開新視窗 ]\" target=\"_blank\" >搭雙鐵•遊集集<span style=\\'display:none;\\'>[將另開新視窗 ]</span></a></div>\\r\\n<div class=\"menu_item\"><a title = \"親子Fun假旅遊趣[將另開新視窗 ]\"  href=\"https://tholiday.thsrc.com.tw/agts_thw/list?themeUuid=AF80FF3B-9535-449A-BBFD-122C7ED6BF2C\" alt = \"親子Fun假旅遊趣[將另開新視窗 ]\" target=\"_blank\" >親子Fun假旅遊趣<span style=\\'display:none;\\'>[將另開新視窗 ]</span></a></div>\\r\\n<div class=\"menu_item\"><a title = \"浪漫台三線[將另開新視窗 ]\"  href=\"http://tholiday.thsrc.com.tw/agts_thw/list?themeUuid=F4E0E302-85EB-4AE2-AF50-35EE7DCB4609\" alt = \"浪漫台三線[將另開新視窗 ]\" target=\"_blank\" >浪漫台三線<span style=\\'display:none;\\'>[將另開新視窗 ]</span></a></div>\\r\\n<div class=\"menu_item\"><a title = \"暖冬樂活趣[將另開新視窗 ]\"  href=\"https://tholiday.thsrc.com.tw/agts_thw/list?themeUuid=EFFED751-BC35-4A83-B6CE-D8CBD2F30AAA\" alt = \"暖冬樂活趣[將另開新視窗 ]\" target=\"_blank\" >暖冬樂活趣<span style=\\'display:none;\\'>[將另開新視窗 ]</span></a></div>\\r\\n<div class=\"menu_item\"><a title = \"歡樂嘉年華\"  href=\"http://tholiday.thsrc.com.tw/agts_thw/list?themeUuid=16026940-B40D-41D6-A7C8-4D74AA79BAB6\" alt = \"歡樂嘉年華\"  >歡樂嘉年華</a></div>\\r\\n\\r\\n<div class=\"menu_title\" title=\"交通聯票\"><a href=\"/tw/Article/ArticleContent/5af4ceb8-4c6f-44ec-b02d-0c398c0ad917\" title=\"交通聯票\">交通聯票</a></div>\\r\\n\\t\\t\\t\\t\\t\\t\\t\\t\\t</div>\\r\\n\\t\\t\\t\\t\\t\\t\\t\\t\\t<div class=\"menu_column\">\\r\\n<div class=\"menu_item\"><a title = \"高鐵＋高雄好玩卡\"  href=\"/tw/Article/ArticleContent/558455b6-c4b5-4e84-a6d0-5911bf1bb073\" alt = \"高鐵＋高雄好玩卡\"  >高鐵＋高雄好玩卡</a></div>\\r\\n<div class=\"menu_item\"><a title = \"高鐵+高雄捷運\"  href=\"/tw/Article/ArticleContent/842a6c80-c554-4bf3-810c-d026409045e7\" alt = \"高鐵+高雄捷運\"  >高鐵+高雄捷運</a></div>\\r\\n<div class=\"menu_item\"><a title = \"高鐵+台灣好行\"  href=\"http://www.thsrc.com.tw/tw/Article/ArticleContent/5af4ceb8-4c6f-44ec-b02d-0c398c0ad917#theGo1\" alt = \"高鐵+台灣好行\"  >高鐵+台灣好行</a></div>\\r\\n<div class=\"menu_item\"><a title = \"高鐵+航空公司\"  href=\"http://www.thsrc.com.tw/tw/Article/ArticleContent/5af4ceb8-4c6f-44ec-b02d-0c398c0ad917#theGo9\" alt = \"高鐵+航空公司\"  >高鐵+航空公司</a></div>\\r\\n<div class=\"menu_item\"><a title = \"高鐵＋北捷雙層巴士\"  href=\"/tw/Article/ArticleContent/bbf55ee3-c17e-4e13-bbd0-6a387aafd2a6\" alt = \"高鐵＋北捷雙層巴士\"  >高鐵＋北捷雙層巴士</a></div>\\r\\n\\r\\n<div class=\"menu_title\" title=\"飯店聯票\"><a href=\"/tw/Article/ArticleContent/c2bae549-bc17-4373-a43a-3496780aa4ea\" title=\"飯店聯票\">飯店聯票</a></div>\\r\\n\\t\\t\\t\\t\\t\\t\\t\\t\\t<div class=\"menu_item\"><a title = \"北部飯店\"  href=\"/tw/Article/ArticleContent/84b5f8e5-98b5-48b5-bc5f-9a24cfe6119a\" alt = \"北部飯店\"  >北部飯店</a></div>\\r\\n<div class=\"menu_item\"><a title = \"中部飯店\"  href=\"/tw/Article/ArticleContent/6fdec9c4-0da5-4a67-b38d-5c11d538b7c0\" alt = \"中部飯店\"  >中部飯店</a></div>\\r\\n<div class=\"menu_item\"><a title = \"南部飯店\"  href=\"/tw/Article/ArticleContent/d157819a-dd4e-4191-b60c-5645b02432d6\" alt = \"南部飯店\"  >南部飯店</a></div>\\r\\n<div class=\"menu_item\"><a title = \"東部飯店\"  href=\"/tw/Article/ArticleContent/ae14d887-26c3-4c6f-9811-d8a88c17abd9\" alt = \"東部飯店\"  >東部飯店</a></div>\\r\\n</div>\\r\\n\\t\\t\\t\\t\\t\\t\\t\\t\\t<div class=\"menu_column\">\\r\\n<div class=\"menu_item\"><a title = \"豪華星級享樂遊\"  href=\"/tw/Article/ArticleContent/bbb690c1-d388-4692-bc95-0d12a81b1b81\" alt = \"豪華星級享樂遊\"  >豪華星級享樂遊</a></div>\\r\\n<div class=\"menu_item\"><a title = \"小資精省旅遊趣\"  href=\"/tw/Article/ArticleContent/ccd52eb1-80ab-4895-ab94-f412f45e9dbf\" alt = \"小資精省旅遊趣\"  >小資精省旅遊趣</a></div>\\r\\n<div class=\"menu_item\"><a title = \"暖暖避冬 相揪泡湯旅\"  href=\"https://www.thsrc.com.tw/event/2018/0102/\" alt = \"暖暖避冬 相揪泡湯旅\"  >暖暖避冬 相揪泡湯旅</a></div>\\r\\n\\r\\n\\r\\n\\t\\t\\t\\t\\t\\t\\t</div>\\r\\n\\t\\t\\t\\t\\t\\t\\t\\t</div>\\r\\n\\t\\t\\t\\t\\t\\t\\t</li>\\r\\n<li><a href=\"/tw//\" title = \"會員專區\">會員專區</a>\\r\\n\\t\\t\\t\\t\\t\\t\\t\\t<div class=\"menu_block\">\\r\\n\\t\\t\\t\\t\\t\\t\\t\\t\\t<div class=\"menu_column\">\\r\\n\\t\\t\\t\\t\\t\\t\\t\\t\\t<div class=\"menu_title\" title=\"TGo 會員\"><a href=\"https://tgo.thsrc.com.tw\" title=\"TGo 會員\">TGo 會員</a></div>\\r\\n\\t\\t\\t\\t\\t\\t\\t\\t\\t<div class=\"menu_item\"><a title = \"TGo 會員權益\"  href=\"/tw/Article/ArticleContent/81b5afa8-ecc9-44f0-a54f-a65bfeed79bd\" alt = \"TGo 會員權益\"  >TGo 會員權益</a></div>\\r\\n<div class=\"menu_item\"><a title = \"TGo 會員專屬 嚴選車站商家優惠\"  href=\"/tw/Article/ArticleContent/0ce3e5bb-a420-462b-8e1c-9059e64ec5a0\" alt = \"TGo 會員專屬 嚴選車站商家優惠\"  >TGo 會員專屬 嚴選車站商家優惠</a></div>\\r\\n<div class=\"menu_item\"><a title = \"期間限定-紅利點數加碼贈\"  href=\"/tw/Article/ArticleContent/2fa80de4-466a-4a83-93e7-5ffbc88fb492\" alt = \"期間限定-紅利點數加碼贈\"  >期間限定-紅利點數加碼贈</a></div>\\r\\n<div class=\"menu_item\"><a title = \"點數規約[將另開新視窗 ]\"  href=\"https://tgo.thsrc.com.tw/point.html\" alt = \"點數規約[將另開新視窗 ]\" target=\"_blank\" >點數規約<span style=\\'display:none;\\'>[將另開新視窗 ]</span></a></div>\\r\\n<div class=\"menu_item\"><a title = \"服務條款\"  href=\"https://tgo.thsrc.com.tw/service.html\" alt = \"服務條款\"  >服務條款</a></div>\\r\\n\\r\\n<div class=\"menu_title\" title=\"企業會員\"><a href=\"/tw/Article/ArticleContent/376238fd-2f6d-48f8-b070-9f2ea61b14b5\" title=\"企業會員\">企業會員</a></div>\\r\\n\\t\\t\\t\\t\\t\\t\\t\\t\\t\\r\\n<div class=\"menu_title\" title=\"台灣高鐵App\"><a href=\"/tw/Article/ArticleContent/c16dcbbe-00f8-42cb-a3c8-c58f7eb83cac\" title=\"台灣高鐵App\">台灣高鐵App</a></div>\\r\\n\\t\\t\\t\\t\\t\\t\\t\\t\\t\\r\\n\\r\\n\\t\\t\\t\\t\\t\\t\\t</div>\\r\\n\\t\\t\\t\\t\\t\\t\\t\\t</div>\\r\\n\\t\\t\\t\\t\\t\\t\\t</li>\\r\\n\\r\\n</ul>\\r\\n<div class=\"revision02_24hrs\">\\r\\n\\t\\t\\t\\t\\t\\t\\t\\t<a href=\"https://irs.thsrc.com.tw/IMINT?locale=tw\" alt = \"24小時網路訂票[將另開新視窗]\" title = \"24小時網路訂票[將另開新視窗]\" target=\"_blank\"><img src=/Content/img/revision01_24hrs.jpg /></a></div>\\r\\n\\r\\n\\r\\n\\r\\n\\t\\t</div>\\r\\n\\t</div>\\r\\n</div>\\r\\n</header>\\r\\n\\r\\n\\t\\r\\n\\t<div class=\"content_Wrapper\">\\r\\n\\t\\t\\r\\n\\r\\n\\r\\n<div class=\"revision11\">\\r\\n\\t<div class=\"revision_content\">\\r\\n\\t\\t<ul class=\"revision11_breadcrumb\">\\r\\n\\t\\t\\r\\n\\t\\t\\t\\t\\t\\r\\n\\t\\t\\t\\t\\t<li><a href=\"/\" title=\"homeTitle\">首頁</a></li>\\r\\n\\t\\t\\t\\t\\r\\n\\t\\t\\t\\t\\t\\t<li><a href=\"/tw/SiteMap/#T\" title=\\'購票資訊\\'>購票資訊</a></li> \\r\\n\\t\\t\\t\\t\\t\\r\\n\\t\\t\\t\\t\\t\\t<li><a href=\"/tw\" title=\\'快速查詢\\'>快速查詢</a></li> \\r\\n\\t\\t\\t\\t\\t\\r\\n\\t\\t\\t\\t\\t\\r\\n\\t\\t\\t\\t\\t<li class=\"active\">時刻表與票價查詢</li>\\r\\n\\t\\t\\t\\t\\t\\r\\n\\t\\t</ul>\\r\\n\\t\\t<div class=\"ticket_bread_right\">\\r\\n\\t\\t\\t\\r\\n<!--Content_Start-->\\r\\n    \\r\\n    <noscript style=\"\\r\\n    position: absolute;\\r\\n    top: 55px;\\r\\n    right: 0px;\\r\\n    line-height: 18px;\\r\\n    width: 500px;\\r\\n    z-index:100;\\r\\n    background:#FFF;\\r\\n\" >\\r\\n    <p>友善列印SCRIPT，如您的瀏覽器不支援，請利用鍵盤按住Ctrl鍵 + P。 <br />\\r\\n     字級大小SCRIPT，如您的瀏覽器不支援，IE6請利用鍵盤按住ALT鍵 + V → X → (G)最大><br />\\r\\n     (L)較大(M)中(S)較小(A)小，來選擇適合您的文字大小，如為IE7或Firefoxy與Chrome瀏覽器則<br />\\r\\n     可利用鍵盤 Ctrl + (+)放大 (-)縮小來改變字型大小。</p>\\r\\n     </noscript>\\r\\n    \\r\\n    <a class=\"print_this\" href=\"javascript:;\" title=\"列印本頁\">列印本頁</a>\\r\\n   \\r\\n    <!--Content_End-->\\r\\n\\t\\t</div>\\r\\n\\t\\t<script type=\"text/javascript\">\\r\\n\\t\\t\\t/*字體大小區-------------------------------------------------------------------------------------------*/\\r\\n\\t\\t\\t$(document).ready(function () {\\r\\n\\t\\t\\t\\t$(\\'.ticket_bread_right ol li\\').click(function () {\\r\\n\\t\\t\\t\\t\\t$(\\'.ticket_bread_right ol li\\').removeClass(\\'current\\');\\r\\n\\t\\t\\t\\t\\t$(this).addClass(\\'current\\');\\r\\n\\t\\t\\t\\t\\tswitch ($(this).index()) {\\r\\n\\t\\t\\t\\t\\t\\tcase 0:\\r\\n\\t\\t\\t\\t\\t\\t\\t$(\\'.word_size\\').css(\\'font-size\\', \\'18px\\');\\r\\n\\t\\t\\t\\t\\t\\t\\tbreak;\\r\\n\\t\\t\\t\\t\\t\\tcase 1:\\r\\n\\t\\t\\t\\t\\t\\t\\t$(\\'.word_size\\').css(\\'font-size\\', \\'15px\\');\\r\\n\\t\\t\\t\\t\\t\\t\\tbreak;\\r\\n\\t\\t\\t\\t\\t\\tcase 2:\\r\\n\\t\\t\\t\\t\\t\\t\\t$(\\'.word_size\\').css(\\'font-size\\', \\'12px\\');\\r\\n\\t\\t\\t\\t\\t\\t\\tbreak;\\r\\n\\t\\t\\t\\t\\t}\\r\\n\\t\\t\\t\\t});\\r\\n\\t\\t\\t\\t$(\\'.ticket_bread_right ol li\\').keypress(function () {\\r\\n\\t\\t\\t\\t\\t$(\\'.ticket_bread_right ol li\\').removeClass(\\'current\\');\\r\\n\\t\\t\\t\\t\\t$(this).addClass(\\'current\\');\\r\\n\\t\\t\\t\\t\\tswitch ($(this).index()) {\\r\\n\\t\\t\\t\\t\\t\\tcase 0:\\r\\n\\t\\t\\t\\t\\t\\t\\t$(\\'.word_size\\').css(\\'font-size\\', \\'18px\\');\\r\\n\\t\\t\\t\\t\\t\\t\\tbreak;\\r\\n\\t\\t\\t\\t\\t\\tcase 1:\\r\\n\\t\\t\\t\\t\\t\\t\\t$(\\'.word_size\\').css(\\'font-size\\', \\'15px\\');\\r\\n\\t\\t\\t\\t\\t\\t\\tbreak;\\r\\n\\t\\t\\t\\t\\t\\tcase 2:\\r\\n\\t\\t\\t\\t\\t\\t\\t$(\\'.word_size\\').css(\\'font-size\\', \\'12px\\');\\r\\n\\t\\t\\t\\t\\t\\t\\tbreak;\\r\\n\\t\\t\\t\\t\\t}\\r\\n\\t\\t\\t\\t});\\r\\n\\t\\t\\t});\\r\\n\\t\\t\\t/*字體大小區 End-------------------------------------------------------------------------------------------*/\\r\\n\\t\\t</script>\\r\\n\\t\\t<!--print js-->\\r\\n\\t\\t<script src=\"/Content/Script/printFunction.js\" type=\"text/javascript\"></script>\\r\\n\\t\\t<!--print js-->\\r\\n\\t</div>\\r\\n</div><!--ticket_bread_left-->\\r\\n\\r\\n<!--ticket_bread-->\\r\\n<!--主要內容區導盲磚-->\\r\\n\\r\\n<section class=\"common_content\">\\r\\n\\t<br/>\\r\\n\\t<h2 class=\"time_search_title\" title = \"時刻表與票價查詢\">時刻表與票價查詢</h2>\\r\\n\\t<section class=\"time_check time_check_tw\">\\r\\n\\t\\t<h3 class=\"time_check_title time_check_title_tw\" title = \"請選擇查詢條件\">請選擇查詢條件 </h3>\\r\\n\\t\\t<section class=\"time_check_left time_check_left_tw\">\\r\\n\\t\\t\\t<form action=\"/tw/TimeTable/SearchResult\" id=\"formQuickTimeTableSearch\" method=\"post\" name=\"formQuickTimeTableSearch\">\\r\\n\\t<fieldset class=\"start_time\">\\r\\n\\t\\t<label for=\"StartStation\">出發站<em> : </em> \\r\\n\\t\\t<select id=\"StartStation\" name=\"StartStation\"  style=\"width: 155px;\" ><option value=\\'\\' > 請選擇</option>\\r\\n<option value=\\'2f940836-cedc-41ef-8e28-c2336ac8fe68\\' > 南港站</option>\\r\\n<option value=\\'977abb69-413a-4ccf-a109-0272c24fd490\\' selected> 台北站</option>\\r\\n<option value=\\'e6e26e66-7dc1-458f-b2f3-71ce65fdc95f\\' > 板橋站</option>\\r\\n<option value=\\'fbd828d8-b1da-4b06-a3bd-680cdca4d2cd\\' > 桃園站</option>\\r\\n<option value=\\'a7a04c89-900b-4798-95a3-c01c455622f4\\' > 新竹站</option>\\r\\n<option value=\\'e8fc2123-2aaf-46ff-ad79-51d4002a1ef3\\' > 苗栗站</option>\\r\\n<option value=\\'3301e395-46b8-47aa-aa37-139e15708779\\' > 台中站</option>\\r\\n<option value=\\'38b8c40b-aef0-4d66-b257-da96ec51620e\\' > 彰化站</option>\\r\\n<option value=\\'5f4c7bb0-c676-4e39-8d3c-f12fc188ee5f\\' > 雲林站</option>\\r\\n<option value=\\'60831846-f0e4-47f6-9b5b-46323ebdcef7\\' > 嘉義站</option>\\r\\n<option value=\\'9c5ac6ca-ec89-48f8-aab0-41b738cb1814\\' > 台南站</option>\\r\\n<option value=\\'f2519629-5973-4d08-913b-479cce78a356\\' > 左營站</option>\\r\\n</select>\\r\\n\\r\\n\\t</fieldset>\\r\\n\\t<fieldset class=\"end_time end_time_tw\">\\r\\n\\t\\t<label for=\"EndStation\">到達站<em> : </em></label>\\r\\n\\t\\t<select id=\"EndStation\" name=\"EndStation\"  style=\"width: 155px;\" ><option value=\\'\\' > 請選擇</option>\\r\\n<option value=\\'2f940836-cedc-41ef-8e28-c2336ac8fe68\\' > 南港站</option>\\r\\n<option value=\\'977abb69-413a-4ccf-a109-0272c24fd490\\' > 台北站</option>\\r\\n<option value=\\'e6e26e66-7dc1-458f-b2f3-71ce65fdc95f\\' > 板橋站</option>\\r\\n<option value=\\'fbd828d8-b1da-4b06-a3bd-680cdca4d2cd\\' > 桃園站</option>\\r\\n<option value=\\'a7a04c89-900b-4798-95a3-c01c455622f4\\' > 新竹站</option>\\r\\n<option value=\\'e8fc2123-2aaf-46ff-ad79-51d4002a1ef3\\' > 苗栗站</option>\\r\\n<option value=\\'3301e395-46b8-47aa-aa37-139e15708779\\' > 台中站</option>\\r\\n<option value=\\'38b8c40b-aef0-4d66-b257-da96ec51620e\\' > 彰化站</option>\\r\\n<option value=\\'5f4c7bb0-c676-4e39-8d3c-f12fc188ee5f\\' > 雲林站</option>\\r\\n<option value=\\'60831846-f0e4-47f6-9b5b-46323ebdcef7\\' selected> 嘉義站</option>\\r\\n<option value=\\'9c5ac6ca-ec89-48f8-aab0-41b738cb1814\\' > 台南站</option>\\r\\n<option value=\\'f2519629-5973-4d08-913b-479cce78a356\\' > 左營站</option>\\r\\n</select>\\r\\n\\r\\n\\t</fieldset>\\r\\n\\t<fieldset class=\"date_for date_for_tw\">\\r\\n\\t\\t<label for=\"SearchDate\">日 期<em> : </em></label>\\r\\n\\t\\t\\t<input class=\"datemodel train_data\" id=\"SearchDate\" name=\"SearchDate\" placeholder=\"西元年/月/日\" size=\"12\" style=\"width: 125px;\" type=\"textbox\" value=\"2018/02/03\" /><script>\\r\\n$(document).ready(function() {\\r\\n$(\"#SearchDate\").datepicker(\"option\", \"minDate\", new Date(2018, 2 - 1, 16));\\r\\n$(\"#SearchDate\").datepicker(\"option\", \"maxDate\", new Date(2018, 3 - 1, 15));\\r\\n});\\r\\n</script>\\r\\n \\r\\n\\t</fieldset>\\r\\n\\t<fieldset class=\"which_time which_time_tw\">\\r\\n\\t\\t<label for=\"SearchTime\">時 間<em> : </em></label>\\r\\n\\t\\t<select id=\"SearchTime\" name=\"SearchTime\" style=\"width: 100px;\"><option value=\"\">請選擇</option>\\r\\n<option value=\"05:00\">05:00</option>\\r\\n<option value=\"05:30\">05:30</option>\\r\\n<option value=\"06:00\">06:00</option>\\r\\n<option value=\"06:30\">06:30</option>\\r\\n<option value=\"07:00\">07:00</option>\\r\\n<option value=\"07:30\">07:30</option>\\r\\n<option value=\"08:00\">08:00</option>\\r\\n<option value=\"08:30\">08:30</option>\\r\\n<option value=\"09:00\">09:00</option>\\r\\n<option value=\"09:30\">09:30</option>\\r\\n<option value=\"10:00\">10:00</option>\\r\\n<option value=\"10:30\">10:30</option>\\r\\n<option value=\"11:00\">11:00</option>\\r\\n<option value=\"11:30\">11:30</option>\\r\\n<option value=\"12:00\">12:00</option>\\r\\n<option value=\"12:30\">12:30</option>\\r\\n<option value=\"13:00\">13:00</option>\\r\\n<option value=\"13:30\">13:30</option>\\r\\n<option value=\"14:00\">14:00</option>\\r\\n<option value=\"14:30\">14:30</option>\\r\\n<option value=\"15:00\">15:00</option>\\r\\n<option value=\"15:30\">15:30</option>\\r\\n<option value=\"16:00\">16:00</option>\\r\\n<option value=\"16:30\">16:30</option>\\r\\n<option value=\"17:00\">17:00</option>\\r\\n<option value=\"17:30\">17:30</option>\\r\\n<option selected=\"selected\" value=\"18:00\">18:00</option>\\r\\n<option value=\"18:30\">18:30</option>\\r\\n<option value=\"19:00\">19:00</option>\\r\\n<option value=\"19:30\">19:30</option>\\r\\n<option value=\"20:00\">20:00</option>\\r\\n<option value=\"20:30\">20:30</option>\\r\\n<option value=\"21:00\">21:00</option>\\r\\n<option value=\"21:30\">21:30</option>\\r\\n<option value=\"22:00\">22:00</option>\\r\\n<option value=\"22:30\">22:30</option>\\r\\n<option value=\"23:00\">23:00</option>\\r\\n<option value=\"23:30\">23:30</option>\\r\\n</select>                             \\r\\n\\t\\t<label for=\"SearchWay\"></label>\\r\\n\\t\\t<select id=\"SearchWay\" name=\"SearchWay\"  style=\"width: 60px;\" ><option value=\\'DepartureInMandarin\\' selected> 出發</option>\\r\\n<option value=\\'ArrivalInMandarin\\' > 抵達</option>\\r\\n</select>\\r\\n \\r\\n\\t\\t<input id=\"RestTime\" name=\"RestTime\" type=\"hidden\" value=\"\" />\\r\\n\\t\\t<input id=\"EarlyOrLater\" name=\"EarlyOrLater\" type=\"hidden\" value=\"\" />                            \\r\\n\\t</fieldset>\\r\\n\\r\\n\\t<fieldset class=\"apply_sale\">\\r\\n\\t<label >適用優惠<em> : </em></label>\\r\\n\\t<div class=\"apply_saleitems\" >\\r\\n\\t<input type=\"checkbox\" id=\"DiscountType\" name=\"DiscountType\" value=\"e1b4c4d9-98d7-4c8c-9834-e1d2528750f1\"  /><label for=\"e1b4c4d9-98d7-4c8c-9834-e1d2528750f1\">早鳥</label> \\r\\n<input type=\"checkbox\" id=\"DiscountType\" name=\"DiscountType\" value=\"68d9fc7b-7330-44c2-962a-74bc47d2ee8a\"  /><label for=\"68d9fc7b-7330-44c2-962a-74bc47d2ee8a\">大學生</label> \\r\\n<input type=\"checkbox\" id=\"DiscountType\" name=\"DiscountType\" value=\"4baae6e5-b42c-474b-a194-ff8f1783c7bb\"  /><label for=\"4baae6e5-b42c-474b-a194-ff8f1783c7bb\">25人團體</label> \\r\\n<input type=\"checkbox\" id=\"DiscountType\" name=\"DiscountType\" value=\"40863ff1-a16c-4da1-8af7-c1f8991627f3\"  /><label for=\"40863ff1-a16c-4da1-8af7-c1f8991627f3\">校外教學</label> \\r\\n<input type=\"checkbox\" id=\"DiscountType\" name=\"DiscountType\" value=\"6e5fe76b-a522-4f5c-b17a-26c8f395b87a\"  /><label for=\"6e5fe76b-a522-4f5c-b17a-26c8f395b87a\">平日離峰</label> \\r\\n\\r\\n\\t</div>\\r\\n\\t<script>\\r\\n\\t\\tvar bol = $(\"input[type=checkbox][name=DiscountType]:checked\").length >= 4;\\r\\n\\t\\t$(\"input[type=checkbox][name=DiscountType]\").not(\":checked\").attr(\"disabled\", bol);\\r\\n\\t\\t$(\"input[type=checkbox][name=DiscountType]\").click(function () {\\r\\n\\t\\t\\tbol = $(\"input[type=checkbox][name=DiscountType]:checked\").length >= 4;\\r\\n\\t\\t\\t$(\"input[type=checkbox][name=DiscountType]\").not(\":checked\").attr(\"disabled\", bol);\\r\\n\\t\\t});\\r\\n\\t</script>\\r\\n\\t</fieldset>\\r\\n\\r\\n\\t<input class=\"time_search_btn time_search_btn_tw\" type=\"submit\" value=\"立即查詢\" title = \"立即查詢\"  onkeypress=\"QuickSearchSubmit();return false;\" onclick=\"QuickSearchSubmit();return false;\" />\\r\\n</form>\\r\\n<script type=\"text/javascript\">\\r\\n\\t$(document).ready(function () {\\r\\n\\t\\r\\n\\t\\r\\n\\t});\\r\\n\\tfunction QuickSearchSubmit() {\\r\\n\\t\\tvar startStation = $(\"#StartStation\").val();\\r\\n\\t\\tvar endStation = $(\"#EndStation\").val();\\r\\n\\t\\tvar time = $(\"#SearchTime\").val();\\r\\n\\r\\n\\t\\tif (startStation == \"\" || endStation == \"\")\\r\\n\\t\\t\\talert(\"請選擇出發 / 到達站\");\\r\\n\\t\\telse if (time == \"\")\\r\\n\\t\\t\\talert(\"請選擇時間\");\\r\\n\\t\\telse if (startStation == endStation)\\r\\n\\t\\t\\talert(\"起站與迄站不能設為相同\");\\r\\n\\t\\telse\\r\\n\\t\\t\\t$(\"#formQuickTimeTableSearch\").submit();\\r\\n\\t}\\r\\n\\tfunction RestTrainSubmit(restTime, earlyOrLater) {\\r\\n\\t\\t$(\"#RestTime\").val(restTime);\\r\\n\\t\\t$(\"#EarlyOrLater\").val(earlyOrLater);\\r\\n\\t\\tQuickSearchSubmit();\\r\\n\\t}\\r\\n</script>\\r\\n <noscript>\\r\\n 請選擇出發 / 到達站\\r\\n 請選擇時間\\r\\n 起站與迄站不能設為相同\\r\\n </noscript>\\r\\n\\t\\t \\r\\n\\t\\t</section>\\r\\n\\t\\t\\r\\n\\t\\t\\r\\n<!--time_check_right-->\\r\\n<section class=\"time_check_right time_check_right_tw\">\\r\\n    <h4 title = \"時刻表下載\">時刻表下載</h4>\\r\\n    \\r\\n    <ul>\\r\\n        <li><a href=\"/UploadFiles/TicketFile/db294037-6950-4fb6-99dd-f60c2b2b0ca8.pdf\" target=\"_blank\" onkeypress=\"JumpToOtherPage(\\'/UploadFiles/TicketFile/db294037-6950-4fb6-99dd-f60c2b2b0ca8.pdf\\', \\'1\\');return false;\" onclick=\"JumpToOtherPage(\\'/UploadFiles/TicketFile/db294037-6950-4fb6-99dd-f60c2b2b0ca8.pdf\\', \\'1\\');return false;\" title  =\"2017/10/12起適用時刻表[將另開新視窗](2017/10/12起適用時刻表.pdf)\" download=\"2017/10/12起適用時刻表\">2017/10/12起適用時刻表</a></li>\\r\\n<li><a href=\"/UploadFiles/TicketFile/9eaed3a3-1370-446f-89bd-166e2ea62476.pdf\" target=\"_blank\" onkeypress=\"JumpToOtherPage(\\'/UploadFiles/TicketFile/9eaed3a3-1370-446f-89bd-166e2ea62476.pdf\\', \\'1\\');return false;\" onclick=\"JumpToOtherPage(\\'/UploadFiles/TicketFile/9eaed3a3-1370-446f-89bd-166e2ea62476.pdf\\', \\'1\\');return false;\" title  =\"2018春節時刻表[將另開新視窗](2018春節時刻表.pdf)\" download=\"2018春節時刻表\">2018春節時刻表</a></li>\\r\\n\\r\\n\\t</ul>\\r\\n</section>\\r\\n\\t\\t<div class=\"clearfix\"></div>\\r\\n\\t</section>\\r\\n\\t\\r\\n<section class=\"time_check_result time_check_result_tw\">\\r\\n    <h2>Search Result</h2>    \\r\\n    <div class=\"time_search_none\">您查詢的時段，無適用所選優惠專案之車次。</div>\\r\\n</section><!--time_check_result-->\\r\\n\\r\\n<h3 class=\"kind_ticket kind_ticket_tw\">車廂票價參考</h3>\\r\\n<section class=\"kind_ticket_list kind_ticket_list_tw\">\\r\\n        <table class=\"word_size\" style=\"table-layout:fixed\">\\r\\n            \\r\\n<tr><th class=\\'c1\\' scope=\\'col\\'>&nbsp;</th><th scope=\\'row\\'>全票</th><th scope=\\'row\\' style=\\'width: 130px; white-space: nowrap;\\'>孩童票  敬老票愛心票價</th><th scope=\\'row\\'>團體票</th></tr><tr><th class=\\'c2\\' scope=\\'col\\'>標準車廂</th><td>$1080</td><td>$540</td><td>$1025</td></tr><tr><th class=\\'c3\\' scope=\\'col\\'>商務車廂</th><td>$1635</td><td>$910</td><td>$1550</td></tr><tr><th class=\\'c4\\' scope=\\'col\\'>自由座車廂</th><td>$1045</td><td>$520</td><td>-</td></tr>\\r\\n        </table>\\r\\n\\t\\t\\r\\n    </section>\\r\\n\\r\\n<article class=\"search_word commonWord\">\\r\\n    <h4 class=\"word_size\" title = \"公告事項說明\">公告事項說明</h4>\\r\\n    <ul class=\"word_size\">            \\r\\n            <li title = \"南港─台北、南港─板橋、台北─板橋區間恕不發售商務車廂車票及團體票。\">南港─台北、南港─板橋、台北─板橋區間恕不發售商務車廂車票及團體票。</li>\\r\\n            <li title = \"欲得知列車停靠站詳細說明，請點選上方之車次連結。\">欲得知列車停靠站詳細說明，請點選上方之車次連結。</li>\\r\\n            <li title = \"本系統僅提供時刻表及票價查詢功能，如欲直接訂位，請使用台灣高鐵網路訂位系統進行線上訂位及付款。\">本系統僅提供時刻表及票價查詢功能，如欲直接訂位，請使用台灣高鐵網路訂位系統進行線上訂位及付款。</li>\\r\\n            <li title = \"本時刻表所列各次列車為開車時刻，唯於終點站為到達時刻。\">本時刻表所列各次列車為開車時刻，唯於終點站為到達時刻。</li>\\r\\n    </ul>\\r\\n</article>\\r\\n<article class=\"search_word2 commonWord\">\\r\\n    <h4 class=\"word_size\" title = \"票價優惠說明\">票價優惠說明</h4>\\r\\n    <ul class=\"word_size\">\\r\\n        <li title = \"早鳥優惠車票，自乘車日(含)前28日起開始限量發售，最晚發售至乘車日(含)前 5 日截止。\">早鳥優惠車票，自乘車日(含)前28日起開始限量發售，最晚發售至乘車日(含)前 5 日截止。</li>\\r\\n        <li title = \"本查詢顯示之早鳥適用優惠為該車次最低早鳥折扣。愈早訂位者，愈有機會訂得早鳥 65 折優惠車票。早鳥 65 折銷售完畢即改發售早鳥 8 折，早鳥 8 折銷售完畢即改發售早鳥 9 折，早鳥 9 折銷售完畢即提前截止並改發售原價車票。\">本查詢顯示之早鳥適用優惠為該車次最低早鳥折扣。愈早訂位者，愈有機會訂得早鳥 65 折優惠車票。早鳥 65 折銷售完畢即改發售早鳥 8 折，早鳥 8 折銷售完畢即改發售早鳥 9 折，早鳥 9 折銷售完畢即提前截止並改發售原價車票。</li>\\r\\n        <li title = \"以上票價為折扣後之價格。\">以上票價為折扣後之價格。</li>\\r\\n        <li title = \"以上列車時刻及票價僅供參考，資訊若有更動，以各車站現場公布為準。\">以上列車時刻及票價僅供參考，資訊若有更動，以各車站現場公布為準。</li>\\r\\n    </ul>\\r\\n</article>\\r\\n\\t<article class=\"siteMapTop\"></article>\\r\\n</section>\\r\\n<div style=\"height:20px;\" class=\"footer_list_btn\"></div>\\r\\n\\r\\n\\r\\n\\t</div>\\r\\n\\t\\r\\n\\t\\r\\n<!--WebsiteFooter_Start-->\\r\\n<footer>\\r\\n\\t<!--文章分享區塊-->\\r\\n\\t\\r\\n\\t<!--文章分享區塊 end-->\\r\\n\\t\\r\\n\\t<div class=\"revision07\">\\r\\n\\t\\t<div class=\"revision_content\">\\r\\n\\t\\t\\t<div class=\"revision07_flex\">\\r\\n\\t\\t\\t\\t<div class=\"revision07_service\">\\r\\n\\t\\t\\t\\t\\t<div class=\"revision07_title\">客戶服務</div>\\r\\n\\t\\t\\t\\t\\t<div class=\"revision07_service_content\">\\r\\n\\t\\t\\t\\t\\t\\t<div class=\"revision07_service_content_text1\">以下皆為付費電話，依一般市話及行動電話費率標準計費。</div>\\r\\n\\t\\t\\t\\t\\t\\t<div class=\"revision07_service_content_text2\">客服專線：4066-3000<br />苗栗：4266-3000<br />台東、金門：4666-3000<br />馬祖及行動電話：02-4066-3000<br />服務時間：06:00~24:00</div>\\r\\n\\t\\t\\t\\t\\t\\t<div class=\"revision07_service_content_text3\">語音訂位：4066-0000<br />苗栗：4266-0000<br />台東、金門：4666-0000<br />馬祖及行動電話：02-4066-0000<br />服務時間：00:00~24:00</div>\\r\\n\\t\\t\\t\\t\\t</div>\\r\\n\\t\\t\\t\\t</div>\\r\\n\\t\\t\\t\\t<div class=\"revision07_about\">\\r\\n\\t<div class=\"revision07_title\">關於高鐵</div>\\r\\n\\t<div class=\"revision07_menu\">\\r\\n\\t<div class=\"revision07_menu_item\"><a href=\"http://www.thsrc.com.tw/tw/Article/ArticleContent/a631c7bf-7969-4f21-b7a1-5c5266c60e66\" title=\"公司治理\" >公司治理</a></div>\\r\\n<div class=\"revision07_menu_item\"><a href=\"/tw/Article/ArticleContent/9d8aad8b-afab-4135-b35e-5a4569d186f7\" title=\"投資人關係\" >投資人關係</a></div>\\r\\n<div class=\"revision07_menu_item\"><a href=\"/tw/Article/ArticleContent/8d291a1a-90ba-4b0f-b4d5-db2a35d881f5\" title=\"企業社會責任\" >企業社會責任</a></div>\\r\\n<div class=\"revision07_menu_item\"><a href=\"http://www.thsrc.com.tw/tw/Article/ArticleContent/63d60a32-0600-4cd7-ac37-6ad8316b7f1e\" title=\"獲獎事蹟\" >獲獎事蹟</a></div>\\r\\n<div class=\"revision07_menu_item\"><a href=\"http://www.thsrc.com.tw/tw/Tendering\" title=\"招標資訊\" >招標資訊</a></div>\\r\\n\\r\\n</div>\\r\\n\\r\\n</div>\\r\\n<div class=\"revision07_statement\">\\r\\n\\t<div class=\"revision07_title\">顧客服務與網站聲明</div>\\r\\n\\t<div class=\"revision07_menu\">\\r\\n\\t<div class=\"revision07_menu_item\"><a href=\"http://www.thsrc.com.tw/tw/LostAndFound\" title=\"遺失物查詢\" >遺失物查詢</a></div>\\r\\n<div class=\"revision07_menu_item\"><a href=\"http://www.thsrc.com.tw/tw/FAQ\" title=\"常見問題\" >常見問題</a></div>\\r\\n<div class=\"revision07_menu_item\"><a href=\"https://www.thsrc.com.tw/tw/ContactUs/Privacy\" title=\"聯絡我們\" >聯絡我們</a></div>\\r\\n<div class=\"revision07_menu_item\"><a href=\"https://www.thsrc.com.tw/tw/Article/ArticleContent/d1fa3bcb-a016-47e2-88c6-7b7cbed00ed5\" title=\"個人資料保護專區\" >個人資料保護專區</a></div>\\r\\n<div class=\"revision07_menu_item\"><a href=\"https://www.thsrc.com.tw/tw/Article/ArticleContent/b9dcb8ea-02ab-4726-b71d-335904dbd86b\" title=\"智慧財產權及免責條款宣告\" >智慧財產權及免責條款宣告</a></div>\\r\\n<div class=\"revision07_menu_item\"><a href=\"https://www.thsrc.com.tw/tw/Article/ArticleContent/291d80fe-080f-4442-90d0-9a9b82f119e5\" title=\"交易注意事項\" >交易注意事項</a></div>\\r\\n\\r\\n</div>\\r\\n\\r\\n</div>\\r\\n\\r\\n\\t\\t\\t\\t<div class=\"revision07_welcome\">\\r\\n\\t\\t\\t\\t\\t<div class=\"revision07_title\">歡迎加入我們</div>\\r\\n\\t\\t\\t\\t\\t<div class=\"revision07_welcome_content\">\\r\\n\\t\\t\\t\\t\\t\\t<div class=\"revision07_welcome_content_social\">\\r\\n\\t\\t\\t\\t\\t\\t\\t<a href=\"https://www.facebook.com/thsrco\" title=\"facebook\" target=\"_blank\"><img src=\"/Content/img/revision07_facebook.png\" /></a>\\r\\n\\t\\t\\t\\t\\t\\t\\t<a href=\"https://www.youtube.com/user/THSRFan\" title=\"youtube\" target=\"_blank\"><img src=\"/Content/img/revision07_youtube.png\" /></a>\\r\\n\\t\\t\\t\\t\\t\\t</div>\\r\\n\\t\\t\\t\\t\\t\\t<div class=\"revision07_welcome_content_item\"><a href=\"https://ehrweb.104.com.tw/job.do?uno=16446274\" title=\"高鐵徵才\" target=\"_blank\">高鐵徵才</a></div>\\r\\n\\t\\t\\t\\t\\t\\t<div class=\"revision07_welcome_content_item\"><a href=\"http://m.thsrc.com.tw\" title=\"行動版網站\" target=\"_blank\">行動版網站</a></div>\\r\\n\\t\\t\\t\\t\\t</div>\\r\\n\\t\\t\\t\\t</div>\\r\\n\\t\\t\\t</div>\\r\\n\\t\\t</div>\\r\\n\\t</div>\\r\\n\\t<div class=\"revision08\">\\r\\n\\t\\t<div class=\"revision_content\">\\r\\n\\t\\t\\t<div class=\"revision08_subscription\">\\r\\n\\t\\t\\t\\t<form name=\"ePaperform\" method=\"post\" action=\"/tw/Home/GetOrderEDM\">\\r\\n\\t\\t\\t\\t\\t<label title=\"電子報訂閱\" class=\"revision08_subscription_title\" for=\"\">電子報訂閱</label>\\r\\n\\t\\t\\t\\t\\t<input type=\"text\" id=\"epaperEmail\" name=\"epaperEmail\" title=\"請在此輸入您的Email訂閱高鐵相關營運訊息或活動訊息。\" class=\"revision08_subscription_mail\" placeholder=\"請在此輸入您的Email訂閱高鐵相關營運訊息或活動訊息。\" />\\r\\n\\t\\t\\t\\t\\t<button type=\"submit\" title=\"訂閱\" class=\"revision08_subscription_promise\" onkeypress=\"OrderEpaperClick(1);return false;\" onclick=\"OrderEpaperClick(1);return false;\">訂閱</button>\\r\\n\\t\\t\\t\\t\\t<button type=\"submit\" title=\"取消訂閱\" class=\"revision08_subscription_cancel\" onkeypress=\"OrderEpaperClick(0);return false;\" onclick=\"OrderEpaperClick(0);return false;\">取消訂閱</button>\\r\\n\\t\\t\\t\\t\\t<script type=\"text/javascript\">\\r\\n\\t\\t\\t\\t\\t\\tfunction OrderEpaperClick(s) {\\r\\n\\t\\t\\t\\t\\t\\t\\tif (s == 1)\\r\\n\\t\\t\\t\\t\\t\\t\\t\\tOrderEpaper(\\'add\\', document.getElementById(\\'epaperEmail\\').value);\\r\\n\\t\\t\\t\\t\\t\\t\\telse\\r\\n\\t\\t\\t\\t\\t\\t\\t\\tOrderEpaper(\\'remove\\', document.getElementById(\\'epaperEmail\\').value);\\r\\n\\t\\t\\t\\t\\t\\t}\\r\\n\\t\\t\\t\\t\\t</script>\\r\\n\\t\\t\\t\\t</form>\\r\\n\\t\\t\\t</div>\\r\\n\\t\\t\\t<div class=\"revision08_badge\">\\r\\n\\t\\t\\t\\t<div><a href=\"https://www.handicap-free.nat.gov.tw/Applications/Detail?category=20160303183834\" title=\"無障礙網站[將另開新視窗]\" target=\"_blank\"><img src=\"/Content/img/revision08_badge01.jpg\" width=\"88\" height=\"31\" alt=\"通過AA優先等級無障礙網頁檢測\" /></a></div>\\r\\n\\t\\t\\t</div>\\r\\n\\t\\t</div>\\r\\n\\t</div>\\r\\n\\t<div class=\"revision09\">\\r\\n\\t\\t<div class=\"revision_content\">\\r\\n\\t\\t\\t<div class=\"revision09_copyright\">台灣高速鐵路股份有限公司 版權所有 © Taiwan High Speed Rail Corporation. All Rights Reserved.</div>\\r\\n\\t\\t</div>\\r\\n\\t</div>\\r\\n</footer>\\r\\n<!--WebsiteFooter_End-->\\r\\n\\t<script type=\"text/javascript\" src=\"/Content/Script/time_search.js\"></script>\\r\\n\\r\\n</body>\\r\\n<script src=\"/Content/Script/moveScroll.js\" type=\"text/javaScript\"></script>\\r\\n<script src=\"/Content/Script/init_index.js\" type=\"text/javaScript\"></script>\\r\\n\\r\\n \\r\\n\\r\\n<script src=\"/Content/Script/jquery.ellipsis.js\" type=\"text/javaScript\"></script>\\r\\n<script src=\"/Content/Script/script-2.js\" type=\"text/javaScript\"></script>\\r\\n\\r\\n\\r\\n<script type=\"text/javascript\">\\r\\n\\r\\n    var _gaq = _gaq || [];\\r\\n    var pStr = location.pathname;\\r\\n    if ( pStr.indexOf(\"/en/\") != -1 ) \\r\\n    {\\r\\n        _gaq.push([\\'_setAccount\\', \\'UA-9967381-19\\']);\\r\\n    }\\r\\n    else if (pStr.indexOf(\"/jp/\") != -1)\\r\\n    {\\r\\n        _gaq.push([\\'_setAccount\\', \\'UA-9967381-20\\']);\\r\\n    }\\r\\n    else\\r\\n        _gaq.push([\\'_setAccount\\', \\'UA-9967381-1\\']);\\r\\n    \\r\\n    //_gaq.push([\\'_setAccount\\', \\'UA-9967381-1\\']);\\r\\n    _gaq.push([\\'_trackPageview\\']);\\r\\n\\r\\n    (function () {\\r\\n        var ga = document.createElement(\\'script\\'); ga.type = \\'text/javascript\\'; ga.async = true;\\r\\n        ga.src = (\\'https:\\' == document.location.protocol ? \\'https://ssl\\' : \\'http://www\\') + \\'.google-analytics.com/ga.js\\';\\r\\n        var s = document.getElementsByTagName(\\'script\\')[0]; s.parentNode.insertBefore(ga, s);\\r\\n    })();\\r\\n\\r\\n</script>\\r\\n<script src=\"/Content/Script/revision.js\" type=\"text/javaScript\"></script>\\r\\n</html>'"
      ]
     },
     "execution_count": 33,
     "metadata": {},
     "output_type": "execute_result"
    }
   ],
   "source": [
    "res.text"
   ]
  },
  {
   "cell_type": "markdown",
   "metadata": {},
   "source": [
    "### 尋找字串"
   ]
  },
  {
   "cell_type": "code",
   "execution_count": 37,
   "metadata": {},
   "outputs": [
    {
     "data": {
      "text/plain": [
       "<_sre.SRE_Match object; span=(2, 15), match='23123412330ML'>"
      ]
     },
     "execution_count": 37,
     "metadata": {},
     "output_type": "execute_result"
    }
   ],
   "source": [
    "import re\n",
    "a = '光泉23123412330ML'\n",
    "re.search('\\d+ML',a)\n"
   ]
  },
  {
   "cell_type": "code",
   "execution_count": 38,
   "metadata": {},
   "outputs": [
    {
     "data": {
      "text/plain": [
       "2"
      ]
     },
     "execution_count": 38,
     "metadata": {},
     "output_type": "execute_result"
    }
   ],
   "source": [
    "a = '我愛中華, 中華愛我'\n",
    "a.find('中華')"
   ]
  },
  {
   "cell_type": "code",
   "execution_count": 39,
   "metadata": {},
   "outputs": [
    {
     "name": "stdout",
     "output_type": "stream",
     "text": [
      "<_sre.SRE_Match object; span=(2, 4), match='中華'>\n",
      "<_sre.SRE_Match object; span=(6, 8), match='中華'>\n"
     ]
    }
   ],
   "source": [
    "import re\n",
    "for b in re.finditer('中華', a):\n",
    "    print(b)"
   ]
  },
  {
   "cell_type": "code",
   "execution_count": 7,
   "metadata": {
    "collapsed": true
   },
   "outputs": [],
   "source": [
    "from bs4 import BeautifulSoup\n",
    "html_sample = '''\n",
    "<html> \n",
    "<body> \n",
    "<h1 id=\"title\">Hello World</h1> \n",
    "<a href=\"#\" class=\"link\">This is link1</a> \n",
    "<a href=\"# link2\" class=\"link\">This is link2</a> \n",
    "</body> \n",
    "</html>'''\n",
    "\n",
    "soup = BeautifulSoup(html_sample, 'lxml')"
   ]
  },
  {
   "cell_type": "code",
   "execution_count": 8,
   "metadata": {},
   "outputs": [
    {
     "data": {
      "text/plain": [
       "bs4.BeautifulSoup"
      ]
     },
     "execution_count": 8,
     "metadata": {},
     "output_type": "execute_result"
    }
   ],
   "source": [
    "type(soup)"
   ]
  },
  {
   "cell_type": "code",
   "execution_count": 9,
   "metadata": {},
   "outputs": [
    {
     "data": {
      "text/plain": [
       "'\\n\\nHello World\\nThis is link1\\nThis is link2\\n\\n'"
      ]
     },
     "execution_count": 9,
     "metadata": {},
     "output_type": "execute_result"
    }
   ],
   "source": [
    "soup.text"
   ]
  },
  {
   "cell_type": "code",
   "execution_count": 10,
   "metadata": {},
   "outputs": [
    {
     "data": {
      "text/plain": [
       "<h1 id=\"title\">Hello World</h1>"
      ]
     },
     "execution_count": 10,
     "metadata": {},
     "output_type": "execute_result"
    }
   ],
   "source": [
    "soup.select_one('h1')"
   ]
  },
  {
   "cell_type": "code",
   "execution_count": 11,
   "metadata": {},
   "outputs": [
    {
     "data": {
      "text/plain": [
       "'Hello World'"
      ]
     },
     "execution_count": 11,
     "metadata": {},
     "output_type": "execute_result"
    }
   ],
   "source": [
    "soup.select_one('h1').text"
   ]
  },
  {
   "cell_type": "code",
   "execution_count": 12,
   "metadata": {},
   "outputs": [
    {
     "data": {
      "text/plain": [
       "[<h1 id=\"title\">Hello World</h1>]"
      ]
     },
     "execution_count": 12,
     "metadata": {},
     "output_type": "execute_result"
    }
   ],
   "source": [
    "soup.select('h1')"
   ]
  },
  {
   "cell_type": "code",
   "execution_count": 13,
   "metadata": {},
   "outputs": [
    {
     "data": {
      "text/plain": [
       "<h1 id=\"title\">Hello World</h1>"
      ]
     },
     "execution_count": 13,
     "metadata": {},
     "output_type": "execute_result"
    }
   ],
   "source": [
    "soup.select('h1')[0]"
   ]
  },
  {
   "cell_type": "code",
   "execution_count": 14,
   "metadata": {},
   "outputs": [
    {
     "data": {
      "text/plain": [
       "'Hello World'"
      ]
     },
     "execution_count": 14,
     "metadata": {},
     "output_type": "execute_result"
    }
   ],
   "source": [
    "soup.select('h1')[0].text"
   ]
  },
  {
   "cell_type": "code",
   "execution_count": 15,
   "metadata": {},
   "outputs": [
    {
     "data": {
      "text/plain": [
       "<a class=\"link\" href=\"#\">This is link1</a>"
      ]
     },
     "execution_count": 15,
     "metadata": {},
     "output_type": "execute_result"
    }
   ],
   "source": [
    "soup.select_one('a')"
   ]
  },
  {
   "cell_type": "code",
   "execution_count": 16,
   "metadata": {},
   "outputs": [
    {
     "data": {
      "text/plain": [
       "'This is link1'"
      ]
     },
     "execution_count": 16,
     "metadata": {},
     "output_type": "execute_result"
    }
   ],
   "source": [
    "soup.select_one('a').text"
   ]
  },
  {
   "cell_type": "code",
   "execution_count": 17,
   "metadata": {},
   "outputs": [
    {
     "data": {
      "text/plain": [
       "[<a class=\"link\" href=\"#\">This is link1</a>,\n",
       " <a class=\"link\" href=\"# link2\">This is link2</a>]"
      ]
     },
     "execution_count": 17,
     "metadata": {},
     "output_type": "execute_result"
    }
   ],
   "source": [
    "soup.select('a')"
   ]
  },
  {
   "cell_type": "code",
   "execution_count": 18,
   "metadata": {},
   "outputs": [
    {
     "data": {
      "text/plain": [
       "'This is link1'"
      ]
     },
     "execution_count": 18,
     "metadata": {},
     "output_type": "execute_result"
    }
   ],
   "source": [
    "soup.select('a')[0].text"
   ]
  },
  {
   "cell_type": "code",
   "execution_count": 19,
   "metadata": {},
   "outputs": [
    {
     "data": {
      "text/plain": [
       "'This is link2'"
      ]
     },
     "execution_count": 19,
     "metadata": {},
     "output_type": "execute_result"
    }
   ],
   "source": [
    "soup.select('a')[1].text"
   ]
  },
  {
   "cell_type": "markdown",
   "metadata": {},
   "source": [
    "### 根據CSS屬性存取資料\n",
    "- id    => #    ; e.g.    id='title' => #title\n",
    "- class => .    ; e.g. class='link'  => .link"
   ]
  },
  {
   "cell_type": "code",
   "execution_count": 20,
   "metadata": {},
   "outputs": [
    {
     "data": {
      "text/plain": [
       "<h1 id=\"title\">Hello World</h1>"
      ]
     },
     "execution_count": 20,
     "metadata": {},
     "output_type": "execute_result"
    }
   ],
   "source": [
    "#id = title\n",
    "soup.select_one(\"#title\")"
   ]
  },
  {
   "cell_type": "code",
   "execution_count": 21,
   "metadata": {},
   "outputs": [
    {
     "data": {
      "text/plain": [
       "[<a class=\"link\" href=\"#\">This is link1</a>,\n",
       " <a class=\"link\" href=\"# link2\">This is link2</a>]"
      ]
     },
     "execution_count": 21,
     "metadata": {},
     "output_type": "execute_result"
    }
   ],
   "source": [
    "#class = Link\n",
    "soup.select('.link')"
   ]
  },
  {
   "cell_type": "code",
   "execution_count": 22,
   "metadata": {},
   "outputs": [
    {
     "data": {
      "text/plain": [
       "<h1 id=\"title\">Hello World</h1>"
      ]
     },
     "execution_count": 22,
     "metadata": {},
     "output_type": "execute_result"
    }
   ],
   "source": [
    "# \" \" 抓取下一層\n",
    "# 抓取 body 下屬性為id=title的 h1\n",
    "soup.select_one('body h1#title')"
   ]
  },
  {
   "cell_type": "code",
   "execution_count": 23,
   "metadata": {},
   "outputs": [
    {
     "data": {
      "text/plain": [
       "[<a class=\"link\" href=\"#\">This is link1</a>,\n",
       " <a class=\"link\" href=\"# link2\">This is link2</a>]"
      ]
     },
     "execution_count": 23,
     "metadata": {},
     "output_type": "execute_result"
    }
   ],
   "source": [
    "# 抓取 body 下屬性為class=link的 a\n",
    "soup.select('body a.link')"
   ]
  },
  {
   "cell_type": "code",
   "execution_count": 29,
   "metadata": {},
   "outputs": [
    {
     "name": "stdout",
     "output_type": "stream",
     "text": [
      "#\n",
      "# link2\n"
     ]
    }
   ],
   "source": [
    "for alink in soup.select('body a.link'):\n",
    "    #print(alink.text)\n",
    "    #print(alink['href'])\n",
    "    print(alink.get('href'))"
   ]
  },
  {
   "cell_type": "code",
   "execution_count": 33,
   "metadata": {},
   "outputs": [
    {
     "data": {
      "text/plain": [
       "'123'"
      ]
     },
     "execution_count": 33,
     "metadata": {},
     "output_type": "execute_result"
    }
   ],
   "source": [
    "l = '<a class=\"link\" href=\"# link2\" data=123 qoo=oop>This is link2</a>'\n",
    "s = BeautifulSoup(l, 'lxml')\n",
    "s.select_one('a')['qoo']\n",
    "s.select_one('a')['data']"
   ]
  },
  {
   "cell_type": "code",
   "execution_count": 34,
   "metadata": {
    "collapsed": true
   },
   "outputs": [],
   "source": [
    "import requests\n",
    "res = requests.get('https://tw.appledaily.com/new/realtime')"
   ]
  },
  {
   "cell_type": "code",
   "execution_count": 35,
   "metadata": {
    "collapsed": true
   },
   "outputs": [],
   "source": [
    "from bs4 import BeautifulSoup\n",
    "soup = BeautifulSoup(res.text, 'lxml')"
   ]
  },
  {
   "cell_type": "code",
   "execution_count": 42,
   "metadata": {},
   "outputs": [
    {
     "name": "stdout",
     "output_type": "stream",
     "text": [
      "國運籤又抽到下下籤　總統蔡英文回應了(1449) 生活 15:25 https://tw.news.appledaily.com/life/realtime/20180216/1299636/\n",
      "=======================================================\n",
      "大過年竟缺水　屏東東港新園上千戶超不便 生活 15:25 https://tw.news.appledaily.com/life/realtime/20180216/1299577/\n",
      "=======================================================\n",
      "【百貨福袋】準白衣天使超強運　首購獲蘋果...(821) 生活 15:23 https://tw.news.appledaily.com/life/realtime/20180216/1299556/\n",
      "=======================================================\n",
      "【壹週刊】出遊怕暈車　千萬不要看窗外！(60) 壹週刊 15:20 https://tw.news.appledaily.com/nextmag/realtime/20180216/1299627/\n",
      "=======================================================\n",
      "攜家帶眷出遊去　親子共遊春節案場 地產 15:20 https://tw.finance.appledaily.com/realtime/20180216/1293991/\n",
      "=======================================================\n",
      "【PK片】他靠「36公分」完勝　當眾爽打...(212) 生活 15:15 https://tw.news.appledaily.com/life/realtime/20180216/1299546/\n",
      "=======================================================\n",
      "麥當勞快樂兒童餐變惹　起司漢堡將「絕跡」(648) 國際 15:11 https://tw.news.appledaily.com/international/realtime/20180216/1299589/\n",
      "=======================================================\n",
      "賴清德慰勤大安分局　被問國運籤充耳不聞(315) 社會 15:10 https://tw.news.appledaily.com/local/realtime/20180216/1299632/\n",
      "=======================================================\n",
      "全台最大獎！｢超衰」業務員否極泰來　抽中...(2948) 生活 15:10 https://tw.news.appledaily.com/life/realtime/20180216/1299634/\n",
      "=======================================================\n",
      "【壹週刊】《花甲》盧廣仲對決《黑豹》　賀...(57) 壹週刊 15:10 https://tw.news.appledaily.com/nextmag/realtime/20180216/1299626/\n",
      "=======================================================\n",
      "【恭賀新喜片】春節賀喜　朝野立委狗年春聯...(150) 政治 15:07 https://tw.news.appledaily.com/politics/realtime/20180216/1298787/\n",
      "=======================================================\n",
      "艾美舒默交往數月閃婚廚師　閨蜜小珍妮佛當...(595) 娛樂 15:07 https://tw.entertainment.appledaily.com/realtime/20180216/1299617/\n",
      "=======================================================\n",
      "蔡英文初一台南發紅包　場外高喊「老母豬下...(1401) 政治 15:06 https://tw.news.appledaily.com/politics/realtime/20180216/1299615/\n",
      "=======================================================\n",
      "【明星過年】林志玲停工後素顏首露面　網友...(1602) 娛樂 15:06 https://tw.entertainment.appledaily.com/realtime/20180216/1299619/\n",
      "=======================================================\n",
      "【有片】天使拒絕砍掉重練　不排除與特勞特...(6167) 體育 15:05 https://tw.sports.appledaily.com/realtime/20180216/1299476/\n",
      "=======================================================\n",
      "【百貨福袋】40歲單身友達技師　開走70...(8851) 生活 15:04 https://tw.news.appledaily.com/life/realtime/20180216/1299586/\n",
      "=======================================================\n",
      "【北部國道不斷更新】國3大溪龍潭龜速30...(31679) 生活 15:00 https://tw.news.appledaily.com/life/realtime/20180216/1299435/\n",
      "=======================================================\n",
      "【壹週刊】【品味壹番】超稀有！　限量28...(32) 壹週刊 15:00 https://tw.news.appledaily.com/nextmag/realtime/20180216/1299618/\n",
      "=======================================================\n",
      "【平昌冬奧】花滑華裔小鮮肉失誤連發　暫居...(662) 體育 14:56 https://tw.sports.appledaily.com/realtime/20180216/1299601/\n",
      "=======================================================\n",
      "安妮斯頓2年婚變　疑與前夫小布走太近(38730) 娛樂 14:53 https://tw.entertainment.appledaily.com/realtime/20180216/1299461/\n",
      "=======================================================\n",
      "【有片】金正恩的大年初一　參拜老爸遺體謁...(5520) 國際 14:49 https://tw.news.appledaily.com/international/realtime/20180216/1299470/\n",
      "=======================================================\n",
      "蘋果HomePod喇叭　致木製傢俱留白印(702) 國際 14:47 https://tw.news.appledaily.com/international/realtime/20180216/1299625/\n",
      "=======================================================\n",
      "【央視春晚】舞棍級影帝抖神曲　黃渤碾壓陳...(1369) 娛樂 14:44 https://tw.entertainment.appledaily.com/realtime/20180216/1299613/\n",
      "=======================================================\n",
      "年初一好天氣　民眾湧入潮境公園(898) 生活 14:43 https://tw.news.appledaily.com/life/realtime/20180216/1299623/\n",
      "=======================================================\n",
      "狗年生肖運勢大不同　這生肖要注意桃花(3907) 生活 14:40 https://tw.news.appledaily.com/life/realtime/20180216/1299622/\n",
      "=======================================================\n",
      "美媒：中國使館資助留學生組織　充當眼線(547) 國際 14:39 https://tw.news.appledaily.com/international/realtime/20180216/1299620/\n",
      "=======================================================\n",
      "狗食品含安樂死藥物　美廠商急回收(452) 國際 14:39 https://tw.news.appledaily.com/international/realtime/20180216/1299612/\n",
      "=======================================================\n",
      "嘉玲女王紅吱吱穿Dior　新春豔光逼人　...(941) 時尚 14:37 https://tw.entertainment.appledaily.com/realtime/20180216/1299262/\n",
      "=======================================================\n",
      "玩天堂真的M？男怕斷線　寧爬26層樓回家(2888) 生活 14:36 https://tw.news.appledaily.com/life/realtime/20180216/1299571/\n",
      "=======================================================\n",
      "出國帶好料返台送禮　不知這些規定恐GG(1005) 生活 14:36 https://tw.news.appledaily.com/life/realtime/20180216/1299624/\n",
      "=======================================================\n"
     ]
    }
   ],
   "source": [
    "for news in soup.select('.rtddt a'):\n",
    "    #print(news)\n",
    "    title    = news.select_one('h1').text\n",
    "    category = news.select_one('h2').text\n",
    "    dt       = news.select_one('time').text\n",
    "    link     = news['href']\n",
    "    #print(link)\n",
    "    print(title, category, dt, link)\n",
    "    print('=======================================================')"
   ]
  },
  {
   "cell_type": "markdown",
   "metadata": {},
   "source": [
    "## 抓取圖片"
   ]
  },
  {
   "cell_type": "code",
   "execution_count": 46,
   "metadata": {
    "collapsed": true
   },
   "outputs": [],
   "source": [
    "import requests\n",
    "res = requests.get(\"https://img.appledaily.com.tw/images/ReNews/20180216/640_a33a16787a4f088e72ae9c375bd9b2de.jpg\")\n",
    "with open('tsai.jpg', 'wb') as f:\n",
    "    f.write(res.content)"
   ]
  },
  {
   "cell_type": "markdown",
   "metadata": {},
   "source": [
    "## 抓取內容頁"
   ]
  },
  {
   "cell_type": "code",
   "execution_count": 47,
   "metadata": {
    "collapsed": true
   },
   "outputs": [],
   "source": [
    "import requests\n",
    "res = requests.get('https://tw.entertainment.appledaily.com/realtime/20180216/1299617/')"
   ]
  },
  {
   "cell_type": "code",
   "execution_count": 48,
   "metadata": {
    "collapsed": true
   },
   "outputs": [],
   "source": [
    "from bs4 import BeautifulSoup\n",
    "soup = BeautifulSoup(res.text, 'lxml')"
   ]
  },
  {
   "cell_type": "code",
   "execution_count": 49,
   "metadata": {},
   "outputs": [
    {
     "data": {
      "text/plain": [
       "'艾美舒默交往數月閃婚廚師\\u3000閨蜜小珍妮佛當座上賓'"
      ]
     },
     "execution_count": 49,
     "metadata": {},
     "output_type": "execute_result"
    }
   ],
   "source": [
    "soup.select_one('h1').text"
   ]
  },
  {
   "cell_type": "code",
   "execution_count": 50,
   "metadata": {},
   "outputs": [
    {
     "data": {
      "text/plain": [
       "'美國36歲喜劇女星艾美舒默（Amy Schumer）與廚師克里斯費雪（Chris Fischer）交往僅數個月，美西時間周二在馬里布一棟傍海豪宅內完婚，邀請了80名親友觀禮，她的閨蜜「小珍妮佛」珍妮佛勞倫斯與新郎的友人傑克吉倫荷都是與會嘉賓。\\xa0艾美結婚當天請求所有賓客不要在社群網站上Po照片，所有人都配合照辦。但是婚訊昨經媒體披露後，她索性在IG自己發照，與大家分享她的喜悅。她穿著細肩帶Monique Lhuillier白色婚紗，婚紗上有精緻低調的蕾絲，美麗大方，她整個人更是散發出幸福光環。在場人士說，她與新郎擬的婚禮誓詞搞笑又動人，「讓大家笑得樂不可支」。\\xa0她閃婚消息曝光後，外界猜她可能懷孕，但她也在IG否認，「不，我沒有懷孕」，更呼籲如有好友想送禮，不如捐錢給每個推廣槍枝安全的機構。（李子凡／綜合報導）\\xa0看了這則新聞的人，也看了……安妮斯頓2年婚變\\u3000疑與前夫小布走太近【明星過年】林志玲停工後素顏首露面\\u3000網友催婚「就差言承旭」【央視春晚】舞棍級影帝抖神曲\\u3000黃渤碾壓陳偉霆張藝興'"
      ]
     },
     "execution_count": 50,
     "metadata": {},
     "output_type": "execute_result"
    }
   ],
   "source": [
    "soup.select_one('.ndArticle_margin p').text"
   ]
  },
  {
   "cell_type": "code",
   "execution_count": 52,
   "metadata": {},
   "outputs": [
    {
     "data": {
      "text/plain": [
       "'出版時間：2018/02/16 15:07'"
      ]
     },
     "execution_count": 52,
     "metadata": {},
     "output_type": "execute_result"
    }
   ],
   "source": [
    "soup.select_one('.ndArticle_creat').text"
   ]
  },
  {
   "cell_type": "code",
   "execution_count": 53,
   "metadata": {},
   "outputs": [
    {
     "data": {
      "text/plain": [
       "'994'"
      ]
     },
     "execution_count": 53,
     "metadata": {},
     "output_type": "execute_result"
    }
   ],
   "source": [
    "soup.select_one('.ndArticle_view').text"
   ]
  },
  {
   "cell_type": "code",
   "execution_count": 54,
   "metadata": {},
   "outputs": [
    {
     "data": {
      "text/plain": [
       "'娛樂'"
      ]
     },
     "execution_count": 54,
     "metadata": {},
     "output_type": "execute_result"
    }
   ],
   "source": [
    "soup.select_one('.ndgTag .current').text"
   ]
  },
  {
   "cell_type": "code",
   "execution_count": 60,
   "metadata": {},
   "outputs": [],
   "source": [
    "def parseArticle(url):\n",
    "    ret = {}\n",
    "    res = requests.get(url)\n",
    "    soup = BeautifulSoup(res.text, 'lxml')\n",
    "    ret['title'] = soup.select_one('h1').text\n",
    "    ret['content'] = soup.select_one('.ndArticle_margin p').text\n",
    "    ret['dt'] = soup.select_one('.ndArticle_creat').text\n",
    "    ret['viewcnt'] = soup.select_one('.ndArticle_view').text \\\n",
    "            if soup.select_one('.ndArticle_view') else 0\n",
    "    ret['category'] = soup.select_one('.ndgTag .current').text\n",
    "    return ret"
   ]
  },
  {
   "cell_type": "code",
   "execution_count": 61,
   "metadata": {},
   "outputs": [
    {
     "data": {
      "text/plain": [
       "{'category': '生活',\n",
       " 'content': '(更新：新增頭獎得主感言與照片、新增影片)大年初一百貨公司祭出新春福袋，讓民眾試手氣！高雄大立百貨今年以旺旺來福報新年為主題，推出每袋1688元，限量250份的的超值福袋，最大獎是價值10萬的「蘋果3C套餐」，由一名今年21歲、就讀護理系的女大生贏得，她說：「第一次買福袋就中獎，覺得太驚人啦！我統一發票已經連槓2年沒中獎，原來好運都用在今年了！」大立新春福袋最大獎是「APPLE一系列夢幻時尚套餐」，包括MACBook、IPad、Apple Watch、最新機型IPhoneX，總價值有10萬元，得獎幸運兒是目前就讀屏東美和科技大學護理系的大三生郭俐君，今年21歲的她表示，今早6點半就1個人到現場排隊，因為自己是蘋果3C迷，所以看到福袋獎項很心動，沒想到第一次買福袋就抽中頭獎。而已經連續2年統一發票兌獎都槓龜的郭俐君說：「抽到福袋頭獎，表示今年要開始轉運了！」對於獎品的用途，她表示，IPhoneX要送給媽媽，MACBook剛好自己今年7月實習的時候可以用，IPad和Apple Watch也會和家人一起分享使用。昨晚10點就有民眾排隊守歲買大立福袋，他低調不願具名，但表示因為大立福袋的中獎機率比較大，而且每份1688元還送名牌冬被，普獎的最低價值也有7000元，「感覺很划算！」今早10點開賣，他的太太帶著年約7歲的女兒到現場加油，希望爸爸能抽到大獎回家，可惜最後未能如願。\\xa0大立百貨公關表示，昨晚10點半就有民眾陸續排隊，到半夜12點時已排了8位，而今早8點現場估算已有超過500位，但福袋僅限量250份，10點半開始結帳，只能向沒買到福袋的民眾道歉。(曾珮瑛、楊適吾／高雄報導)出版時間 11:00更新時間 15:23',\n",
       " 'dt': '出版時間：2018/02/16 15:23',\n",
       " 'title': '【百貨福袋】準白衣天使超強運\\u3000首購獲蘋果3C套餐 \\u3000',\n",
       " 'viewcnt': '1188'}"
      ]
     },
     "execution_count": 61,
     "metadata": {},
     "output_type": "execute_result"
    }
   ],
   "source": [
    "parseArticle('https://tw.news.appledaily.com/life/realtime/20180216/1299556/')"
   ]
  },
  {
   "cell_type": "code",
   "execution_count": 62,
   "metadata": {},
   "outputs": [
    {
     "data": {
      "text/plain": [
       "{'category': '國際',\n",
       " 'content': '美國外交政策（Foreign Policy）雜誌報導，喬治城大學中國學生學者聯合會涉及收受中國政府資助，且充當中國政府眼線，監視當地的中國留學生。消息來源透露，根據喬治城大學中國學生學者聯合會（Georgetown University Chinese Students and Scholars Association）2011年文件顯示，中國駐美國大使館當時曾給予該會每學期800美元（約2.4萬台幣）的費用。根據報導，同樣在2011年至2012年，喬治城大學並沒有其他研究生組織收受外國政府的資助。報導指出，美國聯邦調查局長瑞伊（Chris Wray）13日出席年度公開聽證會時，曾有參議院情報委員會成員問到中國留學生對美國國安的威脅。瑞伊回答，利用非專業人士、特別是學術領域的教授、科學家還是學生蒐集情報，聯邦調查局在遍布全美的每個辦事處，都能看到。（大陸中心／綜合外電報導）',\n",
       " 'dt': '出版時間：2018/02/16 14:39',\n",
       " 'title': '美媒：中國使館資助留學生組織\\u3000充當眼線',\n",
       " 'viewcnt': '695'}"
      ]
     },
     "execution_count": 62,
     "metadata": {},
     "output_type": "execute_result"
    }
   ],
   "source": [
    "parseArticle('https://tw.news.appledaily.com/international/realtime/20180216/1299620/')"
   ]
  },
  {
   "cell_type": "markdown",
   "metadata": {},
   "source": [
    "## 抓取列表頁所有新聞"
   ]
  },
  {
   "cell_type": "code",
   "execution_count": 63,
   "metadata": {
    "collapsed": true
   },
   "outputs": [],
   "source": [
    "import requests\n",
    "from bs4 import BeautifulSoup\n",
    "res = requests.get('https://tw.appledaily.com/new/realtime')\n",
    "soup = BeautifulSoup(res.text, 'lxml')\n",
    "ary = []\n",
    "for news in soup.select('.rtddt a'):\n",
    "    ary.append(parseArticle(news['href']))"
   ]
  },
  {
   "cell_type": "code",
   "execution_count": 65,
   "metadata": {},
   "outputs": [
    {
     "data": {
      "text/plain": [
       "{'category': '生活',\n",
       " 'content': '大年初一，天氣暖和適合民眾出遊走春，雲林古坑劍湖山世界主題樂園，推出搭乘台灣好行或台西客運，憑票根享門票599元，如園遊客可參加博金活動，今日由區吸引1萬2千名遊客入園體驗。\\xa0劍湖山世界企劃專員陳詩璧表示，過年傳統習俗，民眾會在大年初一到廟宇走春祈福，大年初一劍湖山世界主題樂園入園人數達1萬2千人，較去年微幅成長，明日回娘家，過年期間預估入園遊客人潮最多是在初三、初四兩天。\\xa0古坑劍湖山世界周邊景點華山咖啡專區、綠色隧隧道、珍粉紅城堡水樣教堂，車流量正常交通順暢。斗南警分局指出，中午過後台一、雲158線出現出遊車潮，車多車速緩慢，部分路段出現擁塞，提醒駕駛小心開車，勿任意變換車道及搶快。(（李政遠／雲林報導）',\n",
       " 'dt': '出版時間：2018/02/16 15:55',\n",
       " 'title': '初一走春\\u3000劍湖山世界1.2萬遊客入園',\n",
       " 'viewcnt': 0}"
      ]
     },
     "execution_count": 65,
     "metadata": {},
     "output_type": "execute_result"
    }
   ],
   "source": [
    "ary[2]"
   ]
  },
  {
   "cell_type": "markdown",
   "metadata": {},
   "source": [
    "## 抓取所有圖片"
   ]
  },
  {
   "cell_type": "code",
   "execution_count": 68,
   "metadata": {},
   "outputs": [
    {
     "data": {
      "text/plain": [
       "'640_a33a16787a4f088e72ae9c375bd9b2de.jpg'"
      ]
     },
     "execution_count": 68,
     "metadata": {},
     "output_type": "execute_result"
    }
   ],
   "source": [
    "url = 'https://img.appledaily.com.tw/images/ReNews/20180216/640_a33a16787a4f088e72ae9c375bd9b2de.jpg'\n",
    "url.split('/')[-1]"
   ]
  },
  {
   "cell_type": "code",
   "execution_count": 70,
   "metadata": {},
   "outputs": [],
   "source": [
    "def parseImage(url):\n",
    "    res = requests.get(url)\n",
    "    soup = BeautifulSoup(res.text, 'lxml')\n",
    "    for img in soup.select('.ndArticle_margin img'):\n",
    "        imgurl = img['src']\n",
    "        res2 = requests.get(imgurl)\n",
    "        with open(imgurl.split('/')[-1], 'wb') as f:\n",
    "            f.write(res2.content)"
   ]
  },
  {
   "cell_type": "code",
   "execution_count": null,
   "metadata": {},
   "outputs": [],
   "source": [
    "import requests\n",
    "from bs4 import BeautifulSoup\n",
    "res = requests.get('https://tw.appledaily.com/new/realtime')\n",
    "soup = BeautifulSoup(res.text, 'lxml')\n",
    "\n",
    "for news in soup.select('.rtddt a'):\n",
    "    parseImage(news['href'])"
   ]
  },
  {
   "cell_type": "markdown",
   "metadata": {},
   "source": [
    "## 完成蘋果爬蟲"
   ]
  },
  {
   "cell_type": "code",
   "execution_count": 95,
   "metadata": {},
   "outputs": [
    {
     "name": "stdout",
     "output_type": "stream",
     "text": [
      "1\n",
      "2\n",
      "3\n",
      "4\n",
      "5\n"
     ]
    }
   ],
   "source": [
    "url = 'https://tw.appledaily.com/new/realtime/{}'\n",
    "ary  = []\n",
    "for i in range(1,6):\n",
    "    print(i)\n",
    "    res = requests.get(url.format(i))\n",
    "    soup = BeautifulSoup(res.text, 'lxml') \n",
    "    for news in soup.select('.rtddt a'):\n",
    "        ary.append(parseArticle(news['href']))"
   ]
  },
  {
   "cell_type": "code",
   "execution_count": 96,
   "metadata": {},
   "outputs": [
    {
     "data": {
      "text/plain": [
       "150"
      ]
     },
     "execution_count": 96,
     "metadata": {},
     "output_type": "execute_result"
    }
   ],
   "source": [
    "len(ary)"
   ]
  },
  {
   "cell_type": "code",
   "execution_count": 97,
   "metadata": {},
   "outputs": [
    {
     "data": {
      "text/plain": [
       "{'category': '財經地產',\n",
       " 'content': '刑事局日前公佈2017年國內詐欺案件高達兩萬多件，國人遭詐騙金額高達10億元以上，其中因網購延伸而來的電信與網路詐騙案比例更上看5成，顯見假網拍真詐財已成為不肖歹徒慣用伎倆。年節期間民眾開始網購伴手禮、添新衣、或換新行頭，此時網路釣客已蠢蠢欲動拼年終，勢科技提醒民眾NG上網行為，恐成駭客眼中肥羊。\\xa0趨勢科技點名「駭客最愛」3族群，NG習慣小心引狼入室。其中，1.剁手族：瘋搶新春網拍，想趁過年改頭換面的剁手族要小心，越來越多網路釣客會製作假冒購物網站結帳頁面，蒐集使用者信用卡資料，一旦剁手族失去理智填入真實卡號資訊，便可能落入駭客的魔爪中，人財兩失！除了假冒的購物網站外，也要小心含有「惡意連結和檔案」的假電子帳單與發票，近期有出現偽裝成貨運公司或網購業者佯稱要確認包裹或購買明細的郵件，但實際上隨附的連結卻是指向專門散布惡意程式的網站，若消費者不小心點開則可能進一步被騙取金錢、資訊，或是被植入病毒。\\xa02.愛玩客 : 瞄準下殺機票酒店，蓄勢待發開春出遊者要注意誤入偽造旅遊網站或誤觸提供虛構的住宿優惠和廉價機票假廣告，一旦信以為真，填入個資，優質飯店沒搶到，私密資訊卻可能遭不明人士利用與販賣了！\\xa03.小資族 : 存錢從省小錢開始，只要收到好康通知，滑鼠就失去理智的小資族們，要注意有一些網站專門提供假的好康優惠給訪客，同時於背後載入挖礦程式，根據統計這些惡意廣告出現的網站皆名列全球 15,000 大網站，可見影響人數可觀！[2]當心沒得到好康卻成為免費礦工！\\xa0另外趨勢科技同步提醒3大防護要點，助消費者遠離駭客過好年。1.確認網址連結：購物請找信譽良好的商家和知名網站，連上購物網站時，查看網址列上是否顯示「https://」字樣，同時也檢查網域名稱是否正確。\\xa02.網購專用信用卡：請勿採用現金或匯款的方式支付，盡量使用信用卡、現金卡或禮物卡支付並建議最好有一張網路購物專用的信用卡。並且謹慎注意在農曆春節期間、之前及之後信用卡對帳單的金額變化是否有任何可疑的活動或交易。\\xa03.安裝防護軟體保護電腦和行動裝置：妥善保護你的電腦和行動裝置，安裝一套防毒軟體並隨時保持作業系統更新，以修補任何可能的漏洞與防堵威脅。（蕭文康／台北報導）\\xa0',\n",
       " 'dt': '出版時間：2018/02/16 16:36',\n",
       " 'title': '剁手、愛玩客、小資3大族群要小心\\u3000駭客眼中肥羊',\n",
       " 'viewcnt': 0}"
      ]
     },
     "execution_count": 97,
     "metadata": {},
     "output_type": "execute_result"
    }
   ],
   "source": [
    "ary[0]"
   ]
  },
  {
   "cell_type": "code",
   "execution_count": 98,
   "metadata": {},
   "outputs": [
    {
     "data": {
      "text/html": [
       "<div>\n",
       "<style>\n",
       "    .dataframe thead tr:only-child th {\n",
       "        text-align: right;\n",
       "    }\n",
       "\n",
       "    .dataframe thead th {\n",
       "        text-align: left;\n",
       "    }\n",
       "\n",
       "    .dataframe tbody tr th {\n",
       "        vertical-align: top;\n",
       "    }\n",
       "</style>\n",
       "<table border=\"1\" class=\"dataframe\">\n",
       "  <thead>\n",
       "    <tr style=\"text-align: right;\">\n",
       "      <th></th>\n",
       "      <th>category</th>\n",
       "      <th>content</th>\n",
       "      <th>dt</th>\n",
       "      <th>title</th>\n",
       "      <th>viewcnt</th>\n",
       "    </tr>\n",
       "  </thead>\n",
       "  <tbody>\n",
       "    <tr>\n",
       "      <th>0</th>\n",
       "      <td>財經地產</td>\n",
       "      <td>刑事局日前公佈2017年國內詐欺案件高達兩萬多件，國人遭詐騙金額高達10億元以上，其中因網購...</td>\n",
       "      <td>出版時間：2018/02/16 16:36</td>\n",
       "      <td>剁手、愛玩客、小資3大族群要小心　駭客眼中肥羊</td>\n",
       "      <td>0</td>\n",
       "    </tr>\n",
       "    <tr>\n",
       "      <th>1</th>\n",
       "      <td>娛樂</td>\n",
       "      <td>(更新影片)過年是家家戶戶團圓的日子，但曹西平因為爸媽都過世了，跟不孝順父母的兄弟鬧翻後，就...</td>\n",
       "      <td>出版時間：2018/02/16 16:35</td>\n",
       "      <td>【明星過年】曹西平除夕一個人過　「泡麵拌著眼淚吃」</td>\n",
       "      <td>17258</td>\n",
       "    </tr>\n",
       "    <tr>\n",
       "      <th>2</th>\n",
       "      <td>生活</td>\n",
       "      <td>（新增：影片） 今天大年初一，國道3號南下大溪到龍潭段車從早塞到下午3時許，車速不到30公里...</td>\n",
       "      <td>出版時間：2018/02/16 16:29</td>\n",
       "      <td>【有片】國3大溪龍潭段壅塞稍解　時速可達100公里</td>\n",
       "      <td>94</td>\n",
       "    </tr>\n",
       "    <tr>\n",
       "      <th>3</th>\n",
       "      <td>娛樂</td>\n",
       "      <td>JET《命運好好玩》今大年初一節目中，告訴大家節目班底的命理老師以前從事什麼行業？星象專家小...</td>\n",
       "      <td>出版時間：2018/02/16 16:29</td>\n",
       "      <td>拉保險慘遭性騷擾　命理師悲憤轉行</td>\n",
       "      <td>0</td>\n",
       "    </tr>\n",
       "    <tr>\n",
       "      <th>4</th>\n",
       "      <td>社會</td>\n",
       "      <td>苗栗縣臺姓男子2016年12月1日，在竹南鎮環市路某棟大樓擔任擔任保全職務時，見妙齡女住戶「...</td>\n",
       "      <td>出版時間：2018/02/16 16:27</td>\n",
       "      <td>妙齡女夜半酒醉返家　色保全偷親臉代價6萬</td>\n",
       "      <td>0</td>\n",
       "    </tr>\n",
       "  </tbody>\n",
       "</table>\n",
       "</div>"
      ],
      "text/plain": [
       "  category                                            content  \\\n",
       "0     財經地產  刑事局日前公佈2017年國內詐欺案件高達兩萬多件，國人遭詐騙金額高達10億元以上，其中因網購...   \n",
       "1       娛樂  (更新影片)過年是家家戶戶團圓的日子，但曹西平因為爸媽都過世了，跟不孝順父母的兄弟鬧翻後，就...   \n",
       "2       生活  （新增：影片） 今天大年初一，國道3號南下大溪到龍潭段車從早塞到下午3時許，車速不到30公里...   \n",
       "3       娛樂  JET《命運好好玩》今大年初一節目中，告訴大家節目班底的命理老師以前從事什麼行業？星象專家小...   \n",
       "4       社會  苗栗縣臺姓男子2016年12月1日，在竹南鎮環市路某棟大樓擔任擔任保全職務時，見妙齡女住戶「...   \n",
       "\n",
       "                      dt                      title viewcnt  \n",
       "0  出版時間：2018/02/16 16:36    剁手、愛玩客、小資3大族群要小心　駭客眼中肥羊       0  \n",
       "1  出版時間：2018/02/16 16:35  【明星過年】曹西平除夕一個人過　「泡麵拌著眼淚吃」   17258  \n",
       "2  出版時間：2018/02/16 16:29  【有片】國3大溪龍潭段壅塞稍解　時速可達100公里      94  \n",
       "3  出版時間：2018/02/16 16:29           拉保險慘遭性騷擾　命理師悲憤轉行       0  \n",
       "4  出版時間：2018/02/16 16:27       妙齡女夜半酒醉返家　色保全偷親臉代價6萬       0  "
      ]
     },
     "execution_count": 98,
     "metadata": {},
     "output_type": "execute_result"
    }
   ],
   "source": [
    "newsdf = pandas.DataFrame(ary)\n",
    "newsdf.head()"
   ]
  },
  {
   "cell_type": "code",
   "execution_count": 100,
   "metadata": {},
   "outputs": [],
   "source": [
    "#newsdf.sort_values(['viewcnt'], ascending=False).head()"
   ]
  },
  {
   "cell_type": "code",
   "execution_count": 101,
   "metadata": {},
   "outputs": [],
   "source": [
    "stat = newsdf.groupby('category')['title'].count().sort_values(ascending = False)"
   ]
  },
  {
   "cell_type": "code",
   "execution_count": 102,
   "metadata": {},
   "outputs": [
    {
     "name": "stdout",
     "output_type": "stream",
     "text": [
      "Populating the interactive namespace from numpy and matplotlib\n"
     ]
    },
    {
     "data": {
      "text/plain": [
       "<matplotlib.axes._subplots.AxesSubplot at 0x18ff7f8e390>"
      ]
     },
     "execution_count": 102,
     "metadata": {},
     "output_type": "execute_result"
    },
    {
     "data": {
      "image/png": "[encoded data removed]",
      "text/plain": [
       "<matplotlib.figure.Figure at 0x18ff7f8ef60>"
      ]
     },
     "metadata": {},
     "output_type": "display_data"
    }
   ],
   "source": [
    "% pylab inline\n",
    "stat.plot(kind = 'bar')"
   ]
  },
  {
   "cell_type": "code",
   "execution_count": 104,
   "metadata": {},
   "outputs": [],
   "source": [
    "#newsdf.groupby('category')['viewcnt'].mean().sort_values(ascending = False)"
   ]
  },
  {
   "cell_type": "code",
   "execution_count": 105,
   "metadata": {
    "collapsed": true
   },
   "outputs": [],
   "source": [
    "newsdf.to_excel('news.xlsx')"
   ]
  },
  {
   "cell_type": "code",
   "execution_count": null,
   "metadata": {
    "collapsed": true
   },
   "outputs": [],
   "source": []
  }
 ],
 "metadata": {
  "kernelspec": {
   "display_name": "Python 3",
   "language": "python",
   "name": "python3"
  },
  "language_info": {
   "codemirror_mode": {
    "name": "ipython",
    "version": 3
   },
   "file_extension": ".py",
   "mimetype": "text/x-python",
   "name": "python",
   "nbconvert_exporter": "python",
   "pygments_lexer": "ipython3",
   "version": "3.6.3"
  }
 },
 "nbformat": 4,
 "nbformat_minor": 2
}
